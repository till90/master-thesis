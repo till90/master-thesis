{
 "cells": [
  {
   "cell_type": "markdown",
   "metadata": {},
   "source": [
    "Warp Radolan data to GTIFF "
   ]
  },
  {
   "cell_type": "code",
   "execution_count": 6,
   "metadata": {},
   "outputs": [
    {
     "name": "stdout",
     "output_type": "stream",
     "text": [
      "dest_src available\n"
     ]
    }
   ],
   "source": [
    "#Import Modules\n",
    "import wradlib as wrl\n",
    "import numpy as np\n",
    "import warnings\n",
    "warnings.filterwarnings('ignore')\n",
    "\n",
    "#Working dir\n",
    "wdir = \"/home/elisabeth/Dokumente/master/radolan_data/raw/\"\n",
    "file = \"raa01-sf_10000-1701012350-dwd---bin\"\n",
    "#Read the original data: data = 2d Array(row,col) and metadata (productType, datetime,nodataflag)\n",
    "#Origin in lower left corner\n",
    "data_raw, meta  = wrl.io.read_radolan_composite(wdir + file)\n",
    "\n",
    "#Round data to 2 decimal places to save memory\n",
    "data_raw_s = np.around(data_raw, decimals = 2, out = None)\n",
    "\n",
    "# Create Spatail Reference (Radolan projection)\n",
    "proj_osr = wrl.georef.create_osr(\"dwd-radolan\")\n",
    "\n",
    "#Load EPSG 3857 \n",
    "epsg_3857 = wrl.georef.epsg_to_osr(3857)\n",
    "\n",
    "# Get projected RADOLAN coordinates for corner definition\n",
    "#origin in lower left corner\n",
    "xy_raw = wrl.georef.get_radolan_grid(900, 900)\n",
    "\n",
    "#flip the data and the coords up-down (from lower left to upper left corner)\n",
    "data, xy = wrl.georef.set_raster_origin(data_raw, xy_raw, 'upper')\n",
    "\n",
    "#Create raster dataset: Geotiff with radolan projection\n",
    "ds = wrl.georef.create_raster_dataset(data, xy, projection=proj_osr)\n",
    "\n",
    "#Reproject dataset to EPSG 3857\n",
    "ds2 = wrl.georef.reproject_raster_dataset(ds,projection_target=epsg_3857, spacing=1000)\n",
    "#Bug appears it will fixed in future https://groups.google.com/forum/#!topic/wradlib-users/-dvRhDCjgV0\n",
    "#This line is needed until fixed\n",
    "ds2.SetProjection(epsg_3857.ExportToWkt())\n",
    "\n",
    "#write raster dataset\n",
    "filename = file[15:25] + \".tif\"\n",
    "wrl.io.write_raster_dataset(wdir + filename, ds2, \"GTiff\")\n",
    "#"
   ]
  }
 ],
 "metadata": {
  "kernelspec": {
   "display_name": "Python 3",
   "language": "python",
   "name": "python3"
  },
  "language_info": {
   "codemirror_mode": {
    "name": "ipython",
    "version": 3
   },
   "file_extension": ".py",
   "mimetype": "text/x-python",
   "name": "python",
   "nbconvert_exporter": "python",
   "pygments_lexer": "ipython3",
   "version": "3.7.3"
  }
 },
 "nbformat": 4,
 "nbformat_minor": 2
}
