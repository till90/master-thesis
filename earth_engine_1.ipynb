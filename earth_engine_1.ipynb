{
 "cells": [
  {
   "cell_type": "code",
   "execution_count": 1,
   "metadata": {},
   "outputs": [],
   "source": [
    "#https://developers.google.com/earth-engine/api_docs#eefeatureget\n",
    "import ee\n",
    "import datetime\n",
    "import IPython.display\n",
    "from IPython.display import Image\n",
    "import bqplot\n",
    "import ipywidgets\n",
    "import pprint\n",
    "pp = pprint.PrettyPrinter(indent=2) # for printing pretty idk what it is... print with pp.pprint(print stuff)\n",
    "import pandas as pd\n",
    "import geopandas as gpd\n",
    "import matplotlib.dates as mdates\n",
    "from matplotlib import dates\n",
    "%matplotlib inline\n",
    "from shapely.geometry import shape\n",
    "import skimage\n",
    "import traitlets\n",
    "import dateutil.parser\n",
    "import numpy as np\n",
    "import ipyleaflet\n",
    "from ipyleaflet import (LayersControl, basemaps, basemap_to_tiles, LayerGroup)\n",
    "\n",
    "def GetTileLayerUrl(ee_image_object):\n",
    "    map_id = ee.Image(ee_image_object).getMapId()\n",
    "    tile_url_template = \"https://earthengine.googleapis.com/map/{mapid}/{{z}}/{{x}}/{{y}}?token={token}\"\n",
    "    return tile_url_template.format(**map_id)\n",
    "\n",
    "\n",
    "# Initialize\n",
    "ee.Initialize()\n",
    "\n",
    "#To-Do\n"
   ]
  },
  {
   "cell_type": "code",
   "execution_count": 63,
   "metadata": {},
   "outputs": [],
   "source": [
    "# Dates\n",
    "startTime = datetime.datetime(2013,1,1)\n",
    "endTime = datetime.datetime(2019,5,1)\n",
    "\n",
    "# AOI\n",
    "ried = ee.FeatureCollection('users/tillmueller1990/ried_roi')\n",
    "germany = ee.Collection.loadTable('USDOS/LSIB_SIMPLE/2017').filterMetadata('country_co','equals','GM')\n",
    "germany_1 = ee.FeatureCollection('USDOS/LSIB_SIMPLE/2017').filter(ee.Filter.eq('country_na','Germany'))\n",
    "\n",
    "# Create an empty image into which to paint the features, cast to byte.\n",
    "empty = ee.Image().byte();\n",
    "\n",
    "# Paint all the polygon edges with the same number and width, display.\n",
    "germany_outline = empty.paint(germany, 1, 3)\n"
   ]
  },
  {
   "cell_type": "markdown",
   "metadata": {},
   "source": [
    "## Precipitaion Data (Radolan DWD)"
   ]
  },
  {
   "cell_type": "code",
   "execution_count": 19,
   "metadata": {},
   "outputs": [
    {
     "data": {
      "application/vnd.jupyter.widget-view+json": {
       "model_id": "d4e986172ad3478293e9057ddd1e00d6",
       "version_major": 2,
       "version_minor": 0
      },
      "text/plain": [
       "Map(basemap={'url': 'https://{s}.tile.openstreetmap.org/{z}/{x}/{y}.png', 'max_zoom': 19, 'attribution': 'Map …"
      ]
     },
     "metadata": {},
     "output_type": "display_data"
    }
   ],
   "source": [
    "#Load Radolan from Assest \n",
    "radolan = ee.ImageCollection('users/tillmueller1990/radolan/r_13_19')\n"
   ]
  },
  {
   "cell_type": "markdown",
   "metadata": {},
   "source": [
    "## Soil Moisture"
   ]
  },
  {
   "cell_type": "code",
   "execution_count": 15,
   "metadata": {},
   "outputs": [],
   "source": [
    "#Soil Moisture Datasets\n",
    "\n",
    "#NASA-USDA Global Soil Moisture Data / 3 days / 2010- 2019 / 0.25 arc degrees / SMOS lvl2 integrated into two-layer palmer model\n",
    "SMOS = ee.ImageCollection('NASA_USDA/HSL/soil_moisture')\n",
    "surface_moisture = SMOS.select('ssm') #units mm, min=0 max=25\n",
    "subsurface_moisture = SMOS.select('susm') #units: mm min=0, max=275\n",
    "moisture_profile = SMOS.select('smp') #units: fraction, min0, max 1\n",
    "\n",
    "#NASA-USDA SMAP Global Soil Moisture Data / 3 days / 2015 - 2019 / 0.25 arc degrees / SMAP level 3 + two-layer Palmer\n",
    "SMAP = ee.ImageCollection('NASA_USDA/HSL/SMAP_soil_moisture')\n",
    "\n",
    "#GLDAS-2.1: Global Land Data Assimilation System / 3 hours / 0.25 arc degrees / 2000 - 2019 / \n",
    "\n",
    "#Datasets"
   ]
  },
  {
   "cell_type": "markdown",
   "metadata": {},
   "source": [
    "## Corine Land Cover "
   ]
  },
  {
   "cell_type": "code",
   "execution_count": 69,
   "metadata": {},
   "outputs": [
    {
     "name": "stdout",
     "output_type": "stream",
     "text": [
      "5000\n"
     ]
    }
   ],
   "source": [
    "# Load last corine land cover image \n",
    "clc = ee.Image.load('COPERNICUS/CORINE/V18_5_1/100m/2012', -1)\n",
    "\n",
    "# Mask areas where soil moisture measurements valid (farmland cat.:11-17)\n",
    "clc_mask = clc.gte(11)and(clc.lte(17)) #binary map for updateMask\n",
    "clc = clc.updateMask(clc_mask) #set mask for not Farmland\n",
    "\n",
    "# Clip to extend of germany\n",
    "clc = clc.clip(germany_1) \n",
    "\n",
    "# Feature Collection of clc farmland cat.: 11-17 with 350m resolution\n",
    "clc_vector = clc.reduceToVectors(geometry=germany_1, crs=clc.projection(), scale=350, geometryType='polygon', eightConnected = False).limit(5000)\n",
    "pp.pprint(clc_vector.size().getInfo())"
   ]
  },
  {
   "cell_type": "markdown",
   "metadata": {},
   "source": [
    "## Iterate over ImageCollection returning pandas dataframe "
   ]
  },
  {
   "cell_type": "code",
   "execution_count": 127,
   "metadata": {},
   "outputs": [
    {
     "name": "stdout",
     "output_type": "stream",
     "text": [
      "{ 'bands': [ { 'crs': 'EPSG:4326',\n",
      "               'crs_transform': [0.25, 0.0, -180.0, 0.0, -0.25, 90.0],\n",
      "               'data_type': {'precision': 'float', 'type': 'PixelType'},\n",
      "               'dimensions': [1440, 600],\n",
      "               'id': 'ssm'},\n",
      "             { 'crs': 'EPSG:4326',\n",
      "               'crs_transform': [0.25, 0.0, -180.0, 0.0, -0.25, 90.0],\n",
      "               'data_type': {'precision': 'float', 'type': 'PixelType'},\n",
      "               'dimensions': [1440, 600],\n",
      "               'id': 'susm'},\n",
      "             { 'crs': 'EPSG:4326',\n",
      "               'crs_transform': [0.25, 0.0, -180.0, 0.0, -0.25, 90.0],\n",
      "               'data_type': {'precision': 'float', 'type': 'PixelType'},\n",
      "               'dimensions': [1440, 600],\n",
      "               'id': 'smp'},\n",
      "             { 'crs': 'EPSG:4326',\n",
      "               'crs_transform': [0.25, 0.0, -180.0, 0.0, -0.25, 90.0],\n",
      "               'data_type': {'precision': 'float', 'type': 'PixelType'},\n",
      "               'dimensions': [1440, 600],\n",
      "               'id': 'ssma'},\n",
      "             { 'crs': 'EPSG:4326',\n",
      "               'crs_transform': [0.25, 0.0, -180.0, 0.0, -0.25, 90.0],\n",
      "               'data_type': {'precision': 'float', 'type': 'PixelType'},\n",
      "               'dimensions': [1440, 600],\n",
      "               'id': 'susma'}],\n",
      "  'id': 'NASA_USDA/HSL/soil_moisture/NASA_USDA_SM20150102_20150104',\n",
      "  'properties': { 'ID': 'NASA_USDA_SM20150102_20150104',\n",
      "                  'system:asset_size': 4469233,\n",
      "                  'system:footprint': { 'coordinates': [ [-180.0, -90.0],\n",
      "                                                         [180.0, -90.0],\n",
      "                                                         [180.0, 90.0],\n",
      "                                                         [-180.0, 90.0],\n",
      "                                                         [-180.0, -90.0]],\n",
      "                                        'type': 'LinearRing'},\n",
      "                  'system:index': 'NASA_USDA_SM20150102_20150104',\n",
      "                  'system:time_end': 1420416000000.0,\n",
      "                  'system:time_start': 1420156800000.0},\n",
      "  'type': 'Image',\n",
      "  'version': 1539974614591301}\n"
     ]
    }
   ],
   "source": [
    "images = ee.Image('NASA_USDA/HSL/soil_moisture/NASA_USDA_SM20150102_20150104')\n",
    "pp.pprint(images.getInfo())"
   ]
  },
  {
   "cell_type": "code",
   "execution_count": 128,
   "metadata": {},
   "outputs": [
    {
     "name": "stdout",
     "output_type": "stream",
     "text": [
      "[ 'system:time_start',\n",
      "  'system:footprint',\n",
      "  'system:time_end',\n",
      "  'system:version',\n",
      "  'system:id',\n",
      "  'ID',\n",
      "  'system:asset_size',\n",
      "  'system:index',\n",
      "  'system:bands',\n",
      "  'system:band_names']\n",
      "[ 'NASA_USDA/HSL/soil_moisture/NASA_USDA_SM20150102_20150104',\n",
      "  'NASA_USDA/HSL/soil_moisture/NASA_USDA_SM20150105_20150107',\n",
      "  'NASA_USDA/HSL/soil_moisture/NASA_USDA_SM20150108_20150110',\n",
      "  'NASA_USDA/HSL/soil_moisture/NASA_USDA_SM20150111_20150113',\n",
      "  'NASA_USDA/HSL/soil_moisture/NASA_USDA_SM20150114_20150116']\n",
      "'NASA_USDA/HSL/soil_moisture/NASA_USDA_SM20150102_20150104'\n",
      "'NASA_USDA_SM20150102_20150104'\n",
      "0    {'type': 'Point', 'coordinates': [8.2348702509...\n",
      "1    {'type': 'Point', 'coordinates': [8.2412217218...\n",
      "Name: geometry, dtype: object\n"
     ]
    },
    {
     "ename": "TypeError",
     "evalue": "'module' object is not callable",
     "output_type": "error",
     "traceback": [
      "\u001b[0;31m---------------------------------------------------------------------------\u001b[0m",
      "\u001b[0;31mTypeError\u001b[0m                                 Traceback (most recent call last)",
      "\u001b[0;32m<ipython-input-128-bde14679e835>\u001b[0m in \u001b[0;36m<module>\u001b[0;34m\u001b[0m\n\u001b[1;32m     58\u001b[0m \u001b[0;31m#### Create Initial Pandas Dataframe\u001b[0m\u001b[0;34m\u001b[0m\u001b[0;34m\u001b[0m\u001b[0;34m\u001b[0m\u001b[0m\n\u001b[1;32m     59\u001b[0m \u001b[0mpp\u001b[0m\u001b[0;34m.\u001b[0m\u001b[0mpprint\u001b[0m\u001b[0;34m(\u001b[0m\u001b[0msm_id\u001b[0m\u001b[0;34m[\u001b[0m\u001b[0;36m0\u001b[0m\u001b[0;34m]\u001b[0m\u001b[0;34m)\u001b[0m\u001b[0;34m\u001b[0m\u001b[0;34m\u001b[0m\u001b[0m\n\u001b[0;32m---> 60\u001b[0;31m \u001b[0mdf_all\u001b[0m \u001b[0;34m=\u001b[0m \u001b[0mextract_point_values\u001b[0m\u001b[0;34m(\u001b[0m\u001b[0msm_id\u001b[0m\u001b[0;34m[\u001b[0m\u001b[0;36m0\u001b[0m\u001b[0;34m]\u001b[0m\u001b[0;34m,\u001b[0m \u001b[0mpoints\u001b[0m\u001b[0;34m)\u001b[0m\u001b[0;34m\u001b[0m\u001b[0;34m\u001b[0m\u001b[0m\n\u001b[0m\u001b[1;32m     61\u001b[0m \u001b[0mdf_all\u001b[0m \u001b[0;34m=\u001b[0m \u001b[0mdf_all\u001b[0m\u001b[0;34m.\u001b[0m\u001b[0mdrop\u001b[0m\u001b[0;34m(\u001b[0m\u001b[0;34m[\u001b[0m\u001b[0;36m0\u001b[0m\u001b[0;34m,\u001b[0m\u001b[0;36m1\u001b[0m\u001b[0;34m]\u001b[0m\u001b[0;34m)\u001b[0m\u001b[0;34m\u001b[0m\u001b[0;34m\u001b[0m\u001b[0m\n\u001b[1;32m     62\u001b[0m \u001b[0;34m\u001b[0m\u001b[0m\n",
      "\u001b[0;32m<ipython-input-128-bde14679e835>\u001b[0m in \u001b[0;36mextract_point_values\u001b[0;34m(img_id, pts)\u001b[0m\n\u001b[1;32m     40\u001b[0m     \u001b[0mfc_image_red\u001b[0m \u001b[0;34m=\u001b[0m \u001b[0mimage\u001b[0m\u001b[0;34m.\u001b[0m\u001b[0mreduceRegions\u001b[0m\u001b[0;34m(\u001b[0m\u001b[0mcollection\u001b[0m\u001b[0;34m=\u001b[0m\u001b[0mpts\u001b[0m\u001b[0;34m,\u001b[0m \u001b[0mreducer\u001b[0m\u001b[0;34m=\u001b[0m\u001b[0mee\u001b[0m\u001b[0;34m.\u001b[0m\u001b[0mReducer\u001b[0m\u001b[0;34m.\u001b[0m\u001b[0mmean\u001b[0m\u001b[0;34m(\u001b[0m\u001b[0;34m)\u001b[0m\u001b[0;34m,\u001b[0m \u001b[0mscale\u001b[0m\u001b[0;34m=\u001b[0m\u001b[0;36m350\u001b[0m\u001b[0;34m)\u001b[0m\u001b[0;34m\u001b[0m\u001b[0;34m\u001b[0m\u001b[0m\n\u001b[1;32m     41\u001b[0m     \u001b[0;31m# Convert to Pandas Dataframe\u001b[0m\u001b[0;34m\u001b[0m\u001b[0;34m\u001b[0m\u001b[0;34m\u001b[0m\u001b[0m\n\u001b[0;32m---> 42\u001b[0;31m     \u001b[0mdf_image_red\u001b[0m \u001b[0;34m=\u001b[0m \u001b[0mfc2df\u001b[0m\u001b[0;34m(\u001b[0m\u001b[0mfc_image_red\u001b[0m\u001b[0;34m)\u001b[0m\u001b[0;34m\u001b[0m\u001b[0;34m\u001b[0m\u001b[0m\n\u001b[0m\u001b[1;32m     43\u001b[0m     \u001b[0;31m# Add Date as Variable\u001b[0m\u001b[0;34m\u001b[0m\u001b[0;34m\u001b[0m\u001b[0;34m\u001b[0m\u001b[0m\n\u001b[1;32m     44\u001b[0m     \u001b[0mdf_image_red\u001b[0m\u001b[0;34m[\u001b[0m\u001b[0;34m'date'\u001b[0m\u001b[0;34m]\u001b[0m \u001b[0;34m=\u001b[0m \u001b[0mimage\u001b[0m\u001b[0;34m.\u001b[0m\u001b[0mgetInfo\u001b[0m\u001b[0;34m(\u001b[0m\u001b[0;34m)\u001b[0m\u001b[0;34m[\u001b[0m\u001b[0;34m'properties'\u001b[0m\u001b[0;34m]\u001b[0m\u001b[0;34m[\u001b[0m\u001b[0;34m'ID'\u001b[0m\u001b[0;34m]\u001b[0m\u001b[0;34m\u001b[0m\u001b[0;34m\u001b[0m\u001b[0m\n",
      "\u001b[0;32m<ipython-input-128-bde14679e835>\u001b[0m in \u001b[0;36mfc2df\u001b[0;34m(fc)\u001b[0m\n\u001b[1;32m     30\u001b[0m     \u001b[0mpp\u001b[0m\u001b[0;34m.\u001b[0m\u001b[0mpprint\u001b[0m\u001b[0;34m(\u001b[0m\u001b[0mdf\u001b[0m\u001b[0;34m.\u001b[0m\u001b[0mgeometry\u001b[0m\u001b[0;34m)\u001b[0m\u001b[0;34m\u001b[0m\u001b[0;34m\u001b[0m\u001b[0m\n\u001b[1;32m     31\u001b[0m     \u001b[0;31m# Convert GeoJSON features to shape\u001b[0m\u001b[0;34m\u001b[0m\u001b[0;34m\u001b[0m\u001b[0;34m\u001b[0m\u001b[0m\n\u001b[0;32m---> 32\u001b[0;31m     \u001b[0mdf\u001b[0m\u001b[0;34m[\u001b[0m\u001b[0;34m'geometry'\u001b[0m\u001b[0;34m]\u001b[0m \u001b[0;34m=\u001b[0m \u001b[0mmap\u001b[0m\u001b[0;34m(\u001b[0m\u001b[0;32mlambda\u001b[0m \u001b[0ms\u001b[0m\u001b[0;34m:\u001b[0m \u001b[0ms\u001b[0m\u001b[0;34m.\u001b[0m\u001b[0mshape\u001b[0m\u001b[0;34m(\u001b[0m\u001b[0;34m)\u001b[0m\u001b[0;34m,\u001b[0m \u001b[0mdf\u001b[0m\u001b[0;34m.\u001b[0m\u001b[0mgeometry\u001b[0m\u001b[0;34m)\u001b[0m\u001b[0;34m\u001b[0m\u001b[0;34m\u001b[0m\u001b[0m\n\u001b[0m\u001b[1;32m     33\u001b[0m     \u001b[0;32mreturn\u001b[0m \u001b[0mdf\u001b[0m\u001b[0;34m\u001b[0m\u001b[0;34m\u001b[0m\u001b[0m\n\u001b[1;32m     34\u001b[0m \u001b[0;34m\u001b[0m\u001b[0m\n",
      "\u001b[0;31mTypeError\u001b[0m: 'module' object is not callable"
     ]
    }
   ],
   "source": [
    "#Geometrys, Regions\n",
    "points = ee.FeatureCollection([\n",
    "            ee.Feature(ee.Geometry.Point(8.234870250943459,49.80831604635797)),\n",
    "            ee.Feature(ee.Geometry.Point(8.241221721890724,49.6585087644599)),\n",
    "            ])\n",
    "point = ee.Feature(ee.Geometry.Point(8.234870250943459,49.80831604635797))\n",
    "\n",
    "#Time\n",
    "start,end = datetime.datetime(2015,1,1),datetime.datetime(2016,1,1)\n",
    "#Source Dataset\n",
    "sm = surface_moisture.filterDate(start,end)\n",
    "\n",
    "# Function Convert a FeatureCollection into a pandas DataFrame; Features is a list of dict with the output\n",
    "def fc2df(fc):\n",
    "    # Convert a FeatureCollection into a pandas DataFrame\n",
    "    # Features is a list of dict with the output\n",
    "    features = fc.getInfo()['features']\n",
    "\n",
    "    dictarr = []\n",
    "\n",
    "    for f in features:\n",
    "        # Store all attributes in a dict\n",
    "        attr = f['properties']\n",
    "        # and treat geometry separately\n",
    "        attr['geometry'] = f['geometry']  # GeoJSON Feature!\n",
    "        #attr['geometrytype'] = f['geometry']['type']\n",
    "        dictarr.append(attr)\n",
    "\n",
    "    df = gpd.GeoDataFrame(dictarr)\n",
    "    pp.pprint(df.geometry)\n",
    "    # Convert GeoJSON features to shape\n",
    "    #WAS GENAU PASSIER HIER map lambda???\n",
    "    df['geometry'] = map(lambda s: shape(), df.geometry)    \n",
    "    return df\n",
    "\n",
    "# Function to iterate over image collection, returning a pandas dataframe\n",
    "def extract_point_values(img_id, pts):\n",
    "    image = ee.Image(img_id)\n",
    "    pp.pprint(image.getInfo()['properties']['ID'])\n",
    "    #Ad reducer output to the Features in the collection.\n",
    "    fc_image_red = image.reduceRegions(collection=pts, reducer=ee.Reducer.mean(), scale=350)\n",
    "    # Convert to Pandas Dataframe\n",
    "    df_image_red = fc2df(fc_image_red)\n",
    "    # Add Date as Variable\n",
    "    df_image_red['date'] = image.getInfo()['properties']['ID']\n",
    "    return df_image_red\n",
    "\n",
    "#List of image propertys \n",
    "sm_prop = surface_moisture.first().propertyNames().getInfo()\n",
    "pp.pprint(sm_prop)\n",
    "\n",
    "#Get propertie from every image to a List\n",
    "sm_id = [] #empty list\n",
    "for f in sm.getInfo()['features']: \n",
    "    image_id = str('NASA_USDA/HSL/soil_moisture/') + f['properties']['ID']#.encode('ascii', 'ignore')\n",
    "    sm_id.append(image_id)\n",
    "pp.pprint(sm_id[0:5])\n",
    "\n",
    "#### Create Initial Pandas Dataframe\n",
    "pp.pprint(sm_id[0])\n",
    "df_all = extract_point_values(sm_id[0], points)\n",
    "df_all = df_all.drop([0,1])\n",
    "\n",
    "#### Iterate over all impages\n",
    "for i in sm_id:\n",
    "    df_all = df_all.append(extract_point_values(i, points))\n",
    "\n",
    "#### Display Results\n",
    "pp.pprint(df_all) \n",
    "\n",
    "#Get Pixel for points maybe polygons? Value must be a regional reducer over polygon ; \n"
   ]
  },
  {
   "cell_type": "markdown",
   "metadata": {},
   "source": [
    "## Soil Moisture from Sentinel 1"
   ]
  },
  {
   "cell_type": "code",
   "execution_count": null,
   "metadata": {},
   "outputs": [],
   "source": [
    "#Derived from Sentinel 1 A/B 2014-10 - Present\n",
    "s1 = ee.ImageCollection('COPERNICUS/S1_GRD')\n"
   ]
  },
  {
   "cell_type": "markdown",
   "metadata": {},
   "source": [
    "## Viewer"
   ]
  },
  {
   "cell_type": "code",
   "execution_count": 61,
   "metadata": {},
   "outputs": [
    {
     "data": {
      "application/vnd.jupyter.widget-view+json": {
       "model_id": "bdd897ae550d42e0a284048715afafa5",
       "version_major": 2,
       "version_minor": 0
      },
      "text/plain": [
       "Map(basemap={'url': 'https://{s}.tile.openstreetmap.org/{z}/{x}/{y}.png', 'max_zoom': 19, 'attribution': 'Map …"
      ]
     },
     "metadata": {},
     "output_type": "display_data"
    }
   ],
   "source": [
    "#Visualization Parameters\n",
    "dark_matter_layer = basemap_to_tiles(basemaps.CartoDB.DarkMatter)\n",
    "germany_viz = GetTileLayerUrl(germany_outline.visualize())\n",
    "#radolan_viz = GetTileLayerUrl(radolan.visualize(min=0,max=40,bands=['b1']))\n",
    "clc_viz = GetTileLayerUrl(clc.visualize(min=0,max=7,palette=['FFE6FF','FFFFA8','FFFF00','E6E600','E68000','F2A64D','E6A600']))\n",
    "clc_vector_viz = GetTileLayerUrl(clc_vector.draw(color='red').visualize())\n",
    "#surface_moisture_viz = GetTileLayerUrl(surface_moisture.visualize(min=0,max=28,palette=['0300ff', '418504', 'efff07', 'efff07', 'ff0303']))\n",
    "\n",
    "# Create layer group\n",
    "layer_group = LayerGroup(layers=(ipyleaflet.TileLayer(url=clc_viz,name='Corine Land Cover 2012'), \n",
    "                                 ipyleaflet.TileLayer(url=germany_viz, name='german boundary'), \n",
    "                                 ipyleaflet.TileLayer(url=clc_vector_viz, name='clc_vector')\n",
    "                                 #ipyleaflet.TileLayer(url=surface_moisture_viz, name='GSMD surface moisture')\n",
    "                                ))\n",
    "\n",
    "#Map options\n",
    "center,zoom = [12.727661, 51.229822],4\n",
    "\n",
    "#Interactive Visualizations\n",
    "map1 = ipyleaflet.Map(layer =dark_matter_layer, center=center, zoom=zoom, layout={'height' : '400px'})\n",
    "dc = ipyleaflet.DrawControl()\n",
    "map1.add_control(dc)\n",
    "map1.add_layer(layer_group)\n",
    "map1.add_control(LayersControl())\n",
    "map1\n"
   ]
  },
  {
   "cell_type": "code",
   "execution_count": 31,
   "metadata": {},
   "outputs": [
    {
     "data": {
      "text/plain": [
       "{'type': 'Feature',\n",
       " 'properties': {'style': {'shapeOptions': {},\n",
       "   'stroke': True,\n",
       "   'color': '#3388ff',\n",
       "   'weight': 4,\n",
       "   'opacity': 0.5,\n",
       "   'fill': True,\n",
       "   'fillColor': None,\n",
       "   'fillOpacity': 0.2,\n",
       "   'clickable': True,\n",
       "   'zIndexOffset': 2000,\n",
       "   'icon': {'options': {}, '_initHooksCalled': True},\n",
       "   'repeatMode': False}},\n",
       " 'geometry': {'type': 'Point', 'coordinates': [12.727661, 51.229822]}}"
      ]
     },
     "execution_count": 31,
     "metadata": {},
     "output_type": "execute_result"
    }
   ],
   "source": [
    "#Get Coordinates from Drawn Geometry\n",
    "dc.last_draw"
   ]
  },
  {
   "cell_type": "code",
   "execution_count": null,
   "metadata": {},
   "outputs": [],
   "source": [
    "#Command Collection\n",
    ".size().getInfo() # Get collection size\n",
    ".bandNames().getInfo() # Get List with alls Bands from ee.Image not ImageCollection\n",
    ".geometry().bounds().getInfo() # get Geometry of a Feature // Get bounding box of this geometry\n",
    "\n",
    "#Vectorizing\n",
    "var vectors = zones.addBands(nl2012).reduceToVectors({\n",
    "  geometry: FeatureCollection,\n",
    "  crs: image.projection(),\n",
    "  scale: 1000,\n",
    "  geometryType: 'polygon',\n",
    "  eightConnected: false,\n",
    "  labelProperty: 'zone',\n",
    "  reducer: ee.Reducer.mean()\n",
    "});\n",
    "\n",
    "#Masking\n",
    ".clip(feature)\n",
    "var image = ee.Image\n",
    "var mask = image.gte(2).and(lt(5))\n",
    "var maskedImage = image.updateMask(mask)\n",
    "\n",
    "#Visualizations\n",
    "thumbnail_url = image.getThumbUrl({\n",
    "    'bands' : '',\n",
    "    'min' : ,\n",
    "    'max' : ,\n",
    "    'region' : .geometry().bounds().getInfo() #must be a geojson \n",
    "})\n",
    "IPython.display.HTML('Thumnail URL: <a href={0}>{0}</a>'.format(thumbnail_url)) #create url to view\n",
    "IPython.display.Image(url=thumbnail_url) # view direct in notebook\n",
    "\n",
    "#Interactive Visualizations\n",
    "import ipyleaflet\n",
    "map1 = ipyleaflet.Map(zoom=3, layout={'height' : '400px'})\n",
    "dc = ipyleaflet.DrawControl()\n",
    "map1.add_control(dc)\n",
    "map1\n",
    "dc.last_draw # gives information about the last drawn polygon (coordinates etc.)\n",
    "\n",
    "#Function to create a tile layer urlfrom an gee image object\n",
    "def GetTileLayerUrl(ee_image_object):\n",
    "    map_id = ee.Image(ee_image_object).getMapId()\n",
    "    tile_url_template = \"https://earthengine.googleapis.com/map/{mapid}/{{z}}/{{x}}/{{y}}?token={token}\"\n",
    "    return tile_url_template.format(**map_id)\n",
    "\n",
    "#style the image\n",
    "tile_url = GetTileLayerUrl(image.visualize(min=0, max=3000, gamma=1.5, bands=['','','']))\n",
    "map1.add_layer(ipyleaflet.TileLayer(url=tile_url))\n",
    "#or create layer groups "
   ]
  },
  {
   "cell_type": "code",
   "execution_count": 13,
   "metadata": {},
   "outputs": [
    {
     "name": "stdout",
     "output_type": "stream",
     "text": [
      "                     ssm\n",
      "2018-01-01 01:00:00  NaN\n",
      "2018-01-04 01:00:00  NaN\n",
      "2018-01-07 01:00:00  NaN\n",
      "2018-01-10 01:00:00  NaN\n",
      "2018-01-13 01:00:00  NaN\n",
      "2018-01-16 01:00:00  NaN\n",
      "2018-01-19 01:00:00  NaN\n",
      "2018-01-22 01:00:00  NaN\n",
      "2018-01-25 01:00:00  NaN\n",
      "2018-01-28 01:00:00  NaN\n"
     ]
    }
   ],
   "source": [
    "import pandas as pd\n",
    "import numpy as np\n",
    "from datetime import datetime as dt\n",
    "import ee\n",
    "\n",
    "\n",
    "def extract_time_series(lat, lon, start, end, product_name, band_name, sf):\n",
    "\n",
    "    # Set up point geometry\n",
    "    point = ee.Geometry.Point(lon, lat)\n",
    "\n",
    "    # Obtain image collection for all images within query dates\n",
    "    coll = ee.ImageCollection(product_name)\\\n",
    "        .filterDate(start, end)\n",
    "\n",
    "    # Get list of images which correspond with the above\n",
    "    images = [item.get('id') for item in coll.getInfo().get('features')]\n",
    "\n",
    "    store = []\n",
    "    date_store = []\n",
    "\n",
    "    # Loop over all images and extract pixel value\n",
    "    for image in images:\n",
    "\n",
    "        im = ee.Image(image)\n",
    "        projection = im.projection().getInfo()['crs']\n",
    "\n",
    "        # Obtain date from timestamp in metadata\n",
    "        date = dt.fromtimestamp(im.get(\"system:time_start\").getInfo() / 1000.)\n",
    "        date_store.append(np.datetime64(date))\n",
    "\n",
    "        # Extract pixel value\n",
    "        data = im.select(band_name)\\\n",
    "        .reduceRegion(ee.Reducer.first(),\n",
    "                      point,\n",
    "                      1,\n",
    "                      crs=projection)\\\n",
    "        .get(band_name)\n",
    "\n",
    "        store.append(data.getInfo())\n",
    "\n",
    "    # Scale the returned data based on scale factor\n",
    "    store = [x * sf if isinstance(x, int) else np.nan for x in store]\n",
    "\n",
    "    # Convert output into pandas data frame\n",
    "    df = pd.DataFrame(index=date_store, data=store, columns=[band_name])\n",
    "\n",
    "    return print(df)\n",
    "\n",
    "\n",
    "if __name__ == \"__main__\":\n",
    "\n",
    "    ee.Initialize()\n",
    "\n",
    "    latitude = 49.808\n",
    "    longitude = 8.234\n",
    "    start_date = '2018-01-01'\n",
    "    end_date = '2018-01-31'\n",
    "    product = 'NASA_USDA/HSL/soil_moisture' \n",
    "    band = 'ssm'\n",
    "    scale_factor = 1\n",
    "\n",
    "    # Extract data and obtain pd.DataFrame\n",
    "    output = extract_time_series(latitude,\n",
    "                                 longitude,\n",
    "                                 start_date,\n",
    "                                 end_date,\n",
    "                                 product,\n",
    "                                 band,\n",
    "                                 scale_factor)\n"
   ]
  },
  {
   "cell_type": "code",
   "execution_count": 4,
   "metadata": {},
   "outputs": [],
   "source": [
    "from ipygee import *\n"
   ]
  },
  {
   "cell_type": "code",
   "execution_count": 106,
   "metadata": {},
   "outputs": [
    {
     "ename": "KeyError",
     "evalue": "'LANDSAT_SCENE_ID'",
     "output_type": "error",
     "traceback": [
      "\u001b[0;31m---------------------------------------------------------------------------\u001b[0m",
      "\u001b[0;31mKeyError\u001b[0m                                  Traceback (most recent call last)",
      "\u001b[0;32m<ipython-input-106-264e89bc905f>\u001b[0m in \u001b[0;36m<module>\u001b[0;34m\u001b[0m\n\u001b[1;32m     52\u001b[0m \u001b[0msm_id\u001b[0m \u001b[0;34m=\u001b[0m \u001b[0;34m[\u001b[0m\u001b[0;34m]\u001b[0m\u001b[0;34m\u001b[0m\u001b[0;34m\u001b[0m\u001b[0m\n\u001b[1;32m     53\u001b[0m \u001b[0;32mfor\u001b[0m \u001b[0mf\u001b[0m \u001b[0;32min\u001b[0m \u001b[0msm\u001b[0m\u001b[0;34m.\u001b[0m\u001b[0mgetInfo\u001b[0m\u001b[0;34m(\u001b[0m\u001b[0;34m)\u001b[0m\u001b[0;34m[\u001b[0m\u001b[0;34m'features'\u001b[0m\u001b[0;34m]\u001b[0m\u001b[0;34m:\u001b[0m\u001b[0;34m\u001b[0m\u001b[0;34m\u001b[0m\u001b[0m\n\u001b[0;32m---> 54\u001b[0;31m   \u001b[0mimage_id\u001b[0m \u001b[0;34m=\u001b[0m \u001b[0mf\u001b[0m\u001b[0;34m[\u001b[0m\u001b[0;34m'properties'\u001b[0m\u001b[0;34m]\u001b[0m\u001b[0;34m[\u001b[0m\u001b[0;34m'LANDSAT_SCENE_ID'\u001b[0m\u001b[0;34m]\u001b[0m\u001b[0;34m.\u001b[0m\u001b[0mencode\u001b[0m\u001b[0;34m(\u001b[0m\u001b[0;34m'ascii'\u001b[0m\u001b[0;34m,\u001b[0m \u001b[0;34m'ignore'\u001b[0m\u001b[0;34m)\u001b[0m\u001b[0;34m\u001b[0m\u001b[0;34m\u001b[0m\u001b[0m\n\u001b[0m\u001b[1;32m     55\u001b[0m   \u001b[0mimage_id\u001b[0m \u001b[0;34m=\u001b[0m \u001b[0;34m'LANDSAT/LC8_L1T/'\u001b[0m \u001b[0;34m+\u001b[0m \u001b[0mimage_id\u001b[0m\u001b[0;34m\u001b[0m\u001b[0;34m\u001b[0m\u001b[0m\n\u001b[1;32m     56\u001b[0m   \u001b[0ml8_id\u001b[0m\u001b[0;34m.\u001b[0m\u001b[0mappend\u001b[0m\u001b[0;34m(\u001b[0m\u001b[0mimage_id\u001b[0m\u001b[0;34m)\u001b[0m\u001b[0;34m\u001b[0m\u001b[0;34m\u001b[0m\u001b[0m\n",
      "\u001b[0;31mKeyError\u001b[0m: 'LANDSAT_SCENE_ID'"
     ]
    }
   ],
   "source": [
    "# ==========================================================================\n",
    "# Function to Convert Feature Classes to Pandas Dataframe\n",
    "# Adapted from: https://events.hpc.grnet.gr/event/47/material/1/12.py\n",
    "def fc2df(fc):\n",
    "    # Convert a FeatureCollection into a pandas DataFrame\n",
    "    # Features is a list of dict with the output\n",
    "    features = fc.getInfo()['features']\n",
    "\n",
    "    dictarr = []\n",
    "\n",
    "    for f in features:\n",
    "        # Store all attributes in a dict\n",
    "        attr = f['properties']\n",
    "        # and treat geometry separately\n",
    "        attr['geometry'] = f['geometry']  # GeoJSON Feature!\n",
    "        # attr['geometrytype'] = f['geometry']['type']\n",
    "        dictarr.append(attr)\n",
    "\n",
    "    df = gpd.GeoDataFrame(dictarr)\n",
    "    # Convert GeoJSON features to shape\n",
    "    df['geometry'] = map(lambda s: shape(s), df.geometry)    \n",
    "    return df\n",
    "\n",
    "# ==========================================================================\n",
    "# Function to iterate over image collection, returning a pandas dataframe\n",
    "def extract_point_values(img_id, pts):\n",
    "    image = ee.Image(img_id)\n",
    "\n",
    "    fc_image_red = image.reduceRegions(collection=pts,\n",
    "                                  reducer=ee.Reducer.mean(),\n",
    "                                  scale=30)\n",
    "\n",
    "    # Convert to Pandas Dataframe\n",
    "    df_image_red = fc2df(fc_image_red)\n",
    "\n",
    "    # Add Date as Variable\n",
    "    df_image_red['date'] = image.getInfo()['properties']['DATE_ACQUIRED']\n",
    "\n",
    "    return df_image_red\n",
    "\n",
    "# ==========================================================================\n",
    "#### Make Points\n",
    "points = ee.FeatureCollection([\n",
    "            ee.Feature(ee.Geometry.Point(8.234870250943459,49.80831604635797)),\n",
    "            ee.Feature(ee.Geometry.Point(8.241221721890724,49.6585087644599)),\n",
    "            ])\n",
    "\n",
    "#### Load Raster\n",
    "sm = surface_moisture\n",
    "\n",
    "#### Make list of image IDs\n",
    "sm_id = []\n",
    "for f in sm.getInfo()['features']:\n",
    "  image_id = f['properties']['LANDSAT_SCENE_ID'].encode('ascii', 'ignore')\n",
    "  image_id = 'LANDSAT/LC8_L1T/' + image_id\n",
    "  l8_id.append(image_id)\n",
    "\n",
    "#### Create Initial Pandas Dataframe\n",
    "df_all = extract_point_values(l8_id[0], points)\n",
    "df_all = df_all.drop([0,1])\n",
    "\n",
    "#### Iterate over all impages\n",
    "for i in l8_id:\n",
    "    df_all = df_all.append(extract_point_values(i, points))\n",
    "\n",
    "#### Display Results\n",
    "df_all    "
   ]
  }
 ],
 "metadata": {
  "kernelspec": {
   "display_name": "Python 3",
   "language": "python",
   "name": "python3"
  },
  "language_info": {
   "codemirror_mode": {
    "name": "ipython",
    "version": 3
   },
   "file_extension": ".py",
   "mimetype": "text/x-python",
   "name": "python",
   "nbconvert_exporter": "python",
   "pygments_lexer": "ipython3",
   "version": "3.7.3"
  }
 },
 "nbformat": 4,
 "nbformat_minor": 2
}
