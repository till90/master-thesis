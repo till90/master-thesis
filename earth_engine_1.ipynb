{
 "cells": [
  {
   "cell_type": "code",
   "execution_count": 6,
   "metadata": {},
   "outputs": [],
   "source": [
    "#https://developers.google.com/earth-engine/api_docs#eefeatureget\n",
    "import ee\n",
    "import datetime\n",
    "import IPython.display\n",
    "import bqplot\n",
    "import ipywidgets\n",
    "import pprint\n",
    "pp = pprint.PrettyPrinter(indent=2) # for printing pretty idk what it is... print with pp.pprint(print stuff)\n",
    "import pandas as pd\n",
    "import traitlets\n",
    "import dateutil.parser\n",
    "import numpy as np\n",
    "import ipyleaflet\n",
    "\n",
    "def GetTileLayerUrl(ee_image_object):\n",
    "    map_id = ee.Image(ee_image_object).getMapId()\n",
    "    tile_url_template = \"https://earthengine.googleapis.com/map/{mapid}/{{z}}/{{x}}/{{y}}?token={token}\"\n",
    "    return tile_url_template.format(**map_id)\n",
    "\n",
    "\n",
    "# Initialize\n",
    "ee.Initialize()\n",
    "\n",
    "#To-Do\n",
    "# Radolan wurde nicht richtig projeziert - entweder neu erstellen uploaden usw. oder einfach die datenbank nutzen "
   ]
  },
  {
   "cell_type": "code",
   "execution_count": 16,
   "metadata": {},
   "outputs": [],
   "source": [
    "# Dates\n",
    "startTime = datetime.datetime(2013,1,1)\n",
    "endTime = datetime.datetime(2019,5,1)\n",
    "\n",
    "# AOI\n",
    "ried = ee.Collection.loadTable('users/tillmueller1990/ried_roi')\n",
    "germany = ee.Collection.loadTable('USDOS/LSIB_SIMPLE/2017').filterMetadata('country_co','equals','GM')\n",
    "\n",
    "# Create an empty image into which to paint the features, cast to byte.\n",
    "empty = ee.Image().byte();\n",
    "\n",
    "# Paint all the polygon edges with the same number and width, display.\n",
    "outline = empty.paint(germany, 1, 3)\n"
   ]
  },
  {
   "cell_type": "markdown",
   "metadata": {},
   "source": [
    "## Precipitaion Data (Radolan DWD)"
   ]
  },
  {
   "cell_type": "code",
   "execution_count": 19,
   "metadata": {},
   "outputs": [
    {
     "data": {
      "application/vnd.jupyter.widget-view+json": {
       "model_id": "d4e986172ad3478293e9057ddd1e00d6",
       "version_major": 2,
       "version_minor": 0
      },
      "text/plain": [
       "Map(basemap={'url': 'https://{s}.tile.openstreetmap.org/{z}/{x}/{y}.png', 'max_zoom': 19, 'attribution': 'Map …"
      ]
     },
     "metadata": {},
     "output_type": "display_data"
    }
   ],
   "source": [
    "#Load Radolan from Assest \n",
    "radolan = ee.ImageCollection('users/tillmueller1990/radolan/r_13_19')\n",
    "radolan_url = GetTileLayerUrl(radolan.first().visualize(min=0,max=3,gamma=1.5,bands=['b1']))\n",
    "germany_url = GetTileLayerUrl(outline.visualize(palette= 'FF0000'))\n",
    "#View the radolan Image Interactivly\n",
    "map1 = ipyleaflet.Map(zoom=3, layout={'height' : '400px'})\n",
    "dc = ipyleaflet.DrawControl()\n",
    "map1.add_control(dc)\n",
    "#map1.add_layer(ipyleaflet.TileLayer(url=radolan_url))\n",
    "map1.add_layer(ipyleaflet.TileLayer(url=germany_url))\n",
    "map1"
   ]
  },
  {
   "cell_type": "code",
   "execution_count": null,
   "metadata": {},
   "outputs": [],
   "source": [
    "dc.last_draw"
   ]
  },
  {
   "cell_type": "markdown",
   "metadata": {},
   "source": [
    "## Corine Land Cover "
   ]
  },
  {
   "cell_type": "code",
   "execution_count": null,
   "metadata": {},
   "outputs": [],
   "source": [
    "# Load last corine land cover image \n",
    "clc = ee.Image.load('COPERNICUS/CORINE/V18_5_1/100m/2012', -1)\n",
    "# Mask areas where soil moisture measurements valid (farmland)\n",
    "clc_mask = clc.gte(11)and(clc.lte(17)) #binary map for updateMask\n",
    "clc = clc.updateMask(clc_mask) #set mask for note Farmland\n",
    "\n",
    "s1 = ee.ImageCollection('COPERNICUS/S1_GRD')\n",
    "print(clc.getInfo(),radolan,)"
   ]
  },
  {
   "cell_type": "code",
   "execution_count": null,
   "metadata": {},
   "outputs": [],
   "source": [
    "#Soil Moisture Datasets\n",
    "#NASA-USDA Global Soil Moisture Data / 3 days / 2010- 2019 / 0.25 arc degrees / SMOS lvl2 integrated into two-layer palmer model\n",
    "GSMD = ee.ImageCollection('NASA_USDA/HSL/soil_moisture')\n",
    "#NASA-USDA SMAP Global Soil Moisture Data / 3 days / 2015 - 2019 / 0.25 arc degrees / SMAP level 3 + two-layer Palmer\n",
    "SMAP = ee.ImageCollection('NASA_USDA/HSL/SMAP_soil_moisture')\n",
    "#GLDAS-2.1: Global Land Data Assimilation System / 3 hours / 0.25 arc degrees / 2000 - 2019 / "
   ]
  },
  {
   "cell_type": "code",
   "execution_count": null,
   "metadata": {},
   "outputs": [],
   "source": [
    "#Command Collection\n",
    ".size().getInfo() # Get collection size\n",
    ".bandNames().getInfo() # Get List with alls Bands from ee.Image not ImageCollection\n",
    ".geometry().bounds().getInfo() # get Geometry of a Feature // Get bounding box of this geometry\n",
    "\n",
    "#Visualizations\n",
    "thumbnail_url = image.getThumbUrl({\n",
    "    'bands' : '',\n",
    "    'min' : ,\n",
    "    'max' : ,\n",
    "    'region' : .geometry().bounds().getInfo() #must be a geojson \n",
    "})\n",
    "IPython.display.HTML('Thumnail URL: <a href={0}>{0}</a>'.format(thumbnail_url)) #create url to view\n",
    "IPython.display.Image(url=thumbnail_url) # view direct in notebook\n",
    "\n",
    "#Interactive Visualizations\n",
    "import ipyleaflet\n",
    "map1 = ipyleaflet.Map(zoom=3, layout={'height' : '400px'})\n",
    "dc = ipyleaflet.DrawControl()\n",
    "map1.add_control(dc)\n",
    "map1\n",
    "dc.last_draw # gives information about the last drawn polygon (coordinates etc.)\n",
    "\n",
    "#Function to create a tile layer urlfrom an gee image object\n",
    "def GetTileLayerUrl(ee_image_object):\n",
    "    map_id = ee.Image(ee_image_object).getMapId()\n",
    "    tile_url_template = \"https://earthengine.googleapis.com/map/{mapid}/{{z}}/{{x}}/{{y}}?token={token}\"\n",
    "    return tile_url_template.format(**map_id)\n",
    "\n",
    "#style the image\n",
    "tile_url = GetTileLayerUrl(image.visualize(min=0, max=3000, gamma=1.5, bands=['','','']))\n",
    "map1.add_layer(ipyleaflet.TileLayer(url=tile_url))"
   ]
  }
 ],
 "metadata": {
  "kernelspec": {
   "display_name": "Python 3",
   "language": "python",
   "name": "python3"
  },
  "language_info": {
   "codemirror_mode": {
    "name": "ipython",
    "version": 3
   },
   "file_extension": ".py",
   "mimetype": "text/x-python",
   "name": "python",
   "nbconvert_exporter": "python",
   "pygments_lexer": "ipython3",
   "version": "3.7.3"
  }
 },
 "nbformat": 4,
 "nbformat_minor": 2
}
