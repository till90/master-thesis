{
 "cells": [
  {
   "cell_type": "markdown",
   "metadata": {},
   "source": [
    "## Authentificate wih Drive API\n",
    "https://medium.com/@annissouames99/how-to-upload-files-automatically-to-drive-with-python-ee19bb13dda"
   ]
  },
  {
   "cell_type": "markdown",
   "metadata": {},
   "source": [
    "### Step1: Create Project and enable Drive API \n",
    "https://console.developers.google.com/cloud-resource-manager\n",
    "### Step2: Go to https://console.developers.google.com/apis/credentials?project=radolan&folder=&organizationId= \n",
    "### Step3: Create new Credentials for Oauth Client (Web Anwendung, Input http://localhost:8080 for ‘Authorized JavaScript origins’. Input http://localhost:8080/ for ‘Authorized redirect URIs’. \n",
    "### Step4: Download Credentials and rename to client_secrets.json and put it into working directory"
   ]
  },
  {
   "cell_type": "code",
   "execution_count": 1,
   "metadata": {},
   "outputs": [
    {
     "name": "stdout",
     "output_type": "stream",
     "text": [
      "Your browser has been opened to visit:\n",
      "\n",
      "    https://accounts.google.com/o/oauth2/auth?client_id=62245905999-ajqa6g5q8gddefb2ksncphhuiom3thhf.apps.googleusercontent.com&redirect_uri=http%3A%2F%2Flocalhost%3A8080%2F&scope=https%3A%2F%2Fwww.googleapis.com%2Fauth%2Fdrive&access_type=offline&response_type=code\n",
      "\n",
      "Authentication successful.\n"
     ]
    }
   ],
   "source": [
    "from pydrive.auth import GoogleAuth\n",
    "from pydrive.drive import GoogleDrive\n",
    "import os \n",
    "os.chdir(\"/home/elisabeth/Dokumente/master\")\n",
    "g_login = GoogleAuth() \n",
    "g_login.LocalWebserverAuth() # Creates local webserver and auto handles authentication.\n"
   ]
  },
  {
   "cell_type": "code",
   "execution_count": 2,
   "metadata": {},
   "outputs": [],
   "source": [
    "drive = GoogleDrive(g_login) # Create GoogleDrive instance with authenticated GoogleAuth instance."
   ]
  },
  {
   "cell_type": "code",
   "execution_count": 10,
   "metadata": {},
   "outputs": [
    {
     "name": "stdout",
     "output_type": "stream",
     "text": [
      "test2.tif\n",
      "The file:test2.tifhas been uploaded\n",
      "test1.tif\n",
      "The file:test1.tifhas been uploaded\n",
      "R_2014_07_28.tif\n",
      "The file:R_2014_07_28.tifhas been uploaded\n",
      "2014_07_28_translate.tif\n",
      "The file:2014_07_28_translate.tifhas been uploaded\n",
      "geotiff.tif\n",
      "The file:geotiff.tifhas been uploaded\n",
      "All files have been uploaded!\n"
     ]
    }
   ],
   "source": [
    "# Importing os and glob to find all Tifs inside subfolder\n",
    "import glob, os\n",
    "os.chdir(\"/home/elisabeth/Dokumente/master/2014_01/out\")\n",
    "for file in glob.glob(\"*.tif\"):\n",
    "    print(file)\n",
    "    with open(file,\"r\") as f:\n",
    "        fn = os.path.basename(f.name)\n",
    "        file_drive = drive.CreateFile({'title': fn})\n",
    "        file_drive.SetContentFile(f.name)\n",
    "        file_drive.Upload()\n",
    "        print(\"The file: \" + fn + \" has been uploaded\")\n",
    "print(\"All files have been uploaded!\")\n"
   ]
  },
  {
   "cell_type": "code",
   "execution_count": null,
   "metadata": {},
   "outputs": [],
   "source": [
    "https://github.com/tracek/gee_asset_manager\n",
    "geebam upload -u <username>@gmail.com --source <path_to_directory_with_tif> --dest users/<username>/<folder>/<collection>"
   ]
  }
 ],
 "metadata": {
  "kernelspec": {
   "display_name": "Python 3",
   "language": "python",
   "name": "python3"
  },
  "language_info": {
   "codemirror_mode": {
    "name": "ipython",
    "version": 3
   },
   "file_extension": ".py",
   "mimetype": "text/x-python",
   "name": "python",
   "nbconvert_exporter": "python",
   "pygments_lexer": "ipython3",
   "version": "3.7.3"
  }
 },
 "nbformat": 4,
 "nbformat_minor": 2
}
