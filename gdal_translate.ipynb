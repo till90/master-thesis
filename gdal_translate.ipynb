{
 "cells": [
  {
   "cell_type": "markdown",
   "metadata": {},
   "source": [
    "## Load ASCII and translate it to geotiff\n",
    "https://gdal.org/python/index.html"
   ]
  },
  {
   "cell_type": "code",
   "execution_count": 2,
   "metadata": {},
   "outputs": [],
   "source": [
    "#Import gdal\n",
    "from osgeo import gdal\n",
    "\n",
    "#Openpath\n",
    "wdir = \"/home/elisabeth/Dokumente/master/2014_01/out/\"\n",
    "file = \"2014_07_28.asc\"\n",
    "\n",
    "#Open existing dataset\n",
    "src_ds = gdal.Open(wdir + file)\n",
    "\n",
    "#Open output format driver, see gdal_translate --formats for list // https://gdal.org/drivers/raster/index.html\n",
    "# AAIGrid – Arc/Info ASCII Grid to GTiff – GeoTIFF File Format\n",
    "format = \"GTiff\"\n",
    "driver = gdal.GetDriverByName(format)\n",
    "\n",
    "#output filename\n",
    "dst_filename = \"testit\"\n",
    "\n",
    "#Output to new format\n",
    "dst_ds = driver.CreateCopy(wdir + dst_filename, src_ds, 0 )\n",
    "\n",
    "#Properly close the datasets to flush to disk\n",
    "dst_ds = None\n",
    "src_ds = None"
   ]
  },
  {
   "cell_type": "code",
   "execution_count": null,
   "metadata": {},
   "outputs": [],
   "source": [
    "from osgeo import gdal\n",
    "\n",
    "ds = gdal.Open('input.tif')\n",
    "ds = gdal.Translate('output.tif', ds, projWin = [-75.3, 5.5, -73.5, 3.7])\n",
    "ds = None"
   ]
  }
 ],
 "metadata": {
  "kernelspec": {
   "display_name": "Python 3",
   "language": "python",
   "name": "python3"
  },
  "language_info": {
   "codemirror_mode": {
    "name": "ipython",
    "version": 3
   },
   "file_extension": ".py",
   "mimetype": "text/x-python",
   "name": "python",
   "nbconvert_exporter": "python",
   "pygments_lexer": "ipython3",
   "version": "3.7.3"
  }
 },
 "nbformat": 4,
 "nbformat_minor": 2
}
