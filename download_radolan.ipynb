{
 "cells": [
  {
   "cell_type": "markdown",
   "metadata": {},
   "source": [
    "## Download Radolan .bin.gz files from DWD ftp server\n",
    "\n",
    "To-Do\n",
    "Ordner im System erstellen mit der jeweiligen Jahreszahl der Daten\n",
    "Entpacken?"
   ]
  },
  {
   "cell_type": "code",
   "execution_count": null,
   "metadata": {},
   "outputs": [
    {
     "name": "stdout",
     "output_type": "stream",
     "text": [
      "/home/elisabeth/Dokumente/master/radolan_data/raw\n",
      "Available Years:  ['2006', '2007', '2008', '2009', '2010', '2011', '2012', '2013', '2014', '2015', '2016', '2017']\n",
      "/climate_environment/CDC/grids_germany/daily/radolan/historical/bin/2006\n",
      "Files stored in this path:  ['SF-200610.tar.gz', 'SF-200611.tar.gz', 'SF-200612.tar.gz']\n",
      "file SF-200610.tar.gz downloaded succsefully!\n",
      "file SF-200611.tar.gz downloaded succsefully!\n",
      "file SF-200612.tar.gz downloaded succsefully!\n",
      "2007\n",
      "file : SF-200701.tar.gz\n",
      "file : SF-200702.tar.gz\n",
      "file : SF-200703.tar.gz\n"
     ]
    }
   ],
   "source": [
    "#!pip install pyftpdlib\n",
    "import ftplib\n",
    "import os\n",
    "\n",
    "#working dir\n",
    "os.chdir(\"/home/elisabeth/Dokumente/master/radolan_data/raw\")\n",
    "print(os.getcwd())\n",
    "\n",
    "#location of the file in the ftp server\n",
    "path = 'climate_environment/CDC/grids_germany/daily/radolan/historical/bin/'\n",
    "host = \"https://opendata.dwd.de/\"\n",
    "ip =  \"141.38.2.26\" \n",
    "\n",
    "#name + extension of the file you want to download form server\n",
    "filename = '*.tar.gz'\n",
    "\n",
    "#Create Connection\n",
    "ftp = ftplib.FTP(ip) \n",
    "\n",
    "#Login\n",
    "ftp.login()\n",
    "\n",
    "#Change Path to Radolan bin directory\n",
    "ftp.cwd(path)\n",
    "\n",
    "#Get list of Years available \n",
    "paths = ftp.nlst()\n",
    "print(\"Available Years: \", paths)\n",
    "\n",
    "#Workaround for problem that if i cahnged first time i am not in right directory\n",
    "count = True\n",
    "\n",
    "#For loop to download all files from every year directory \n",
    "for path in paths:\n",
    "    if count == True:\n",
    "        count = False \n",
    "        ftp.cwd(path)\n",
    "        print(\"Path: \", ftp.pwd())\n",
    "        filenames = ftp.nlst()\n",
    "        print(\"Files stored in this path: \", filenames)\n",
    "        for file in filenames:\n",
    "            handle = open(file.lstrip(\"/\"), 'wb') #file.rstrip(\"/\")+ \"/\" + \n",
    "            ftp.retrbinary('RETR %s' % file, handle.write)\n",
    "            print(\"File \" + file + \" downloaded succsefully!\")\n",
    "        continue\n",
    "    else:\n",
    "        ftp.cwd((\"../\"))\n",
    "        ftp.cwd(path)\n",
    "        count = False \n",
    "        print(\"Path: \", ftp.pwd())\n",
    "        filenames = ftp.nlst()\n",
    "        print(\"Files stored in this path: \", filenames)\n",
    "        for file in filenames:\n",
    "            handle = open(file.lstrip(\"/\"), 'wb') #file.rstrip(\"/\")+ \"/\" + \n",
    "            ftp.retrbinary('RETR %s' % file, handle.write)\n",
    "            print(\"File \" + file + \" downloaded succsefully!\")\n",
    "        continue\n",
    "\n",
    "    \n",
    "#close connection\n",
    "ftp.quit()\n"
   ]
  }
 ],
 "metadata": {
  "kernelspec": {
   "display_name": "Python 3",
   "language": "python",
   "name": "python3"
  },
  "language_info": {
   "codemirror_mode": {
    "name": "ipython",
    "version": 3
   },
   "file_extension": ".py",
   "mimetype": "text/x-python",
   "name": "python",
   "nbconvert_exporter": "python",
   "pygments_lexer": "ipython3",
   "version": "3.7.3"
  }
 },
 "nbformat": 4,
 "nbformat_minor": 2
}
