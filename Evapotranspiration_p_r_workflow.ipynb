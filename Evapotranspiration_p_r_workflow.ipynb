{
 "cells": [
  {
   "cell_type": "markdown",
   "metadata": {},
   "source": [
    "## Download Evapotranspiration data from DWD climate Center"
   ]
  },
  {
   "cell_type": "markdown",
   "metadata": {},
   "source": [
    "Paths for Evapo_p = path = 'climate_environment/CDC/grids_germany/daily/evapo_p/'  \n",
    "Paths for Evapo_r = path = 'climate_environment/CDC/grids_germany/daily/evapo_r/'"
   ]
  },
  {
   "cell_type": "code",
   "execution_count": null,
   "metadata": {},
   "outputs": [],
   "source": [
    "#!pip install pyftpdlib\n",
    "import ftplib\n",
    "import os, os.path\n",
    "from pathlib import Path\n",
    "import tarfile #Check if tarfile is corrupted, important when script is run twice \n",
    "BLOCK_SIZE = 1024\n",
    "\n",
    "#target data to download\n",
    "years = [\"2009\",\"2010\",\"2011\",\"2012\",\"2013\",\"2014\",\"2015\",\"2016\",\"2017\",\"2018\",\"2019\"]\n",
    "\n",
    "#working dir\n",
    "windows = 'C:\\\\Users\\\\USER\\\\Desktop\\\\master-thesis-master'\n",
    "ubuntu = \"/home/elisabeth/Dokumente/master/radolan_data/raw\"\n",
    "download_directory = \"evapo_r_downloads\" #Directory where files will be saved\n",
    "\n",
    "#Create Download folder\n",
    "os.chdir(windows) \n",
    "if not os.path.exists(download_directory):\n",
    "    os.makedirs(download_directory)\n",
    "os.chdir(download_directory)\n",
    "print(\"Actual Working dir: \", os.getcwd())\n",
    "\n",
    "#location of the file in the ftp server\n",
    "path = 'climate_environment/CDC/grids_germany/daily/evapo_r/'\n",
    "host = \"https://opendata.dwd.de/\"\n",
    "ip =  \"141.38.2.26\" \n",
    "\n",
    "#Create Connection\n",
    "ftp = ftplib.FTP(ip) \n",
    "\n",
    "#Login\n",
    "ftp.login()\n",
    "\n",
    "#Change Path to data path\n",
    "ftp.cwd(path)\n",
    "\n",
    "#Get list of avaiable files\n",
    "files = ftp.nlst()\n",
    "\n",
    "#Get list of wanted files\n",
    "files_w = [x for x in files if any(sx in x for sx in years)]\n",
    "print(\"Start Downloading...\")\n",
    "\n",
    "for file in files_w:\n",
    "    print(\"Start downloading: \", file)\n",
    "    handle = open(file, \"wb\")\n",
    "    ftp.retrbinary(\"RETR %s\" %file, handle.write)\n",
    "    print(file, \"succesfully downloaded!\") \n",
    "   \n",
    "print(\"Job done... connection closed\")\n",
    "\n",
    "#close connection\n",
    "ftp.quit()\n"
   ]
  },
  {
   "cell_type": "markdown",
   "metadata": {},
   "source": [
    "## Open Evapo_p files and transform them into Gtif files with Osgeo gdal"
   ]
  },
  {
   "cell_type": "code",
   "execution_count": null,
   "metadata": {},
   "outputs": [],
   "source": [
    "#Files in one Folder without checking for existant files (work stable!)\n",
    "import tarfile\n",
    "import os, os.path\n",
    "from pathlib import Path\n",
    "\n",
    "#File paths\n",
    "working_dir = r\"C:\\Users\\USER\\Desktop\\master-thesis-master\\evapo_p_downloads\"\n",
    "save_dir = r\"C:\\Users\\USER\\Desktop\\master-thesis-master\\evapo_p_downloads\\evapo_p_gtif\"\n",
    "\n",
    "#Actual Working Dir\n",
    "os.chdir(working_dir) \n",
    "print(\"Actual Working dir:\", os.getcwd()) \n",
    "\n",
    "#All files inside Working dir\n",
    "files = os.listdir()\n",
    "print(\"Files inside this folder: \", len(files))\n",
    "\n",
    "#Iterate through folders get tar archiv names loop through them and extract only with specified time\n",
    "tar_files = [x for x in files if \".tgz\" in x if \"prop\" not in x]\n",
    "print(\"Tar files inside this folder: \", len(tar_files))\n",
    "\n",
    "#create list of all .tgz files\n",
    "files = []\n",
    "files = os.listdir() \n",
    "files = [x for x in files if \".tgz\" in x if \"prop\" not in x]\n",
    "print(len(files), \"files found\")\n",
    "\n",
    "#create list of lists with filenames for each month\n",
    "days = []\n",
    "for file in tar_files:\n",
    "    tar = tarfile.open(file)\n",
    "    test = tar.getnames()\n",
    "    days.append(tar.getnames())\n",
    "\n",
    "#set Driver for output  AAIGrid – Arc/Info ASCII Grid to GTiff – GeoTIFF File Format\n",
    "driver = gdal.GetDriverByName('Gtiff')\n",
    "\n",
    "#Loop through files and get tif for every elemtn inside the tarball\n",
    "n = 0\n",
    "for month,days in zip(files,days):\n",
    "    n = n + 1\n",
    "    for single_day in days:\n",
    "        src_ds = gdal.Open(\"/vsitar/{%s}/%s\" %(month,single_day))\n",
    "        dst_ds = driver.CreateCopy(save_dir + \"//\" + single_day[:-4] + \".tif\", src_ds, 0)\n",
    "        dst_ds = None\n",
    "        src_ds = None\n"
   ]
  },
  {
   "cell_type": "markdown",
   "metadata": {},
   "source": [
    "## Open Evapo_r files and transform them into Gtif files with Osgeo gdal"
   ]
  },
  {
   "cell_type": "code",
   "execution_count": null,
   "metadata": {},
   "outputs": [],
   "source": [
    "#Files in one Folder without checking for existant files (work stable!)\n",
    "import tarfile\n",
    "import os, os.path\n",
    "from pathlib import Path\n",
    "\n",
    "#File paths\n",
    "working_dir = r\"C:\\Users\\USER\\Desktop\\master-thesis-master\\evapo_r_downloads\"\n",
    "save_dir = r\"C:\\Users\\USER\\Desktop\\master-thesis-master\\evapo_r_downloads\\evapo_r_gtif\"\n",
    "\n",
    "#Actual Working Dir\n",
    "os.chdir(working_dir) \n",
    "print(\"Actual Working dir:\", os.getcwd()) \n",
    "\n",
    "#All files inside Working dir\n",
    "files = os.listdir()\n",
    "print(\"Files inside this folder: \", len(files))\n",
    "\n",
    "#Iterate through folders get tar archiv names loop through them and extract only with specified time\n",
    "\n",
    "tar_files = [x for x in files if \".tgz\" in x if \"prop\" not in x]\n",
    "print(\"Tar files inside this folder: \", len(tar_files))\n",
    "\n",
    "#create list of all .tgz files\n",
    "files = []\n",
    "files = os.listdir() \n",
    "files = [x for x in files if \".tgz\" in x if \"prop\" not in x]\n",
    "print(len(files), \"files found\")\n",
    "\n",
    "#create list of lists with filenames for each month\n",
    "days = []\n",
    "for file in tar_files:\n",
    "    tar = tarfile.open(file)\n",
    "    test = tar.getnames()\n",
    "    days.append(tar.getnames())\n",
    "\n",
    "#set Driver for output  AAIGrid – Arc/Info ASCII Grid to GTiff – GeoTIFF File Format\n",
    "driver = gdal.GetDriverByName('Gtiff')\n",
    "\n",
    "#Loop through files and get tif for every elemtn inside the tarball\n",
    "n=0\n",
    "for month,days in zip(files,days):\n",
    "    n = n + 1\n",
    "    print(n,\"/\",len(files))\n",
    "    for single_day in days:\n",
    "        src_ds = gdal.Open(\"/vsitar/{%s}/%s\" %(month,single_day))\n",
    "        dst_ds = driver.CreateCopy(save_dir + \"//\" + single_day[:-4] + \".tif\", src_ds, 0)\n",
    "        dst_ds = None\n",
    "        src_ds = None\n"
   ]
  },
  {
   "cell_type": "code",
   "execution_count": 103,
   "metadata": {},
   "outputs": [
    {
     "name": "stderr",
     "output_type": "stream",
     "text": [
      "Der Befehl \"gsutil\" ist entweder falsch geschrieben oder\n",
      "konnte nicht gefunden werden.\n"
     ]
    }
   ],
   "source": [
    "!gsutil "
   ]
  }
 ],
 "metadata": {
  "kernelspec": {
   "display_name": "Python 3",
   "language": "python",
   "name": "python3"
  },
  "language_info": {
   "codemirror_mode": {
    "name": "ipython",
    "version": 3
   },
   "file_extension": ".py",
   "mimetype": "text/x-python",
   "name": "python",
   "nbconvert_exporter": "python",
   "pygments_lexer": "ipython3",
   "version": "3.7.3"
  }
 },
 "nbformat": 4,
 "nbformat_minor": 4
}
