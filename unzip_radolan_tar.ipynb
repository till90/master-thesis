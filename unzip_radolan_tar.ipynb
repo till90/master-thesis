{
 "cells": [
  {
   "cell_type": "markdown",
   "metadata": {},
   "source": [
    "## Extract specific time files from tar from different years folder (historical data) "
   ]
  },
  {
   "cell_type": "code",
   "execution_count": null,
   "metadata": {},
   "outputs": [
    {
     "name": "stdout",
     "output_type": "stream",
     "text": [
      "C:\\Users\\Elisabeth\\Desktop\\radolan_downloads\n",
      "Start extracting file:  SF-200610.tar.gz\n",
      "Finish with extraction of files:  ['raa01-sf_10000-0610302350-dwd---bin', 'raa01-sf_10000-0610312350-dwd---bin']\n",
      "Start extracting file:  SF-200611.tar.gz\n",
      "Finish with extraction of files:  []\n",
      "Start extracting file:  SF-200612.tar.gz\n",
      "Finish with extraction of files:  ['raa01-sf_10000-0612012350-dwd---bin', 'raa01-sf_10000-0612022350-dwd---bin', 'raa01-sf_10000-0612032350-dwd---bin', 'raa01-sf_10000-0612042350-dwd---bin', 'raa01-sf_10000-0612052350-dwd---bin', 'raa01-sf_10000-0612062350-dwd---bin', 'raa01-sf_10000-0612072350-dwd---bin', 'raa01-sf_10000-0612082350-dwd---bin', 'raa01-sf_10000-0612092350-dwd---bin', 'raa01-sf_10000-0612102350-dwd---bin', 'raa01-sf_10000-0612112350-dwd---bin', 'raa01-sf_10000-0612122350-dwd---bin', 'raa01-sf_10000-0612132350-dwd---bin', 'raa01-sf_10000-0612142350-dwd---bin', 'raa01-sf_10000-0612152350-dwd---bin', 'raa01-sf_10000-0612172350-dwd---bin', 'raa01-sf_10000-0612182350-dwd---bin', 'raa01-sf_10000-0612192350-dwd---bin', 'raa01-sf_10000-0612202350-dwd---bin', 'raa01-sf_10000-0612212350-dwd---bin', 'raa01-sf_10000-0612222350-dwd---bin', 'raa01-sf_10000-0612232350-dwd---bin', 'raa01-sf_10000-0612242350-dwd---bin', 'raa01-sf_10000-0612252350-dwd---bin', 'raa01-sf_10000-0612262350-dwd---bin', 'raa01-sf_10000-0612272350-dwd---bin', 'raa01-sf_10000-0612282350-dwd---bin', 'raa01-sf_10000-0612292350-dwd---bin']\n",
      "Start extracting file:  SF-200701.tar.gz\n",
      "Finish with extraction of files:  []\n",
      "Start extracting file:  SF-200702.tar.gz\n",
      "Finish with extraction of files:  ['raa01-sf_10000-0702012350-dwd---bin', 'raa01-sf_10000-0702022350-dwd---bin', 'raa01-sf_10000-0702032350-dwd---bin', 'raa01-sf_10000-0702042350-dwd---bin', 'raa01-sf_10000-0702052350-dwd---bin', 'raa01-sf_10000-0702062350-dwd---bin', 'raa01-sf_10000-0702072350-dwd---bin', 'raa01-sf_10000-0702082350-dwd---bin', 'raa01-sf_10000-0702092350-dwd---bin', 'raa01-sf_10000-0702102350-dwd---bin', 'raa01-sf_10000-0702112350-dwd---bin', 'raa01-sf_10000-0702122350-dwd---bin', 'raa01-sf_10000-0702132350-dwd---bin', 'raa01-sf_10000-0702142350-dwd---bin', 'raa01-sf_10000-0702152350-dwd---bin', 'raa01-sf_10000-0702162350-dwd---bin', 'raa01-sf_10000-0702172350-dwd---bin', 'raa01-sf_10000-0702182350-dwd---bin', 'raa01-sf_10000-0702192350-dwd---bin', 'raa01-sf_10000-0702202350-dwd---bin', 'raa01-sf_10000-0702212350-dwd---bin', 'raa01-sf_10000-0702222350-dwd---bin', 'raa01-sf_10000-0702232350-dwd---bin', 'raa01-sf_10000-0702242350-dwd---bin', 'raa01-sf_10000-0702252350-dwd---bin', 'raa01-sf_10000-0702262350-dwd---bin', 'raa01-sf_10000-0702272350-dwd---bin', 'raa01-sf_10000-0702282350-dwd---bin']\n",
      "Start extracting file:  SF-200703.tar.gz\n",
      "Finish with extraction of files:  ['raa01-sf_10000-0703012350-dwd---bin', 'raa01-sf_10000-0703022350-dwd---bin', 'raa01-sf_10000-0703032350-dwd---bin', 'raa01-sf_10000-0703042350-dwd---bin', 'raa01-sf_10000-0703052350-dwd---bin', 'raa01-sf_10000-0703062350-dwd---bin', 'raa01-sf_10000-0703072350-dwd---bin', 'raa01-sf_10000-0703082350-dwd---bin', 'raa01-sf_10000-0703092350-dwd---bin', 'raa01-sf_10000-0703102350-dwd---bin', 'raa01-sf_10000-0703112350-dwd---bin', 'raa01-sf_10000-0703122350-dwd---bin', 'raa01-sf_10000-0703132350-dwd---bin', 'raa01-sf_10000-0703142350-dwd---bin', 'raa01-sf_10000-0703152350-dwd---bin', 'raa01-sf_10000-0703162350-dwd---bin', 'raa01-sf_10000-0703172350-dwd---bin', 'raa01-sf_10000-0703182350-dwd---bin', 'raa01-sf_10000-0703192350-dwd---bin', 'raa01-sf_10000-0703202350-dwd---bin', 'raa01-sf_10000-0703212350-dwd---bin', 'raa01-sf_10000-0703222350-dwd---bin', 'raa01-sf_10000-0703232350-dwd---bin', 'raa01-sf_10000-0703242350-dwd---bin', 'raa01-sf_10000-0703252350-dwd---bin', 'raa01-sf_10000-0703262350-dwd---bin', 'raa01-sf_10000-0703272350-dwd---bin', 'raa01-sf_10000-0703282350-dwd---bin', 'raa01-sf_10000-0703292350-dwd---bin', 'raa01-sf_10000-0703302350-dwd---bin', 'raa01-sf_10000-0703312350-dwd---bin']\n",
      "Start extracting file:  SF-200704.tar.gz\n",
      "Finish with extraction of files:  ['raa01-sf_10000-0704012350-dwd---bin', 'raa01-sf_10000-0704022350-dwd---bin', 'raa01-sf_10000-0704032350-dwd---bin', 'raa01-sf_10000-0704042350-dwd---bin', 'raa01-sf_10000-0704052350-dwd---bin', 'raa01-sf_10000-0704062350-dwd---bin', 'raa01-sf_10000-0704072350-dwd---bin', 'raa01-sf_10000-0704082350-dwd---bin', 'raa01-sf_10000-0704092350-dwd---bin', 'raa01-sf_10000-0704102350-dwd---bin', 'raa01-sf_10000-0704112350-dwd---bin', 'raa01-sf_10000-0704122350-dwd---bin', 'raa01-sf_10000-0704132350-dwd---bin', 'raa01-sf_10000-0704142350-dwd---bin', 'raa01-sf_10000-0704152350-dwd---bin', 'raa01-sf_10000-0704162350-dwd---bin', 'raa01-sf_10000-0704172350-dwd---bin', 'raa01-sf_10000-0704182350-dwd---bin', 'raa01-sf_10000-0704192350-dwd---bin', 'raa01-sf_10000-0704202350-dwd---bin', 'raa01-sf_10000-0704212350-dwd---bin', 'raa01-sf_10000-0704222350-dwd---bin', 'raa01-sf_10000-0704232350-dwd---bin', 'raa01-sf_10000-0704242350-dwd---bin', 'raa01-sf_10000-0704252350-dwd---bin', 'raa01-sf_10000-0704262350-dwd---bin', 'raa01-sf_10000-0704272350-dwd---bin', 'raa01-sf_10000-0704282350-dwd---bin', 'raa01-sf_10000-0704292350-dwd---bin', 'raa01-sf_10000-0704302350-dwd---bin']\n",
      "Start extracting file:  SF-200705.tar.gz\n",
      "Finish with extraction of files:  ['raa01-sf_10000-0705012350-dwd---bin', 'raa01-sf_10000-0705022350-dwd---bin', 'raa01-sf_10000-0705032350-dwd---bin', 'raa01-sf_10000-0705042350-dwd---bin', 'raa01-sf_10000-0705052350-dwd---bin', 'raa01-sf_10000-0705062350-dwd---bin', 'raa01-sf_10000-0705072350-dwd---bin', 'raa01-sf_10000-0705082350-dwd---bin', 'raa01-sf_10000-0705092350-dwd---bin', 'raa01-sf_10000-0705102350-dwd---bin', 'raa01-sf_10000-0705112350-dwd---bin', 'raa01-sf_10000-0705122350-dwd---bin', 'raa01-sf_10000-0705132350-dwd---bin', 'raa01-sf_10000-0705142350-dwd---bin', 'raa01-sf_10000-0705152350-dwd---bin', 'raa01-sf_10000-0705162350-dwd---bin', 'raa01-sf_10000-0705172350-dwd---bin', 'raa01-sf_10000-0705182350-dwd---bin', 'raa01-sf_10000-0705192350-dwd---bin', 'raa01-sf_10000-0705202350-dwd---bin', 'raa01-sf_10000-0705212350-dwd---bin', 'raa01-sf_10000-0705222350-dwd---bin', 'raa01-sf_10000-0705232350-dwd---bin', 'raa01-sf_10000-0705242350-dwd---bin', 'raa01-sf_10000-0705252350-dwd---bin', 'raa01-sf_10000-0705262350-dwd---bin', 'raa01-sf_10000-0705272350-dwd---bin', 'raa01-sf_10000-0705282350-dwd---bin', 'raa01-sf_10000-0705292350-dwd---bin', 'raa01-sf_10000-0705302350-dwd---bin', 'raa01-sf_10000-0705312350-dwd---bin']\n",
      "Start extracting file:  SF-200706.tar.gz\n",
      "Finish with extraction of files:  ['raa01-sf_10000-0706012350-dwd---bin', 'raa01-sf_10000-0706022350-dwd---bin', 'raa01-sf_10000-0706032350-dwd---bin', 'raa01-sf_10000-0706042350-dwd---bin', 'raa01-sf_10000-0706052350-dwd---bin', 'raa01-sf_10000-0706062350-dwd---bin', 'raa01-sf_10000-0706072350-dwd---bin', 'raa01-sf_10000-0706082350-dwd---bin', 'raa01-sf_10000-0706092350-dwd---bin', 'raa01-sf_10000-0706102350-dwd---bin', 'raa01-sf_10000-0706112350-dwd---bin', 'raa01-sf_10000-0706122350-dwd---bin', 'raa01-sf_10000-0706132350-dwd---bin', 'raa01-sf_10000-0706142350-dwd---bin', 'raa01-sf_10000-0706152350-dwd---bin', 'raa01-sf_10000-0706162350-dwd---bin', 'raa01-sf_10000-0706172350-dwd---bin', 'raa01-sf_10000-0706182350-dwd---bin', 'raa01-sf_10000-0706192350-dwd---bin', 'raa01-sf_10000-0706202350-dwd---bin', 'raa01-sf_10000-0706212350-dwd---bin', 'raa01-sf_10000-0706222350-dwd---bin', 'raa01-sf_10000-0706232350-dwd---bin', 'raa01-sf_10000-0706242350-dwd---bin', 'raa01-sf_10000-0706252350-dwd---bin', 'raa01-sf_10000-0706262350-dwd---bin', 'raa01-sf_10000-0706272350-dwd---bin', 'raa01-sf_10000-0706282350-dwd---bin', 'raa01-sf_10000-0706292350-dwd---bin', 'raa01-sf_10000-0706302350-dwd---bin']\n",
      "Start extracting file:  SF-200707.tar.gz\n"
     ]
    }
   ],
   "source": [
    "import tarfile\n",
    "import os, os.path\n",
    "from pathlib import Path\n",
    "\n",
    "#time \n",
    "time = \"2350\"\n",
    "\n",
    "#working dir\n",
    "windows = \"C:/Users/Elisabeth/Desktop\"\n",
    "ubuntu = \"/home/elisabeth/Dokumente/master/radolan_data/raw\"\n",
    "download_directory = \"/radolan_downloads\" #Directory where files will be saved\n",
    "\n",
    "os.chdir(windows + download_directory) \n",
    "\n",
    "#Actual Working Dir\n",
    "print(os.getcwd()) \n",
    "\n",
    "#All files inside Working dir\n",
    "paths = os.listdir()\n",
    "\n",
    "\n",
    "\n",
    "#Iterate through folders get tar archiv names loop through them and extract only with specified time\n",
    "for path in paths:\n",
    "    os.chdir(path)\n",
    "    files = os.listdir()\n",
    "    for file in files:\n",
    "        print(\"Start extracting file: \", file)\n",
    "        tar = tarfile.open(file)\n",
    "        names = tar.getnames()\n",
    "        names_f = [x for x in names if time in x]\n",
    "        tar.extractall(members=[x for x in tar.getmembers() if x.name in names_f])\n",
    "        print(\"Finish with extraction of files: \", names_f)\n",
    "    os.chdir(\"../\")\n",
    "\n",
    "\n",
    "    \n",
    "    \n",
    "    \n",
    "\n"
   ]
  },
  {
   "cell_type": "code",
   "execution_count": null,
   "metadata": {},
   "outputs": [],
   "source": [
    "BLOCK_SIZE = 1024\n",
    "\n",
    "try:\n",
    "    tardude = tarfile.open(\"zero.tar.gz\")\n",
    "except:\n",
    "    print \"There was an error opening tarfile. The file might be corrupt or missing.\"\n",
    "\n",
    "try:\n",
    "    members = tardude.getmembers()\n",
    "except:\n",
    "    print \"There was an error reading tarfile members.\"\n",
    "\n",
    "for member_info in members:\n",
    "    try:            \n",
    "        check = tardude.extractfile(member_info.name)\n",
    "        while 1:\n",
    "            data = check.read(BLOCK_SIZE)\n",
    "            if not data:\n",
    "                break\n",
    "    except:\n",
    "        print \"File: %r is corrupt.\" % member_info.name\n",
    "\n",
    "tardude.close()"
   ]
  }
 ],
 "metadata": {
  "kernelspec": {
   "display_name": "Python 3",
   "language": "python",
   "name": "python3"
  },
  "language_info": {
   "codemirror_mode": {
    "name": "ipython",
    "version": 3
   },
   "file_extension": ".py",
   "mimetype": "text/x-python",
   "name": "python",
   "nbconvert_exporter": "python",
   "pygments_lexer": "ipython3",
   "version": "3.7.3"
  }
 },
 "nbformat": 4,
 "nbformat_minor": 2
}
