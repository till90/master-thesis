{
 "cells": [
  {
   "cell_type": "markdown",
   "metadata": {},
   "source": [
    "# Master-Thesis \n",
    "\n",
    "Summary:  \n",
    "Find mysterious soil property corresponding to soil-moisture behaviours. First Idea is to look at soil-moisture content after a minimum of 10 mm precipitation occured. Analyse the drying behaviours of the soil in the dry period after the rain event. "
   ]
  },
  {
   "cell_type": "markdown",
   "metadata": {},
   "source": [
    "# Table-of-content  \n",
    "\n",
    "[AOI](#AOI)  \n",
    "\n"
   ]
  },
  {
   "cell_type": "markdown",
   "metadata": {},
   "source": [
    "## Modul imports"
   ]
  },
  {
   "cell_type": "code",
   "execution_count": 1,
   "metadata": {},
   "outputs": [],
   "source": [
    "#Notebook wird imports\n",
    "import ipyleaflet\n",
    "from ipyleaflet import Map, GeoJSON, basemaps, Popup, LayersControl\n",
    "from ipywidgets import HTML\n",
    "from IPython.display import Image, IFrame\n",
    "import ee\n",
    "ee.Initialize()"
   ]
  },
  {
   "cell_type": "code",
   "execution_count": 23,
   "metadata": {},
   "outputs": [],
   "source": [
    "%matplotlib inline\n",
    "import matplotlib.pyplot as plt\n",
    "import altair as alt\n",
    "from sklearn import cluster\n",
    "from skimage import io, morphology, measure\n",
    "from osgeo import gdal, gdal_array\n",
    "gdal.UseExceptions()\n",
    "gdal.AllRegister()\n"
   ]
  },
  {
   "cell_type": "code",
   "execution_count": 3,
   "metadata": {},
   "outputs": [],
   "source": [
    "import os\n",
    "import numpy as np\n"
   ]
  },
  {
   "cell_type": "markdown",
   "metadata": {},
   "source": [
    "## Functions"
   ]
  },
  {
   "cell_type": "code",
   "execution_count": 4,
   "metadata": {},
   "outputs": [],
   "source": [
    "#Get TileLayerurl from ee to plot on ipyleaflet\n",
    "def GetTileLayerUrl(ee_image_object):\n",
    "    map_id = ee.Image(ee_image_object).getMapId()\n",
    "    tile_url_template = \"https://earthengine.googleapis.com/map/{mapid}/{{z}}/{{x}}/{{y}}?token={token}\"\n",
    "    return tile_url_template.format(**map_id)\n",
    "\n",
    "#Make Histogram\n",
    "def get_histogram_from_image(image):\n",
    "    image = image.reduceRegion(reducer=ee.Reducer.autoHistogram(), geometry=ried_geometry, scale= 100,maxPixels= 1e10).getInfo()['b1']\n",
    "    keys = [x[0] for x in soil_map_great_histogram if x[1] > 0.0]  #get keys from [key,value] list if value is > 0\n",
    "    values = [x[1] for x in soil_map_great_histogram if x[0] in keys] #get values for keys if the key is in value\n",
    "    return dict(zip(keys,values))\n"
   ]
  },
  {
   "cell_type": "markdown",
   "metadata": {},
   "source": [
    "# AOI\n",
    "\n",
    "The area of interest is the hessisches Ried. The shape is digitized from a screnshot taken from http://atlas.umwelt.hessen.de/servlet/Frame/atlas/naturschutz/naturraum/karten/m_3_2_1.htm . I found no better source. Info: The HLNUG is selling this shapes there's no open source map."
   ]
  },
  {
   "cell_type": "code",
   "execution_count": 5,
   "metadata": {},
   "outputs": [
    {
     "name": "stdout",
     "output_type": "stream",
     "text": [
      "Hessisches Ried: Naturräumliche Einheiten 225 und 222, area: ca.  725.892726964547 km²\n"
     ]
    },
    {
     "data": {
      "application/vnd.jupyter.widget-view+json": {
       "model_id": "c54212ebd62947ab969fbff1c645e0e8",
       "version_major": 2,
       "version_minor": 0
      },
      "text/plain": [
       "Map(basemap={'url': 'http://server.arcgisonline.com/ArcGIS/rest/services/NatGeo_World_Map/MapServer/tile/{z}/{…"
      ]
     },
     "metadata": {},
     "output_type": "display_data"
    }
   ],
   "source": [
    "# Load AOI from GEE as FeatureCollection\n",
    "ried_225_222 = ee.FeatureCollection('users/tillmueller1990/ried_225_222') # Use this but the boundary isn't that precise at borders, got it from wms layer \n",
    "\n",
    "#Get geometry and convert it to GeoJSON for visualisation purpose \n",
    "ried_geometry = ried_225_222.geometry().getInfo() #dict object\n",
    "ried_geometry = ee.Geometry.Polygon(ried_geometry['coordinates']) #cast to Geometry object\n",
    "ried_JSON = ried_geometry.toGeoJSON() #get GeoJSON object\n",
    "\n",
    "#get area of aoi\n",
    "ried_area = ried_225_222.geometry().area().getInfo()\n",
    "print(\"Hessisches Ried: Naturräumliche Einheiten 225 und 222, area: ca. \", ried_area/1000**2, \"km²\") #m² in km² \n",
    "\n",
    "#map properties\n",
    "center, zoom = (49.7252978589571, 8.34580993652344), 9\n",
    "\n",
    "#create basemap\n",
    "map = Map(center = center, zoom = zoom, basemap=basemaps.Esri.NatGeoWorldMap)\n",
    "\n",
    "#add Layer to map\n",
    "ried = GeoJSON(data = ried_JSON, style = {'color': 'blue', 'opacity':1, 'fillOpacity':0.25}) #Create GeoJSON ipyleaflet object\n",
    "map.add_layer(ried) #add layer to map\n",
    "\n",
    "#display map\n",
    "map\n"
   ]
  },
  {
   "cell_type": "markdown",
   "metadata": {},
   "source": [
    "# Remote sensed data\n",
    "\n",
    "This work try to obtain the most data from osm remotely sensed products or self derived data.  \n",
    "There are many properties affecting soil moisture:  \n",
    "1. Soil type  (X)\n",
    "2. Organic content  ( )\n",
    "3. Precipitation  (X)\n",
    "4. Vegetation  (X)\n",
    "5. Altitude  (X)\n",
    "6. Sun radiation (X)\n",
    "7. Cloudcover  ( )\n",
    "8. Soil temperature (X)\n",
    "9. Air temperature (X)\n",
    "10. Evaporation / Evapotranspiration (X)\n",
    "11. Wind relation (X)\n",
    "12. ? ( )\n",
    "\n",
    "A brief overview of available datasets:  \n",
    "\n",
    "### Earth Engine Datasets\n",
    "#### NASA-USDA Global Soil Moisture Data https://developers.google.com/earth-engine/datasets/catalog/NASA_USDA_HSL_soil_moisture\n",
    "revesit : 3days ; resoltion : 0.25 arc degrees (~25km)\n",
    "Surface soil moisture  \n",
    "Subsurface soil moisture  \n",
    "Soil moisture profile  \n",
    "Surface soil moisture anomaly  \n",
    "Subsurface soil moisture anomaly  \n",
    "#### CHIRPS Daily: Climate Hazards Group InfraRed Precipitation with Station Data https://developers.google.com/earth-engine/datasets/catalog/UCSB-CHG_CHIRPS_DAILY\n",
    "revesit : daily ; resolution : 0.05 arc degrees (~5km)  \n",
    "precipitation mm \n",
    "####  GLDAS-2.1: Global Land Data Assimilation System https://developers.google.com/earth-engine/datasets/catalog/NASA_GLDAS_V021_NOAH_G025_T3H\n",
    "revesit : 3 H , resolotion : 0.25 arc degrees (~25km)  \n",
    "Albedo  \n",
    "Average surface skin temperature  \n",
    "Plant canopy surface water  \n",
    "Canopy water evaporation  \n",
    "Direct evaporation from bare soil  \n",
    "Evapotranspiration  \n",
    "Downward long-wave radiation flux  \n",
    "Net long-wave radiation flux  \n",
    "Potential evaporation rate  \n",
    "Pressure \n",
    "Specific humidity  \n",
    "Heat flux  \n",
    "Sensible heat net flux  \n",
    "Latent heat net flux  \n",
    "Storm surface runoff  \n",
    "Baseflow-groundwater runoff  \n",
    "Snow melt  \n",
    "Total precipitation rat  \n",
    "Rain precipitation rate  \n",
    "Root zone soil moisture  \n",
    "Snow depth water equivalent  \n",
    "Downward short-wave radiation flux  \n",
    "Snow depth  \n",
    "Snow precipitation rate  \n",
    "Soil moisture  \n",
    "Soil temperature  \n",
    "Net short wave radiation flux  \n",
    "Air temperature  \n",
    "Transpiration  \n",
    "Wind speed  \n",
    "\n",
    "### Other Datasets\n",
    "\n",
    "#### Bodenübersichtskarte von Hessen http://bodenviewer.hessen.de/mapapps/resources/apps/bodenviewer/index.html?lang=de\n",
    "Year: 1997, scale: 1 : 500 000 bis zu 1:5000 \n",
    "\n",
    "\n"
   ]
  },
  {
   "cell_type": "markdown",
   "metadata": {},
   "source": [
    "# Soil Type\n",
    "Soil type is important because different kind of soils have different potentials to release water at same weather conditions.   \n",
    "![Image of Yaktocat](http://www.soilmanagementindia.com/wp-content/uploads/2017/03/clip_image002-5.jpg)  \n",
    "\n",
    "I found no source for downloading a soil map in any format there are only wms layer and bodenviewer of HLNUG so i take a screenshot from HLNUG Bodenviewe.  \n",
    "The smallest scale fits on one screenshot. The other two scales (1:50.000 and 1:5.000) need several screenshots. Than you have to stich the images with e.g. autosticht together.  "
   ]
  },
  {
   "cell_type": "code",
   "execution_count": 38,
   "metadata": {},
   "outputs": [
    {
     "data": {
      "text/html": [
       "\n",
       "        <iframe\n",
       "            width=\"1400\"\n",
       "            height=\"600\"\n",
       "            src=\"http://bodenviewer.hessen.de/mapapps/resources/apps/bodenviewer/index.html?lang=de&center=550000%2C5595000%2C25832&lod=3\"\n",
       "            frameborder=\"0\"\n",
       "            allowfullscreen\n",
       "        ></iframe>\n",
       "        "
      ],
      "text/plain": [
       "<IPython.lib.display.IFrame at 0x2d1ffc140f0>"
      ]
     },
     "execution_count": 38,
     "metadata": {},
     "output_type": "execute_result"
    }
   ],
   "source": [
    "IFrame(src='http://bodenviewer.hessen.de/mapapps/resources/apps/bodenviewer/index.html?lang=de&center=550000%2C5595000%2C25832&lod=3', width=1400, height=600)"
   ]
  },
  {
   "cell_type": "markdown",
   "metadata": {},
   "source": [
    "## All Band Classifier (KMeans)\n",
    "Save this images as .tiff or .png to preserve the 3 bands. Because we need to make a KMeans classification and with more bands the classification is better. The number of possible soil classes are 32 + 1 for the white background. "
   ]
  },
  {
   "cell_type": "code",
   "execution_count": 7,
   "metadata": {},
   "outputs": [
    {
     "name": "stdout",
     "output_type": "stream",
     "text": [
      "Color: [227. 207. 173.]  >>  Objects: 5\n",
      "Color: [255. 255. 255.]  >>  Objects: 1\n",
      "Color: [255. 196.  77.]  >>  Objects: 186\n",
      "Color: [183. 230. 246.]  >>  Objects: 108\n",
      "Color: [248. 162. 204.]  >>  Objects: 53\n",
      "Color: [206. 162. 141.]  >>  Objects: 8\n",
      "Color: [255. 225. 166.]  >>  Objects: 127\n",
      "Color: [238. 222.  77.]  >>  Objects: 73\n",
      "Color: [233. 157. 255.]  >>  Objects: 62\n",
      "Color: [255. 210. 239.]  >>  Objects: 2\n",
      "Color: [248. 217. 113.]  >>  Objects: 56\n",
      "Color: [195. 155.  77.]  >>  Objects: 16\n",
      "Color: [255. 197. 210.]  >>  Objects: 229\n",
      "Color: [232. 192. 164.]  >>  Objects: 56\n",
      "Color: [136. 255.  77.]  >>  Objects: 28\n",
      "Color: [223. 161. 115.]  >>  Objects: 9\n",
      "Color: [238. 183.  77.]  >>  Objects: 33\n",
      "Color: [173. 140. 125.]  >>  Objects: 4\n",
      "Color: [239. 210. 255.]  >>  Objects: 40\n",
      "Color: [214. 122. 210.]  >>  Objects: 10\n",
      "Color: [220. 220. 220.]  >>  Objects: 30\n",
      "Color: [220. 220. 148.]  >>  Objects: 11\n",
      "Color: [216. 174. 153.]  >>  Objects: 22\n",
      "Color: [216. 210. 178.]  >>  Objects: 85\n",
      "Color: [195. 168. 115.]  >>  Objects: 6\n",
      "Color: [239. 207. 162.]  >>  Objects: 12\n",
      "Color: [255. 211. 159.]  >>  Objects: 35\n",
      "Color: [255. 166. 166.]  >>  Objects: 10\n",
      "Color: [218. 191. 132.]  >>  Objects: 3\n",
      "Color: [220. 148. 184.]  >>  Objects: 2\n",
      "Color: [255. 229. 132.]  >>  Objects: 12\n",
      "Color: [216. 167. 111.]  >>  Objects: 6\n",
      "Color: [256. 256. 256.]  >>  Objects: 0\n"
     ]
    },
    {
     "data": {
      "image/png": "[encoded data removed]",
      "text/plain": [
       "<Figure size 1440x720 with 1 Axes>"
      ]
     },
     "metadata": {
      "needs_background": "light"
     },
     "output_type": "display_data"
    }
   ],
   "source": [
    "filepath = r'C:\\Users\\USER\\Desktop\\master-thesis-master\\soil_map\\results\\great_hesse_soil_map_ref.tif'\n",
    "\n",
    "#Load file in gdal\n",
    "file = gdal.Open(filepath, gdal.GA_ReadOnly)\n",
    "\n",
    "#Initialize an array of zeros with size of input\n",
    "img = np.zeros((file.RasterYSize, file.RasterXSize, file.RasterCount), gdal_array.GDALTypeCodeToNumericTypeCode(file.GetRasterBand(1).DataType))\n",
    "\n",
    "#Loop over the number of bands in the image (img.shape[2]) insert values into the numpy array\n",
    "for b in range(img.shape[2]):\n",
    "    img[ : , : , b] = file.GetRasterBand(b + 1).ReadAsArray()\n",
    "\n",
    "#Reshape array \n",
    "new_shape = (img.shape[0] * img.shape[1], img.shape[2])\n",
    "\n",
    "#based on this shape, we can build the input value\n",
    "X = img[: , : , :3].reshape(new_shape)\n",
    "#X = np.where(X==150, 255, X) Bad idea because other r ,g or b values may have same as black and gray\n",
    "#X = np.where(X==0, 255, X) \n",
    "\n",
    "#Classifier Kmeans\n",
    "k_means = cluster.KMeans(n_clusters=33)\n",
    "k_means.fit(X)\n",
    "\n",
    "X_cluster = k_means.labels_\n",
    "X_cluster = X_cluster.reshape(img[:, :, 0].shape)\n",
    "\n",
    "#Get statistic values\n",
    "for i in np.unique(X_cluster):\n",
    "    blobs = np.int_(morphology.binary_opening(X_cluster == i))\n",
    "    color = np.around(k_means.cluster_centers_[i])\n",
    "    count = len(np.unique(measure.label(blobs))) - 1\n",
    "    print('Color: {}  >>  Objects: {}'.format(color, count))\n",
    "    \n",
    "#Plot the data\n",
    "plt.figure(figsize=(20,10))\n",
    "plt.imshow(X_cluster)\n",
    "\n",
    "plt.show()\n"
   ]
  },
  {
   "cell_type": "markdown",
   "metadata": {},
   "source": [
    "## Save Classification as GeoTiff "
   ]
  },
  {
   "cell_type": "code",
   "execution_count": null,
   "metadata": {},
   "outputs": [],
   "source": [
    "#Open input image again to get properties\n",
    "file = gdal.Open(filepath)\n",
    "\n",
    "#We need a single band\n",
    "band = file.GetRasterBand(1)\n",
    "\n",
    "#Convert it to an array\n",
    "arr = band.ReadAsArray()\n",
    "\n",
    "#Extract columns and rows to a list\n",
    "[cols, rows] = arr.shape\n",
    "\n",
    "#Set the output as Geotiff\n",
    "format = \"GTiff\"\n",
    "driver = gdal.GetDriverByName(format)\n",
    "\n",
    "#Creates the output raster with the dimensions of the input raster\n",
    "#outDataRaster = driver.Create(\"soil_map_hesse_classify_33.tiff\", rows, cols, 1, gdal.GDT_Byte) -> activate this cell for saving image local\n",
    "\n",
    "#Set the projection and extent of the data.\n",
    "outDataRaster.SetGeoTransform(file.GetGeoTransform())##sets same geotransform as input\n",
    "outDataRaster.SetProjection(file.GetProjection())##sets same projection as input\n",
    "\n",
    "#Write classification result to a single band raster image \n",
    "outDataRaster.GetRasterBand(1).WriteArray(X_cluster)\n",
    "\n",
    "#Calling FlushCache() to remove from memory and delete the data\n",
    "outDataRaster.FlushCache() ## remove from memory\n",
    "del outDataRaster ## delete the data (not the actual geotiff)"
   ]
  },
  {
   "cell_type": "markdown",
   "metadata": {},
   "source": [
    "## Analyse Soil Types within AOI"
   ]
  },
  {
   "cell_type": "code",
   "execution_count": 76,
   "metadata": {},
   "outputs": [
    {
     "name": "stdout",
     "output_type": "stream",
     "text": [
      "soil_map_great_uniqueValues {'b1': 10}\n",
      "soil_map_great_histogram [[1.0, 5417.066666666666], [2.0, 16757.592156862796], [3.0, 3229.0], [4.0, 17947.180392156875], [5.0, 0.0], [6.0, 0.0], [7.0, 8856.82352941177], [8.0, 5301.596078431373], [9.0, 13167.066666666684], [10.0, 0.0], [11.0, 0.0], [12.0, 0.0], [13.0, 0.0], [14.0, 0.0], [15.0, 0.0], [16.0, 0.0], [17.0, 0.0], [18.0, 0.0], [19.0, 0.0], [20.0, 0.0], [21.0, 0.0], [22.0, 0.0], [23.0, 0.0], [24.0, 0.0], [25.0, 1755.694117647058], [26.0, 0.0], [27.0, 0.0], [28.0, 0.0], [29.0, 0.0], [30.0, 0.0], [31.0, 0.0], [32.0, 0.0], [33.0, 0.0], [34.0, 108.71372549019608]]\n"
     ]
    },
    {
     "data": {
      "application/vnd.jupyter.widget-view+json": {
       "model_id": "4ae8760ebc4947b5ad19d4c96f2cc5c9",
       "version_major": 2,
       "version_minor": 0
      },
      "text/plain": [
       "Map(basemap={'url': 'http://server.arcgisonline.com/ArcGIS/rest/services/NatGeo_World_Map/MapServer/tile/{z}/{…"
      ]
     },
     "metadata": {},
     "output_type": "display_data"
    }
   ],
   "source": [
    "#Load Soil Types from BÜK 1:500.000 and clip to AOI\n",
    "soil_map_great = ee.Image('users/tillmueller1990/soil_map_hesse_classify_33').clip(ried_225_222)\n",
    "\n",
    "#Mask out image \n",
    "mask = soil_map_great.neq(1) #Value 1 is invalid its the background (white) from screenshot \n",
    "soil_map_great = soil_map_great.updateMask(mask) #Apply Mask\n",
    "\n",
    "#Correct raster values to corresponding soil class values \n",
    "soil_map_great = soil_map_great.where(soil_map_great.eq(14),1)\n",
    "soil_map_great = soil_map_great.where(soil_map_great.eq(3),2)\n",
    "soil_map_great = soil_map_great.where(soil_map_great.eq(31),3)\n",
    "soil_map_great = soil_map_great.where(soil_map_great.eq(19),4)\n",
    "soil_map_great = soil_map_great.where(soil_map_great.eq(8),5)\n",
    "soil_map_great = soil_map_great.where(soil_map_great.eq(9),7)\n",
    "soil_map_great = soil_map_great.where(soil_map_great.eq(0),8)\n",
    "soil_map_great = soil_map_great.where(soil_map_great.eq(5),9)\n",
    "soil_map_great = soil_map_great.where(soil_map_great.eq(12),34)\n",
    "\n",
    "\n",
    "#Get Unique values to check if every value is signed correctly \n",
    "soil_map_great_uniqueValues = soil_map_great.reduceRegion(reducer=ee.Reducer.countDistinct(), geometry=soil_map_great.geometry(), scale= 100,maxPixels= 1e10)\n",
    "print(\"soil_map_great_uniqueValues\", soil_map_great_uniqueValues.getInfo())\n",
    "print(\"soil_map_great_histogram\", soil_map_great_histogram)\n",
    "\n",
    "#Convert an image to a feature collection by reducing homogenous regions\n",
    "soil_map_great_labeled = soil_map_great.connectedComponents(ee.Kernel.plus(1), 256)\n",
    "features = soil_map_great_labeled.reduceToVectors(reducer = ee.Reducer.first(), geometry= soil_map_great.geometry(), scale= 100, geometryType= 'Polygon', eightConnected= False)\n",
    "#print(features.getInfo())\n",
    "\n",
    "#Create LookUp Table for raster values corresponding to the soil type \n",
    "soil_types_legend = {1:'Niedermoore, Hochmoore', 2:'Vega, Auengleye, örtl. Anmoorgleye', 3:'Tschernoseme', 4:'Parabraunerden', 5:'Braunerden mit Bändern, Bänder-Parabraunerden, örtl. Podsol-Braunerden', 7:'Pararendzinen, Braunerden mit Bändern, örtl. Bänder-Parabraunerden', 8:'Braunerden mit Bändern, Bänder-Parabraunerden, örtl. Podsol-Braunerden', 9:'Pararendzinen', 25: 'Braunerden, Ranker-Braunerden, Regosol-Braunerden' , 34 : 'Braunerden, Braunerde-Pseudogleye, örtl. Podsol-Braunerden'} #Legende\n",
    "raster_value_soil_value = {14:1, 3:2, 31:3, 19:4, 8:5, 9:7 , 0:8, 5:9 } # Value in raster value of legend\n",
    "\n",
    "class_areas = ee.Image.pixelArea().addBands(soil_map_great).reduceRegion(reducer= ee.Reducer.sum().group(groupField= 1,groupName= 'class'),geometry=soil_map_great.geometry(),scale= 100, maxPixels= 1e10).get('groups') # sample the geometry at 1m intervals;\n",
    "#print(\"class_areas\",class_areas.getInfo())\n",
    "\n",
    "#create basemap\n",
    "map_s = Map(center = center, zoom = zoom, basemap=basemaps.Esri.NatGeoWorldMap)\n",
    "#add Layer to map\n",
    "soil_map_great_viz = GetTileLayerUrl(soil_map_great.visualize()) #Create GeoJSON ipyleaflet object\n",
    "soil_map_great_layer = ipyleaflet.TileLayer(url=soil_map_great_viz,name='soil_map_great')\n",
    "\n",
    "soil_map_great_patches_viz = GetTileLayerUrl(features.draw(color= '006600').visualize())\n",
    "soil_map_great_patches_layer = ipyleaflet.TileLayer(url=soil_map_great_patches_viz, name='soil_class features')\n",
    "\n",
    "map_s.add_layer(soil_map_great_layer) #add layer to map\n",
    "map_s.add_layer(soil_map_great_patches_layer) #add layer to map\n",
    "\n",
    "#display map\n",
    "map_s.add_control(LayersControl())\n",
    "map_s\n",
    "\n"
   ]
  },
  {
   "cell_type": "code",
   "execution_count": 77,
   "metadata": {},
   "outputs": [
    {
     "data": {
      "image/png": "[encoded data removed]",
      "text/plain": [
       "<Figure size 432x288 with 1 Axes>"
      ]
     },
     "metadata": {
      "needs_background": "light"
     },
     "output_type": "display_data"
    }
   ],
   "source": [
    "histogram_soil_map_great = get_histogram_from_image(soil_map_great)\n",
    "\n",
    "plt.bar(histogram_soil_map_great.keys(), histogram_soil_map_great.values(), color='g')\n",
    "plt.title(\"Histogram soil class\")\n",
    "plt.show()"
   ]
  },
  {
   "cell_type": "code",
   "execution_count": 69,
   "metadata": {},
   "outputs": [
    {
     "name": "stdout",
     "output_type": "stream",
     "text": [
      "['labels', 'b1']\n",
      "{'groups': [{'count': 503, 'patch id': 2005749729182}, {'count': 6766, 'patch id': 2005749729185}, {'count': 7, 'patch id': 2010044696476}, {'count': 127, 'patch id': 2014339663770}, {'count': 200, 'patch id': 2104533977025}, {'count': 519, 'patch id': 2130303780806}, {'count': 467, 'patch id': 2207613192426}, {'count': 3164, 'patch id': 2211908159388}, {'count': 1560, 'patch id': 2220498093978}, {'count': 6, 'patch id': 2220498094266}, {'count': 550, 'patch id': 2229088028633}, {'count': 2006, 'patch id': 2263447767181}, {'count': 552, 'patch id': 2263447767223}, {'count': 852, 'patch id': 2276332669101}, {'count': 6568, 'patch id': 2319282341985}, {'count': 46, 'patch id': 2357937047494}, {'count': 716, 'patch id': 2357937047502}, {'count': 68, 'patch id': 2366526982102}, {'count': 7555, 'patch id': 2392296786053}, {'count': 488, 'patch id': 2448131360856}, {'count': 98, 'patch id': 2456721295578}, {'count': 1, 'patch id': 2478196132177}, {'count': 9, 'patch id': 2525440772083}, {'count': 9, 'patch id': 2538325673979}, {'count': 701, 'patch id': 2551210575875}, {'count': 2310, 'patch id': 2559800510642}, {'count': 523, 'patch id': 2572685412390}, {'count': 58, 'patch id': 2572685412488}, {'count': 2313, 'patch id': 2581275346870}, {'count': 2253, 'patch id': 2585570314487}, {'count': 24, 'patch id': 2585570314590}, {'count': 157, 'patch id': 2619930052754}, {'count': 8824, 'patch id': 2628519987155}, {'count': 9, 'patch id': 2628519987550}, {'count': 10, 'patch id': 2641404889232}, {'count': 261, 'patch id': 2662879725675}, {'count': 125, 'patch id': 2662879725698}, {'count': 375, 'patch id': 2662879725873}, {'count': 21, 'patch id': 2662879725916}, {'count': 494, 'patch id': 2675764627735}, {'count': 5, 'patch id': 2710124366164}, {'count': 6, 'patch id': 2718714300515}, {'count': 1952, 'patch id': 2718714300536}, {'count': 467, 'patch id': 2731599202403}, {'count': 354, 'patch id': 2778843842481}, {'count': 369, 'patch id': 2800318679117}, {'count': 1667, 'patch id': 2800318679149}, {'count': 84, 'patch id': 2813203581156}, {'count': 97, 'patch id': 2821793515709}, {'count': 733, 'patch id': 2834678417504}, {'count': 175, 'patch id': 2847563319522}, {'count': 236, 'patch id': 2869038155753}, {'count': 12, 'patch id': 2869038155941}, {'count': 280, 'patch id': 2877628090312}, {'count': 3, 'patch id': 2877628090456}, {'count': 2, 'patch id': 2877628090544}, {'count': 35, 'patch id': 2890512992434}, {'count': 410, 'patch id': 2890512992453}, {'count': 382, 'patch id': 2937757632516}, {'count': 5, 'patch id': 2946347567118}]}\n"
     ]
    }
   ],
   "source": [
    "#ried_viz = GetTileLayerUrl(ried_225_222.visualize())\n",
    "#In order to analyse the soil-moisture content we need to know more about the landuse and landcover. We are interested in fields with less or no vegetation.   \n",
    "#Grouped a count reducer: count number of land cover category pixels by patches\n",
    "print(soil_map_great_labeled.bandNames().getInfo())\n",
    "count = soil_map_great_labeled.select(['labels','b1']).reduceRegion(reducer= ee.Reducer.count().group(groupField= 0, groupName= 'patch id'), geometry= ried_geometry, scale= 100,  maxPixels= 1e8)\n",
    "print(count.getInfo())"
   ]
  }
 ],
 "metadata": {
  "kernelspec": {
   "display_name": "Python 3",
   "language": "python",
   "name": "python3"
  },
  "language_info": {
   "codemirror_mode": {
    "name": "ipython",
    "version": 3
   },
   "file_extension": ".py",
   "mimetype": "text/x-python",
   "name": "python",
   "nbconvert_exporter": "python",
   "pygments_lexer": "ipython3",
   "version": "3.7.3"
  }
 },
 "nbformat": 4,
 "nbformat_minor": 4
}
