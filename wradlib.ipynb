{
 "cells": [
  {
   "cell_type": "markdown",
   "metadata": {},
   "source": [
    "https://docs.wradlib.org/en/stable/notebooks/fileio/wradlib_gis_export_example.html?highlight=geotiff#Step-4a:-Export-as-GeoTIFF"
   ]
  },
  {
   "cell_type": "markdown",
   "metadata": {},
   "source": [
    "### export a gridded dataset in GeoTIFF and ESRI ASCII format. This will be exemplified using RADOLAN data from the German Weather Service."
   ]
  },
  {
   "cell_type": "markdown",
   "metadata": {},
   "source": [
    "## Import Modules"
   ]
  },
  {
   "cell_type": "code",
   "execution_count": 1,
   "metadata": {},
   "outputs": [],
   "source": [
    "import wradlib as wrl\n",
    "import numpy as np\n",
    "import warnings\n",
    "warnings.filterwarnings('ignore')"
   ]
  },
  {
   "cell_type": "markdown",
   "metadata": {},
   "source": [
    "## Step 1: Read the original data"
   ]
  },
  {
   "cell_type": "code",
   "execution_count": 2,
   "metadata": {},
   "outputs": [],
   "source": [
    "# We will export this RADOLAN dataset to a GIS compatible format\n",
    "data_raw, meta  = wrl.io.read_radolan_composite(\"/home/elisabeth/Dokumente/master/2014_07/raa01-sf_10000-1407282350-dwd---bin\")\n",
    "\n",
    "\n"
   ]
  },
  {
   "cell_type": "markdown",
   "metadata": {},
   "source": [
    "## Step 2: Get the projected coordinates of the RADOLAN grid"
   ]
  },
  {
   "cell_type": "code",
   "execution_count": 3,
   "metadata": {},
   "outputs": [],
   "source": [
    "# This is the RADOLAN projection\n",
    "proj_osr = wrl.georef.create_osr(\"dwd-radolan\")\n",
    "\n",
    "# Get projected RADOLAN coordinates for corner definition\n",
    "xy_raw = wrl.georef.get_radolan_grid(900, 900)"
   ]
  },
  {
   "cell_type": "markdown",
   "metadata": {},
   "source": [
    "### We know, that wrl.read_radolan_composite returns a 2D-array (rows, cols) with the origin in the lower left corner. Same applies to wrl.georef.get_radolan_grid. For the next step, we need to flip the data and the coords up-down. The coordinate corner points also need to be adjusted from lower left corner to upper right corner."
   ]
  },
  {
   "cell_type": "code",
   "execution_count": 4,
   "metadata": {},
   "outputs": [],
   "source": [
    "data, xy = wrl.georef.set_raster_origin(data_raw, xy_raw, 'upper')"
   ]
  },
  {
   "cell_type": "markdown",
   "metadata": {},
   "source": [
    "## Step 4a: Export as GeoTIFF"
   ]
  },
  {
   "cell_type": "markdown",
   "metadata": {},
   "source": [
    "### For RADOLAN grids, this projection will probably not be recognized by ESRI ArcGIS."
   ]
  },
  {
   "cell_type": "code",
   "execution_count": 7,
   "metadata": {},
   "outputs": [],
   "source": [
    "# create 3 bands\n",
    "wdir = \"/home/elisabeth/Dokumente/master/2014_01/out/\"\n",
    "data = np.stack((data, data+100, data+1000))\n",
    "ds = wrl.georef.create_raster_dataset(data, xy, projection=proj_osr)\n",
    "wrl.io.write_raster_dataset(wdir + \"R_2014_07_28.tif\", ds, 'GTiff')"
   ]
  },
  {
   "cell_type": "markdown",
   "metadata": {},
   "source": [
    "## Step 4b: Export as ESRI ASCII file (aka Arc/Info ASCII Grid)"
   ]
  },
  {
   "cell_type": "code",
   "execution_count": 8,
   "metadata": {},
   "outputs": [],
   "source": [
    "# Export to Arc/Info ASCII Grid format (aka ESRI grid)\n",
    "#     It should be possible to import this to most conventional\n",
    "# GIS software.\n",
    "# only use first band\n",
    "proj_esri = proj_osr.Clone()\n",
    "proj_esri.MorphToESRI()\n",
    "ds = wrl.georef.create_raster_dataset(data[0], xy, projection=proj_esri)\n",
    "wrl.io.write_raster_dataset(wdir + \"2014_07_28.asc\", ds, 'AAIGrid', options=['DECIMAL_PRECISION=2'])"
   ]
  },
  {
   "cell_type": "markdown",
   "metadata": {},
   "source": [
    "## Translate it to Geotiff with gdal in bash console "
   ]
  },
  {
   "cell_type": "code",
   "execution_count": null,
   "metadata": {},
   "outputs": [],
   "source": [
    "#cd /home/elisabeth/Dokumente/master/2014_01/out/\n",
    "#!gdal_translate -of \"GTiff\" 2014_07_28.asc 2014_07_28_translate.tif\n"
   ]
  },
  {
   "cell_type": "markdown",
   "metadata": {},
   "source": [
    "## upload to Drive Account"
   ]
  },
  {
   "cell_type": "code",
   "execution_count": 1,
   "metadata": {},
   "outputs": [
    {
     "ename": "InvalidConfigError",
     "evalue": "Invalid client secrets file ('Error opening file', 'client_secrets.json', 'No such file or directory', 2)",
     "output_type": "error",
     "traceback": [
      "\u001b[0;31m---------------------------------------------------------------------------\u001b[0m",
      "\u001b[0;31mFileNotFoundError\u001b[0m                         Traceback (most recent call last)",
      "\u001b[0;32m~/miniconda3/envs/wradlib/lib/python3.7/site-packages/oauth2client/clientsecrets.py\u001b[0m in \u001b[0;36m_loadfile\u001b[0;34m(filename)\u001b[0m\n\u001b[1;32m    120\u001b[0m     \u001b[0;32mtry\u001b[0m\u001b[0;34m:\u001b[0m\u001b[0;34m\u001b[0m\u001b[0;34m\u001b[0m\u001b[0m\n\u001b[0;32m--> 121\u001b[0;31m         \u001b[0;32mwith\u001b[0m \u001b[0mopen\u001b[0m\u001b[0;34m(\u001b[0m\u001b[0mfilename\u001b[0m\u001b[0;34m,\u001b[0m \u001b[0;34m'r'\u001b[0m\u001b[0;34m)\u001b[0m \u001b[0;32mas\u001b[0m \u001b[0mfp\u001b[0m\u001b[0;34m:\u001b[0m\u001b[0;34m\u001b[0m\u001b[0;34m\u001b[0m\u001b[0m\n\u001b[0m\u001b[1;32m    122\u001b[0m             \u001b[0mobj\u001b[0m \u001b[0;34m=\u001b[0m \u001b[0mjson\u001b[0m\u001b[0;34m.\u001b[0m\u001b[0mload\u001b[0m\u001b[0;34m(\u001b[0m\u001b[0mfp\u001b[0m\u001b[0;34m)\u001b[0m\u001b[0;34m\u001b[0m\u001b[0;34m\u001b[0m\u001b[0m\n",
      "\u001b[0;31mFileNotFoundError\u001b[0m: [Errno 2] No such file or directory: 'client_secrets.json'",
      "\nDuring handling of the above exception, another exception occurred:\n",
      "\u001b[0;31mInvalidClientSecretsError\u001b[0m                 Traceback (most recent call last)",
      "\u001b[0;32m~/miniconda3/envs/wradlib/lib/python3.7/site-packages/pydrive/auth.py\u001b[0m in \u001b[0;36mLoadClientConfigFile\u001b[0;34m(self, client_config_file)\u001b[0m\n\u001b[1;32m    385\u001b[0m     \u001b[0;32mtry\u001b[0m\u001b[0;34m:\u001b[0m\u001b[0;34m\u001b[0m\u001b[0;34m\u001b[0m\u001b[0m\n\u001b[0;32m--> 386\u001b[0;31m       \u001b[0mclient_type\u001b[0m\u001b[0;34m,\u001b[0m \u001b[0mclient_info\u001b[0m \u001b[0;34m=\u001b[0m \u001b[0mclientsecrets\u001b[0m\u001b[0;34m.\u001b[0m\u001b[0mloadfile\u001b[0m\u001b[0;34m(\u001b[0m\u001b[0mclient_config_file\u001b[0m\u001b[0;34m)\u001b[0m\u001b[0;34m\u001b[0m\u001b[0;34m\u001b[0m\u001b[0m\n\u001b[0m\u001b[1;32m    387\u001b[0m     \u001b[0;32mexcept\u001b[0m \u001b[0mclientsecrets\u001b[0m\u001b[0;34m.\u001b[0m\u001b[0mInvalidClientSecretsError\u001b[0m \u001b[0;32mas\u001b[0m \u001b[0merror\u001b[0m\u001b[0;34m:\u001b[0m\u001b[0;34m\u001b[0m\u001b[0;34m\u001b[0m\u001b[0m\n",
      "\u001b[0;32m~/miniconda3/envs/wradlib/lib/python3.7/site-packages/oauth2client/clientsecrets.py\u001b[0m in \u001b[0;36mloadfile\u001b[0;34m(filename, cache)\u001b[0m\n\u001b[1;32m    164\u001b[0m     \u001b[0;32mif\u001b[0m \u001b[0;32mnot\u001b[0m \u001b[0mcache\u001b[0m\u001b[0;34m:\u001b[0m\u001b[0;34m\u001b[0m\u001b[0;34m\u001b[0m\u001b[0m\n\u001b[0;32m--> 165\u001b[0;31m         \u001b[0;32mreturn\u001b[0m \u001b[0m_loadfile\u001b[0m\u001b[0;34m(\u001b[0m\u001b[0mfilename\u001b[0m\u001b[0;34m)\u001b[0m\u001b[0;34m\u001b[0m\u001b[0;34m\u001b[0m\u001b[0m\n\u001b[0m\u001b[1;32m    166\u001b[0m \u001b[0;34m\u001b[0m\u001b[0m\n",
      "\u001b[0;32m~/miniconda3/envs/wradlib/lib/python3.7/site-packages/oauth2client/clientsecrets.py\u001b[0m in \u001b[0;36m_loadfile\u001b[0;34m(filename)\u001b[0m\n\u001b[1;32m    124\u001b[0m         raise InvalidClientSecretsError('Error opening file', exc.filename,\n\u001b[0;32m--> 125\u001b[0;31m                                         exc.strerror, exc.errno)\n\u001b[0m\u001b[1;32m    126\u001b[0m     \u001b[0;32mreturn\u001b[0m \u001b[0m_validate_clientsecrets\u001b[0m\u001b[0;34m(\u001b[0m\u001b[0mobj\u001b[0m\u001b[0;34m)\u001b[0m\u001b[0;34m\u001b[0m\u001b[0;34m\u001b[0m\u001b[0m\n",
      "\u001b[0;31mInvalidClientSecretsError\u001b[0m: ('Error opening file', 'client_secrets.json', 'No such file or directory', 2)",
      "\nDuring handling of the above exception, another exception occurred:\n",
      "\u001b[0;31mInvalidConfigError\u001b[0m                        Traceback (most recent call last)",
      "\u001b[0;32m<ipython-input-1-288895aa79a8>\u001b[0m in \u001b[0;36m<module>\u001b[0;34m\u001b[0m\n\u001b[1;32m      4\u001b[0m \u001b[0;34m\u001b[0m\u001b[0m\n\u001b[1;32m      5\u001b[0m \u001b[0mg_login\u001b[0m \u001b[0;34m=\u001b[0m \u001b[0mGoogleAuth\u001b[0m\u001b[0;34m(\u001b[0m\u001b[0;34m)\u001b[0m\u001b[0;34m\u001b[0m\u001b[0;34m\u001b[0m\u001b[0m\n\u001b[0;32m----> 6\u001b[0;31m \u001b[0mg_login\u001b[0m\u001b[0;34m.\u001b[0m\u001b[0mLocalWebserverAuth\u001b[0m\u001b[0;34m(\u001b[0m\u001b[0;34m)\u001b[0m \u001b[0;31m# Creates local webserver and auto handles authentication.\u001b[0m\u001b[0;34m\u001b[0m\u001b[0;34m\u001b[0m\u001b[0m\n\u001b[0m\u001b[1;32m      7\u001b[0m \u001b[0mdrive\u001b[0m \u001b[0;34m=\u001b[0m \u001b[0mGoogleDrive\u001b[0m\u001b[0;34m(\u001b[0m\u001b[0mg_login\u001b[0m\u001b[0;34m)\u001b[0m\u001b[0;34m\u001b[0m\u001b[0;34m\u001b[0m\u001b[0m\n",
      "\u001b[0;32m~/miniconda3/envs/wradlib/lib/python3.7/site-packages/pydrive/auth.py\u001b[0m in \u001b[0;36m_decorated\u001b[0;34m(self, *args, **kwargs)\u001b[0m\n\u001b[1;32m    111\u001b[0m       \u001b[0mself\u001b[0m\u001b[0;34m.\u001b[0m\u001b[0mLoadCredentials\u001b[0m\u001b[0;34m(\u001b[0m\u001b[0;34m)\u001b[0m\u001b[0;34m\u001b[0m\u001b[0;34m\u001b[0m\u001b[0m\n\u001b[1;32m    112\u001b[0m     \u001b[0;32mif\u001b[0m \u001b[0mself\u001b[0m\u001b[0;34m.\u001b[0m\u001b[0mflow\u001b[0m \u001b[0;32mis\u001b[0m \u001b[0;32mNone\u001b[0m\u001b[0;34m:\u001b[0m\u001b[0;34m\u001b[0m\u001b[0;34m\u001b[0m\u001b[0m\n\u001b[0;32m--> 113\u001b[0;31m       \u001b[0mself\u001b[0m\u001b[0;34m.\u001b[0m\u001b[0mGetFlow\u001b[0m\u001b[0;34m(\u001b[0m\u001b[0;34m)\u001b[0m\u001b[0;34m\u001b[0m\u001b[0;34m\u001b[0m\u001b[0m\n\u001b[0m\u001b[1;32m    114\u001b[0m     \u001b[0;32mif\u001b[0m \u001b[0mself\u001b[0m\u001b[0;34m.\u001b[0m\u001b[0mcredentials\u001b[0m \u001b[0;32mis\u001b[0m \u001b[0;32mNone\u001b[0m\u001b[0;34m:\u001b[0m\u001b[0;34m\u001b[0m\u001b[0;34m\u001b[0m\u001b[0m\n\u001b[1;32m    115\u001b[0m       \u001b[0mcode\u001b[0m \u001b[0;34m=\u001b[0m \u001b[0mdecoratee\u001b[0m\u001b[0;34m(\u001b[0m\u001b[0mself\u001b[0m\u001b[0;34m,\u001b[0m \u001b[0;34m*\u001b[0m\u001b[0margs\u001b[0m\u001b[0;34m,\u001b[0m \u001b[0;34m**\u001b[0m\u001b[0mkwargs\u001b[0m\u001b[0;34m)\u001b[0m\u001b[0;34m\u001b[0m\u001b[0;34m\u001b[0m\u001b[0m\n",
      "\u001b[0;32m~/miniconda3/envs/wradlib/lib/python3.7/site-packages/pydrive/auth.py\u001b[0m in \u001b[0;36mGetFlow\u001b[0;34m(self)\u001b[0m\n\u001b[1;32m    441\u001b[0m     if not all(config in self.client_config \\\n\u001b[1;32m    442\u001b[0m                for config in self.CLIENT_CONFIGS_LIST):\n\u001b[0;32m--> 443\u001b[0;31m       \u001b[0mself\u001b[0m\u001b[0;34m.\u001b[0m\u001b[0mLoadClientConfig\u001b[0m\u001b[0;34m(\u001b[0m\u001b[0;34m)\u001b[0m\u001b[0;34m\u001b[0m\u001b[0;34m\u001b[0m\u001b[0m\n\u001b[0m\u001b[1;32m    444\u001b[0m     constructor_kwargs = {\n\u001b[1;32m    445\u001b[0m         \u001b[0;34m'redirect_uri'\u001b[0m\u001b[0;34m:\u001b[0m \u001b[0mself\u001b[0m\u001b[0;34m.\u001b[0m\u001b[0mclient_config\u001b[0m\u001b[0;34m[\u001b[0m\u001b[0;34m'redirect_uri'\u001b[0m\u001b[0;34m]\u001b[0m\u001b[0;34m,\u001b[0m\u001b[0;34m\u001b[0m\u001b[0;34m\u001b[0m\u001b[0m\n",
      "\u001b[0;32m~/miniconda3/envs/wradlib/lib/python3.7/site-packages/pydrive/auth.py\u001b[0m in \u001b[0;36mLoadClientConfig\u001b[0;34m(self, backend)\u001b[0m\n\u001b[1;32m    364\u001b[0m         \u001b[0;32mraise\u001b[0m \u001b[0mInvalidConfigError\u001b[0m\u001b[0;34m(\u001b[0m\u001b[0;34m'Please specify client config backend'\u001b[0m\u001b[0;34m)\u001b[0m\u001b[0;34m\u001b[0m\u001b[0;34m\u001b[0m\u001b[0m\n\u001b[1;32m    365\u001b[0m     \u001b[0;32mif\u001b[0m \u001b[0mbackend\u001b[0m \u001b[0;34m==\u001b[0m \u001b[0;34m'file'\u001b[0m\u001b[0;34m:\u001b[0m\u001b[0;34m\u001b[0m\u001b[0;34m\u001b[0m\u001b[0m\n\u001b[0;32m--> 366\u001b[0;31m       \u001b[0mself\u001b[0m\u001b[0;34m.\u001b[0m\u001b[0mLoadClientConfigFile\u001b[0m\u001b[0;34m(\u001b[0m\u001b[0;34m)\u001b[0m\u001b[0;34m\u001b[0m\u001b[0;34m\u001b[0m\u001b[0m\n\u001b[0m\u001b[1;32m    367\u001b[0m     \u001b[0;32melif\u001b[0m \u001b[0mbackend\u001b[0m \u001b[0;34m==\u001b[0m \u001b[0;34m'settings'\u001b[0m\u001b[0;34m:\u001b[0m\u001b[0;34m\u001b[0m\u001b[0;34m\u001b[0m\u001b[0m\n\u001b[1;32m    368\u001b[0m       \u001b[0mself\u001b[0m\u001b[0;34m.\u001b[0m\u001b[0mLoadClientConfigSettings\u001b[0m\u001b[0;34m(\u001b[0m\u001b[0;34m)\u001b[0m\u001b[0;34m\u001b[0m\u001b[0;34m\u001b[0m\u001b[0m\n",
      "\u001b[0;32m~/miniconda3/envs/wradlib/lib/python3.7/site-packages/pydrive/auth.py\u001b[0m in \u001b[0;36mLoadClientConfigFile\u001b[0;34m(self, client_config_file)\u001b[0m\n\u001b[1;32m    386\u001b[0m       \u001b[0mclient_type\u001b[0m\u001b[0;34m,\u001b[0m \u001b[0mclient_info\u001b[0m \u001b[0;34m=\u001b[0m \u001b[0mclientsecrets\u001b[0m\u001b[0;34m.\u001b[0m\u001b[0mloadfile\u001b[0m\u001b[0;34m(\u001b[0m\u001b[0mclient_config_file\u001b[0m\u001b[0;34m)\u001b[0m\u001b[0;34m\u001b[0m\u001b[0;34m\u001b[0m\u001b[0m\n\u001b[1;32m    387\u001b[0m     \u001b[0;32mexcept\u001b[0m \u001b[0mclientsecrets\u001b[0m\u001b[0;34m.\u001b[0m\u001b[0mInvalidClientSecretsError\u001b[0m \u001b[0;32mas\u001b[0m \u001b[0merror\u001b[0m\u001b[0;34m:\u001b[0m\u001b[0;34m\u001b[0m\u001b[0;34m\u001b[0m\u001b[0m\n\u001b[0;32m--> 388\u001b[0;31m       \u001b[0;32mraise\u001b[0m \u001b[0mInvalidConfigError\u001b[0m\u001b[0;34m(\u001b[0m\u001b[0;34m'Invalid client secrets file %s'\u001b[0m \u001b[0;34m%\u001b[0m \u001b[0merror\u001b[0m\u001b[0;34m)\u001b[0m\u001b[0;34m\u001b[0m\u001b[0;34m\u001b[0m\u001b[0m\n\u001b[0m\u001b[1;32m    389\u001b[0m     if not client_type in (clientsecrets.TYPE_WEB,\n\u001b[1;32m    390\u001b[0m                            clientsecrets.TYPE_INSTALLED):\n",
      "\u001b[0;31mInvalidConfigError\u001b[0m: Invalid client secrets file ('Error opening file', 'client_secrets.json', 'No such file or directory', 2)"
     ]
    }
   ],
   "source": [
    "from pydrive.auth import GoogleAuth\n",
    "from pydrive.drive import GoogleDrive\n",
    "import os \n",
    "\n",
    "g_login = GoogleAuth() \n",
    "g_login.LocalWebserverAuth() # Creates local webserver and auto handles authentication.\n",
    "drive = GoogleDrive(g_login)"
   ]
  },
  {
   "cell_type": "markdown",
   "metadata": {},
   "source": [
    "## Step 5a: Read from GeoTIFF"
   ]
  },
  {
   "cell_type": "code",
   "execution_count": 9,
   "metadata": {},
   "outputs": [],
   "source": [
    "wdir = \"/home/elisabeth/Dokumente/master/2014_01/out/\"\n",
    "ds1 = wrl.io.open_raster(wdir + \"R_2014_07_28.tif\")\n",
    "data1, xy1, proj1 = wrl.georef.extract_raster_dataset(ds1, nodata=-9999.)\n",
    "np.testing.assert_array_equal(data1, data)\n",
    "np.testing.assert_array_equal(xy1[:-1,:-1,:], xy)"
   ]
  },
  {
   "cell_type": "code",
   "execution_count": null,
   "metadata": {},
   "outputs": [],
   "source": []
  },
  {
   "cell_type": "code",
   "execution_count": 10,
   "metadata": {},
   "outputs": [
    {
     "ename": "ValueError",
     "evalue": "The truth value of an array with more than one element is ambiguous. Use a.any() or a.all()",
     "output_type": "error",
     "traceback": [
      "\u001b[0;31m---------------------------------------------------------------------------\u001b[0m",
      "\u001b[0;31mValueError\u001b[0m                                Traceback (most recent call last)",
      "\u001b[0;32m<ipython-input-10-6f9dd1ab8bc8>\u001b[0m in \u001b[0;36m<module>\u001b[0;34m\u001b[0m\n\u001b[1;32m      1\u001b[0m \u001b[0;31m#Reproject/Resample given dataset according to keyword arguments\u001b[0m\u001b[0;34m\u001b[0m\u001b[0;34m\u001b[0m\u001b[0;34m\u001b[0m\u001b[0m\n\u001b[1;32m      2\u001b[0m \u001b[0mradolan_grid_ll\u001b[0m \u001b[0;34m=\u001b[0m \u001b[0mwrl\u001b[0m\u001b[0;34m.\u001b[0m\u001b[0mgeoref\u001b[0m\u001b[0;34m.\u001b[0m\u001b[0mget_radolan_grid\u001b[0m\u001b[0;34m(\u001b[0m\u001b[0;36m900\u001b[0m\u001b[0;34m,\u001b[0m\u001b[0;36m900\u001b[0m\u001b[0;34m,\u001b[0m \u001b[0mwgs84\u001b[0m\u001b[0;34m=\u001b[0m\u001b[0;32mTrue\u001b[0m\u001b[0;34m)\u001b[0m\u001b[0;34m\u001b[0m\u001b[0;34m\u001b[0m\u001b[0m\n\u001b[0;32m----> 3\u001b[0;31m \u001b[0mnew_raster\u001b[0m \u001b[0;34m=\u001b[0m \u001b[0mwrl\u001b[0m\u001b[0;34m.\u001b[0m\u001b[0mgeoref\u001b[0m\u001b[0;34m.\u001b[0m\u001b[0mraster\u001b[0m\u001b[0;34m.\u001b[0m\u001b[0mreproject_raster_dataset\u001b[0m\u001b[0;34m(\u001b[0m\u001b[0mds1\u001b[0m\u001b[0;34m,\u001b[0m \u001b[0mspacing\u001b[0m\u001b[0;34m=\u001b[0m\u001b[0;36m1000.00\u001b[0m\u001b[0;34m,\u001b[0m \u001b[0mprojection_target\u001b[0m\u001b[0;34m=\u001b[0m\u001b[0mradolan_grid_ll\u001b[0m\u001b[0;34m,\u001b[0m\u001b[0malign\u001b[0m\u001b[0;34m=\u001b[0m\u001b[0;32mTrue\u001b[0m\u001b[0;34m)\u001b[0m\u001b[0;34m\u001b[0m\u001b[0;34m\u001b[0m\u001b[0m\n\u001b[0m",
      "\u001b[0;32m~/miniconda3/envs/wradlib/lib/python3.7/site-packages/wradlib/georef/raster.py\u001b[0m in \u001b[0;36mreproject_raster_dataset\u001b[0;34m(src_ds, **kwargs)\u001b[0m\n\u001b[1;32m    403\u001b[0m                         [lrx, lry]]])\n\u001b[1;32m    404\u001b[0m \u001b[0;34m\u001b[0m\u001b[0m\n\u001b[0;32m--> 405\u001b[0;31m     \u001b[0;32mif\u001b[0m \u001b[0mdst_srs\u001b[0m\u001b[0;34m:\u001b[0m\u001b[0;34m\u001b[0m\u001b[0;34m\u001b[0m\u001b[0m\n\u001b[0m\u001b[1;32m    406\u001b[0m         \u001b[0mprint\u001b[0m\u001b[0;34m(\u001b[0m\u001b[0;34m\"dest_src available\"\u001b[0m\u001b[0;34m)\u001b[0m\u001b[0;34m\u001b[0m\u001b[0;34m\u001b[0m\u001b[0m\n\u001b[1;32m    407\u001b[0m         \u001b[0msrc_srs\u001b[0m \u001b[0;34m=\u001b[0m \u001b[0mosr\u001b[0m\u001b[0;34m.\u001b[0m\u001b[0mSpatialReference\u001b[0m\u001b[0;34m(\u001b[0m\u001b[0;34m)\u001b[0m\u001b[0;34m\u001b[0m\u001b[0;34m\u001b[0m\u001b[0m\n",
      "\u001b[0;31mValueError\u001b[0m: The truth value of an array with more than one element is ambiguous. Use a.any() or a.all()"
     ]
    }
   ],
   "source": [
    "#Reproject/Resample given dataset according to keyword arguments\n",
    "radolan_grid_ll = wrl.georef.get_radolan_grid(900,900, wgs84=True)\n",
    "new_raster = wrl.georef.raster.reproject_raster_dataset(ds1, spacing=1000.00, projection_target=radolan_grid_ll,align=True)"
   ]
  },
  {
   "cell_type": "markdown",
   "metadata": {},
   "source": [
    "## Read File & get Metadata"
   ]
  },
  {
   "cell_type": "code",
   "execution_count": 2,
   "metadata": {},
   "outputs": [
    {
     "name": "stdout",
     "output_type": "stream",
     "text": [
      "[[-9999. -9999. -9999. ... -9999. -9999. -9999.]\n",
      " [-9999. -9999. -9999. ... -9999. -9999. -9999.]\n",
      " [-9999. -9999. -9999. ... -9999. -9999. -9999.]\n",
      " ...\n",
      " [-9999. -9999. -9999. ... -9999. -9999. -9999.]\n",
      " [-9999. -9999. -9999. ... -9999. -9999. -9999.]\n",
      " [-9999. -9999. -9999. ... -9999. -9999. -9999.]] {'producttype': 'SF', 'datetime': datetime.datetime(2014, 7, 28, 23, 50), 'radarid': '10000', 'datasize': 1620000, 'maxrange': '150 km', 'radolanversion': '2.13.1', 'precision': 0.1, 'intervalseconds': 86400, 'nrow': 900, 'ncol': 900, 'radarlocations': ['boo', 'ros', 'emd', 'han', 'umd', 'pro', 'ess', 'drs', 'neu', 'nhb', 'oft', 'tur', 'isn', 'fbg', 'mem'], 'radardays': ['boo 24', 'drs 24', 'emd 24', 'ess 24', 'fbg 24', 'han 24', 'isn 24', 'mem 24', 'neu 24', 'nhb 24', 'oft 24', 'pro 24', 'ros 24', 'tur 24', 'umd 24'], 'nodataflag': -9999, 'secondary': array([   188,    189,    190, ..., 806263, 806264, 807163]), 'cluttermask': array([], dtype=int64)}\n"
     ]
    }
   ],
   "source": [
    "# We will export this RADOLAN dataset to a GIS compatible format\n",
    "data_raw, meta  = wrl.io.read_radolan_composite(\"/home/elisabeth/Dokumente/master/2014_07/raa01-sf_10000-1407282350-dwd---bin\")\n",
    "print(data_raw, meta)\n"
   ]
  },
  {
   "cell_type": "markdown",
   "metadata": {},
   "source": [
    "## Define Projection and Get Coordinate System (RADOLAN)"
   ]
  },
  {
   "cell_type": "code",
   "execution_count": 4,
   "metadata": {},
   "outputs": [
    {
     "name": "stdout",
     "output_type": "stream",
     "text": [
      "PROJCS[\"Radolan projection\",\n",
      "    GEOGCS[\"Radolan Coordinate System\",\n",
      "        DATUM[\"Radolan Kugel\",\n",
      "            SPHEROID[\"Erdkugel\",6370040.0,0.0]],\n",
      "        PRIMEM[\"Greenwich\",0.0,\n",
      "            AUTHORITY[\"EPSG\",\"8901\"]],\n",
      "        UNIT[\"degree\",0.017453292519943295],\n",
      "        AXIS[\"Longitude\",EAST],\n",
      "        AXIS[\"Latitude\",NORTH]],\n",
      "    PROJECTION[\"polar_stereographic\"],\n",
      "    PARAMETER[\"central_meridian\",10.0],\n",
      "    PARAMETER[\"latitude_of_origin\",60.0],\n",
      "    PARAMETER[\"scale_factor\",0.9330127019],\n",
      "    PARAMETER[\"false_easting\",0.0],\n",
      "    PARAMETER[\"false_northing\",0.0],\n",
      "    UNIT[\"m*1000.0\",1000.0],\n",
      "    AXIS[\"X\",EAST],\n",
      "    AXIS[\"Y\",NORTH]]\n",
      "[[[ 3.58892995 46.95258041]\n",
      "  [ 3.60107571 46.95351109]\n",
      "  [ 3.61322204 46.95444002]\n",
      "  ...\n",
      "  [14.58426285 47.07247581]\n",
      "  [14.59648289 47.07180758]\n",
      "  [14.6087025  47.07113758]]\n",
      "\n",
      " [[ 3.58756495 46.96087117]\n",
      "  [ 3.59971325 46.9618021 ]\n",
      "  [ 3.61186212 46.96273128]\n",
      "  ...\n",
      "  [14.5852429  47.08079892]\n",
      "  [14.59746553 47.08013051]\n",
      "  [14.60968773 47.07946033]]\n",
      "\n",
      " [[ 3.58619938 46.96916238]\n",
      "  [ 3.59835022 46.97009356]\n",
      "  [ 3.61050164 46.97102299]\n",
      "  ...\n",
      "  [14.58622337 47.08912249]\n",
      "  [14.59844858 47.0884539 ]\n",
      "  [14.61067338 47.08778353]]\n",
      "\n",
      " ...\n",
      "\n",
      " [[ 2.07772252 54.56171718]\n",
      "  [ 2.09266529 54.5629217 ]\n",
      "  [ 2.10760913 54.56412397]\n",
      "  ...\n",
      "  [15.67097866 54.71701774]\n",
      "  [15.68606112 54.71615147]\n",
      "  [15.70114278 54.71528292]]\n",
      "\n",
      " [[ 2.07564265 54.57038125]\n",
      "  [ 2.09058924 54.57158615]\n",
      "  [ 2.10553691 54.57278879]\n",
      "  ...\n",
      "  [15.67247681 54.72573003]\n",
      "  [15.6875632  54.72486349]\n",
      "  [15.70264879 54.72399466]]\n",
      "\n",
      " [[ 2.0735617  54.5790457 ]\n",
      "  [ 2.08851211 54.58025097]\n",
      "  [ 2.10346361 54.58145398]\n",
      "  ...\n",
      "  [15.67397575 54.7344427 ]\n",
      "  [15.68906607 54.7335759 ]\n",
      "  [15.70415559 54.7327068 ]]]\n"
     ]
    }
   ],
   "source": [
    "# This is the RADOLAN projection\n",
    "proj_osr = wrl.georef.create_osr(\"dwd-radolan\")\n",
    "print(proj_osr)\n",
    "# Get projected RADOLAN coordinates for corner definition\n",
    "xy_raw = wrl.georef.get_radolan_grid(900, 900, wgs84=True)\n",
    "print(xy_raw)"
   ]
  },
  {
   "cell_type": "markdown",
   "metadata": {},
   "source": [
    "## Export as GeoTIFF"
   ]
  },
  {
   "cell_type": "code",
   "execution_count": 5,
   "metadata": {},
   "outputs": [
    {
     "name": "stdout",
     "output_type": "stream",
     "text": [
      "[[-9999. -9999. -9999. ... -9999. -9999. -9999.]\n",
      " [-9999. -9999. -9999. ... -9999. -9999. -9999.]\n",
      " [-9999. -9999. -9999. ... -9999. -9999. -9999.]\n",
      " ...\n",
      " [-9999. -9999. -9999. ... -9999. -9999. -9999.]\n",
      " [-9999. -9999. -9999. ... -9999. -9999. -9999.]\n",
      " [-9999. -9999. -9999. ... -9999. -9999. -9999.]] [[[ 2.0735617  54.58826739]\n",
      "  [ 2.08851211 54.58947266]\n",
      "  [ 2.10346361 54.59067567]\n",
      "  ...\n",
      "  [15.67397575 54.7436644 ]\n",
      "  [15.68906607 54.74279759]\n",
      "  [15.70415559 54.74192849]]\n",
      "\n",
      " [[ 2.07564265 54.57960294]\n",
      "  [ 2.09058924 54.58080784]\n",
      "  [ 2.10553691 54.58201048]\n",
      "  ...\n",
      "  [15.67247681 54.73495172]\n",
      "  [15.6875632  54.73408518]\n",
      "  [15.70264879 54.73321635]]\n",
      "\n",
      " [[ 2.07772252 54.57093887]\n",
      "  [ 2.09266529 54.57214339]\n",
      "  [ 2.10760913 54.57334566]\n",
      "  ...\n",
      "  [15.67097866 54.72623943]\n",
      "  [15.68606112 54.72537317]\n",
      "  [15.70114278 54.72450461]]\n",
      "\n",
      " ...\n",
      "\n",
      " [[ 3.58619938 46.97838408]\n",
      "  [ 3.59835022 46.97931526]\n",
      "  [ 3.61050164 46.98024468]\n",
      "  ...\n",
      "  [14.58622337 47.09834418]\n",
      "  [14.59844858 47.09767559]\n",
      "  [14.61067338 47.09700522]]\n",
      "\n",
      " [[ 3.58756495 46.97009286]\n",
      "  [ 3.59971325 46.97102379]\n",
      "  [ 3.61186212 46.97195297]\n",
      "  ...\n",
      "  [14.5852429  47.09002061]\n",
      "  [14.59746553 47.0893522 ]\n",
      "  [14.60968773 47.08868202]]\n",
      "\n",
      " [[ 3.58892995 46.9618021 ]\n",
      "  [ 3.60107571 46.96273278]\n",
      "  [ 3.61322204 46.96366171]\n",
      "  ...\n",
      "  [14.58426285 47.0816975 ]\n",
      "  [14.59648289 47.08102927]\n",
      "  [14.6087025  47.08035927]]]\n"
     ]
    }
   ],
   "source": [
    "data, xy = wrl.georef.set_raster_origin(data_raw, xy_raw, 'upper')\n",
    "print(data,xy)"
   ]
  },
  {
   "cell_type": "code",
   "execution_count": 6,
   "metadata": {},
   "outputs": [
    {
     "name": "stdout",
     "output_type": "stream",
     "text": [
      "/home/elisabeth/Dokumente/master/2014_01/out/ [[[-9999. -9999. -9999. ... -9999. -9999. -9999.]\n",
      "  [-9999. -9999. -9999. ... -9999. -9999. -9999.]\n",
      "  [-9999. -9999. -9999. ... -9999. -9999. -9999.]\n",
      "  ...\n",
      "  [-9999. -9999. -9999. ... -9999. -9999. -9999.]\n",
      "  [-9999. -9999. -9999. ... -9999. -9999. -9999.]\n",
      "  [-9999. -9999. -9999. ... -9999. -9999. -9999.]]\n",
      "\n",
      " [[-9899. -9899. -9899. ... -9899. -9899. -9899.]\n",
      "  [-9899. -9899. -9899. ... -9899. -9899. -9899.]\n",
      "  [-9899. -9899. -9899. ... -9899. -9899. -9899.]\n",
      "  ...\n",
      "  [-9899. -9899. -9899. ... -9899. -9899. -9899.]\n",
      "  [-9899. -9899. -9899. ... -9899. -9899. -9899.]\n",
      "  [-9899. -9899. -9899. ... -9899. -9899. -9899.]]\n",
      "\n",
      " [[-8999. -8999. -8999. ... -8999. -8999. -8999.]\n",
      "  [-8999. -8999. -8999. ... -8999. -8999. -8999.]\n",
      "  [-8999. -8999. -8999. ... -8999. -8999. -8999.]\n",
      "  ...\n",
      "  [-8999. -8999. -8999. ... -8999. -8999. -8999.]\n",
      "  [-8999. -8999. -8999. ... -8999. -8999. -8999.]\n",
      "  [-8999. -8999. -8999. ... -8999. -8999. -8999.]]] <osgeo.gdal.Dataset; proxy of <Swig Object of type 'GDALDatasetShadow *' at 0x7fe85d20b930> >\n"
     ]
    }
   ],
   "source": [
    "# create 3 bands\n",
    "wdir = \"/home/elisabeth/Dokumente/master/2014_01/out/\"\n",
    "data = np.stack((data, data+100, data+1000))\n",
    "ds = wrl.georef.create_raster_dataset(data, xy, projection=proj_osr)\n",
    "wrl.io.write_raster_dataset(wdir + \"test2.tif\", ds, 'GTiff')\n",
    "print(wdir,data,ds)"
   ]
  },
  {
   "cell_type": "markdown",
   "metadata": {},
   "source": [
    "## Export as ESRI ASCII file (ASCII GRID)"
   ]
  },
  {
   "cell_type": "code",
   "execution_count": 23,
   "metadata": {},
   "outputs": [],
   "source": [
    "# Export to Arc/Info ASCII Grid format (aka ESRI grid)\n",
    "#     It should be possible to import this to most conventional\n",
    "# GIS software.\n",
    "# only use first band\n",
    "proj_esri = proj_osr.Clone()\n",
    "proj_esri.MorphToESRI()\n",
    "ds = wrl.georef.create_raster_dataset(data[0], xy, projection=proj_esri)\n",
    "wrl.io.write_raster_dataset(wdir + \"aaigrid.asc\", ds, 'AAIGrid', options=['DECIMAL_PRECISION=2'])"
   ]
  },
  {
   "cell_type": "markdown",
   "metadata": {},
   "source": [
    "# Transform RADOLAN CoordinateSystem"
   ]
  },
  {
   "cell_type": "code",
   "execution_count": 24,
   "metadata": {},
   "outputs": [],
   "source": [
    "import wradlib as wrl\n",
    "import matplotlib.pyplot as pl\n",
    "import warnings\n",
    "warnings.filterwarnings('ignore')\n",
    "try:\n",
    "    get_ipython().magic(\"matplotlib inline\")\n",
    "except:\n",
    "    pl.ion()\n",
    "import numpy as np\n",
    "\n"
   ]
  },
  {
   "cell_type": "markdown",
   "metadata": {},
   "source": [
    "## 900x900, 1km grid box"
   ]
  },
  {
   "cell_type": "code",
   "execution_count": 25,
   "metadata": {},
   "outputs": [
    {
     "name": "stdout",
     "output_type": "stream",
     "text": [
      "(900, 900, 2), (-523.4622, -4658.6447)\n",
      "(900, 900, 2), (3.5889, 46.9526)\n"
     ]
    }
   ],
   "source": [
    "radolan_grid_xy = wrl.georef.get_radolan_grid(900,900)\n",
    "print(\"{0}, ({1:.4f}, {2:.4f})\".format(radolan_grid_xy.shape, *radolan_grid_xy[0,0,:]))\n",
    "radolan_grid_ll = wrl.georef.get_radolan_grid(900,900, wgs84=True)\n",
    "print(\"{0}, ({1:.4f}, {2:.4f})\".format(radolan_grid_ll.shape, *radolan_grid_ll[0,0,:]))\n"
   ]
  },
  {
   "cell_type": "markdown",
   "metadata": {},
   "source": [
    "# Grid Reprojection"
   ]
  },
  {
   "cell_type": "code",
   "execution_count": null,
   "metadata": {},
   "outputs": [],
   "source": [
    " def radolan2lonlat(nx=900,ny=900):\n",
    "    \"\"\"Calculates lon/lat coordinates of radolan grid of the German Weather Service\n",
    "\n",
    "    Returns the latitude and longitude coordinates of the radolan grid positions\n",
    "    (lower left corner of every pixel). The radolan grid is a polarstereographic\n",
    "    projection, the projection information was taken from RADOLAN-RADVOR-OP\n",
    "    Kompositformat_2.2.2\n",
    "\n",
    "    Corner / Coordinate lon         lat         x           y\n",
    "    LowerLeft           3,5889E     46,9526N    -523,4622   -4658,645 (km)\n",
    "    LowerRight          14,6209E    47,0705N    376,5378    -4658,645\n",
    "    UpperRight          15,7208E    54,7405N    376,5378    -3758,645\n",
    "    UpperLeft           2,0715E     54,5877N    -523,4622   -3758,645\n",
    "\n",
    "    Parameters\n",
    "    ----------\n",
    "    nx,ny : gridsize (900x900 by default, 1400x1400 possible)\n",
    "\n",
    "    Returns\n",
    "    -------\n",
    "    lon : numpy arrays\n",
    "        Longitude of gridpoints\n",
    "    lat : numpy array\n",
    "        Latitude of gridpoints\n",
    "\n",
    "    References\n",
    "    ----------\n",
    "\n",
    "    .. [DWD2009] Germany Weather Service (DWD), 2011: RADOLAN_RADVOR-OP -\n",
    "        Beschreibung des Kompositformats, Version 2.2.2. Offenbach, Germany,\n",
    "        URL: http://dwd.de/radolan (in German)\n",
    "\n",
    "    \"\"\"\n",
    "\n",
    "    xi=np.zeros((nx,ny))\n",
    "    for i in np.arange(0,nx,1):\n",
    "        xi[i,:] = np.arange(0, nx,1)\n",
    "\n",
    "\n",
    "    yi = xi.transpose()\n",
    "\n",
    "    x = xi - 523.4622   # x0 of radolan grid\n",
    "    y = yi - 4658.645   # y0 of radolan grid\n",
    "\n",
    "    rad2deg = 180. / np.pi \n",
    "    deg2rad = np.pi / 180.\n",
    "\n",
    "    lon0 = 10.   # central meridian of projection\n",
    "    lat0 = 60.   # standard parallel of projection\n",
    "\n",
    "    sinlat0 = np.sin(lat0*deg2rad)\n",
    "\n",
    "    fac = (6370.040**2.) * ((1.+sinlat0) **2.)\n",
    "\n",
    "    lon = np.arctan((-x/y))*rad2deg +lon0\n",
    "    lat = np.arcsin((fac -(x**2. + y**2.) )/(fac + (x**2. + y**2.)  ) )*rad2deg\n",
    "\n",
    "    return lon,lat\n",
    "\n",
    "radolan.py\n",
    "\"radolan.py\" wird angezeigt."
   ]
  },
  {
   "cell_type": "code",
   "execution_count": 26,
   "metadata": {},
   "outputs": [
    {
     "name": "stdout",
     "output_type": "stream",
     "text": [
      "GEOGCS[\"WGS 84\",\n",
      "    DATUM[\"WGS_1984\",\n",
      "        SPHEROID[\"WGS 84\",6378137,298.257223563,\n",
      "            AUTHORITY[\"EPSG\",\"7030\"]],\n",
      "        AUTHORITY[\"EPSG\",\"6326\"]],\n",
      "    PRIMEM[\"Greenwich\",0,\n",
      "        AUTHORITY[\"EPSG\",\"8901\"]],\n",
      "    UNIT[\"degree\",0.0174532925199433,\n",
      "        AUTHORITY[\"EPSG\",\"9122\"]],\n",
      "    AUTHORITY[\"EPSG\",\"4326\"]]\n"
     ]
    }
   ],
   "source": [
    "from osgeo import osr\n",
    "proj_stereo = wrl.georef.create_osr(\"dwd-radolan\")\n",
    "proj_wgs = osr.SpatialReference()\n",
    "proj_wgs.ImportFromEPSG(4326)\n",
    "print(proj_wgs)"
   ]
  },
  {
   "cell_type": "markdown",
   "metadata": {},
   "source": [
    "### Then, we call reproject with the osr-objects as projection_source and projection_target parameters."
   ]
  },
  {
   "cell_type": "code",
   "execution_count": 27,
   "metadata": {},
   "outputs": [
    {
     "name": "stdout",
     "output_type": "stream",
     "text": [
      "(900, 900, 2), (3.5889, 46.9526)\n"
     ]
    }
   ],
   "source": [
    "radolan_grid_xy = wrl.georef.get_radolan_grid(900,900)\n",
    "radolan_grid_ll = wrl.georef.reproject(radolan_grid_xy, projection_source=proj_stereo, projection_target=proj_wgs)\n",
    "print(\"{0}, ({1:.4f}, {2:.4f})\".format(radolan_grid_ll.shape, *radolan_grid_ll[0,0,:]))"
   ]
  },
  {
   "cell_type": "code",
   "execution_count": 1,
   "metadata": {},
   "outputs": [],
   "source": [
    "import wradlib as wrl\n",
    "import matplotlib.pyplot as pl\n",
    "import matplotlib as mpl\n",
    "import warnings\n",
    "warnings.filterwarnings('ignore')\n",
    "try:\n",
    "    get_ipython().magic(\"matplotlib inline\")\n",
    "except:\n",
    "    pl.ion()\n",
    "import numpy as np\n",
    "from osgeo import osr"
   ]
  },
  {
   "cell_type": "code",
   "execution_count": 3,
   "metadata": {},
   "outputs": [],
   "source": [
    "def get_radar_locations():\n",
    "    radars = {}\n",
    "    radar = {'name': 'ASR Dresden', 'wmo': 10487, 'lon': 13.76347,\n",
    "             'lat': 51.12404, 'alt': 261}\n",
    "    radars['ASD'] = radar\n",
    "\n",
    "    radar = {'name': 'Boostedt', 'wmo': 10132, 'lon': 10.04687,\n",
    "             'lat': 54.00438, 'alt': 124.56}\n",
    "    radars['BOO'] = radar\n",
    "\n",
    "    radar = {'name': 'Dresden', 'wmo': 10488, 'lon': 13.76865, 'lat': 51.12465,\n",
    "             'alt': 263.36}\n",
    "    radars['DRS'] = radar\n",
    "\n",
    "    radar = {'name': 'Eisberg', 'wmo': 10780, 'lon': 12.40278, 'lat': 49.54066,\n",
    "             'alt': 798.79}\n",
    "    radars['EIS'] = radar\n",
    "\n",
    "    radar = {'name': 'Emden', 'wmo': 10204, 'lon': 7.02377, 'lat': 53.33872,\n",
    "             'alt': 58}\n",
    "    radars['EMD'] = radar\n",
    "\n",
    "    radar = {'name': 'Essen', 'wmo': 10410, 'lon': 6.96712, 'lat': 51.40563,\n",
    "             'alt': 185.10}\n",
    "    radars['ESS'] = radar\n",
    "\n",
    "    radar = {'name': 'Feldberg', 'wmo': 10908, 'lon': 8.00361, 'lat': 47.87361,\n",
    "             'alt': 1516.10}\n",
    "    radars['FBG'] = radar\n",
    "\n",
    "    radar = {'name': 'Flechtdorf', 'wmo': 10440, 'lon': 8.802, 'lat': 51.3112,\n",
    "             'alt': 627.88}\n",
    "    radars['FLD'] = radar\n",
    "\n",
    "    radar = {'name': 'Hannover', 'wmo': 10339, 'lon': 9.69452, 'lat': 52.46008,\n",
    "             'alt': 97.66}\n",
    "    radars['HNR'] = radar\n",
    "\n",
    "    radar = {'name': 'Neuhaus', 'wmo': 10557, 'lon': 11.13504, 'lat': 50.50012,\n",
    "             'alt': 878.04}\n",
    "    radars['NEU'] = radar\n",
    "\n",
    "    radar = {'name': 'Neuheilenbach', 'wmo': 10605, 'lon': 6.54853,\n",
    "             'lat': 50.10965, 'alt': 585.84}\n",
    "    radars['NHB'] = radar\n",
    "\n",
    "    radar = {'name': 'Offenthal', 'wmo': 10629, 'lon': 8.71293, 'lat': 49.9847,\n",
    "             'alt': 245.80}\n",
    "    radars['OFT'] = radar\n",
    "\n",
    "    radar = {'name': 'Proetzel', 'wmo': 10392, 'lon': 13.85821,\n",
    "             'lat': 52.64867, 'alt': 193.92}\n",
    "    radars['PRO'] = radar\n",
    "\n",
    "    radar = {'name': 'Memmingen', 'wmo': 10950, 'lon': 10.21924,\n",
    "             'lat': 48.04214, 'alt': 724.40}\n",
    "    radars['MEM'] = radar\n",
    "\n",
    "    radar = {'name': 'Rostock', 'wmo': 10169, 'lon': 12.05808, 'lat': 54.17566,\n",
    "             'alt': 37}\n",
    "    radars['ROS'] = radar\n",
    "\n",
    "    radar = {'name': 'Isen', 'wmo': 10873, 'lon': 12.10177, 'lat': 48.1747,\n",
    "             'alt': 677.77}\n",
    "    radars['ISN'] = radar\n",
    "\n",
    "    radar = {'name': 'Tuerkheim', 'wmo': 10832, 'lon': 9.78278,\n",
    "             'lat': 48.58528, 'alt': 767.62}\n",
    "    radars['TUR'] = radar\n",
    "\n",
    "    radar = {'name': 'Ummendorf', 'wmo': 10356, 'lon': 11.17609,\n",
    "             'lat': 52.16009, 'alt': 183}\n",
    "    radars['UMM'] = radar\n",
    "\n",
    "    return radars"
   ]
  },
  {
   "cell_type": "code",
   "execution_count": 2,
   "metadata": {},
   "outputs": [],
   "source": [
    "# load radolan file\n",
    "rw_filename = wrl.util.get_wradlib_data_file(\"/home/elisabeth/Dokumente/master/2014_01/raa01-sf_10000-1401010050-dwd---bin.gz\")\n",
    "rwdata, rwattrs = wrl.io.read_radolan_composite(rw_filename)"
   ]
  },
  {
   "cell_type": "code",
   "execution_count": 3,
   "metadata": {},
   "outputs": [
    {
     "name": "stdout",
     "output_type": "stream",
     "text": [
      "RW Attributes: {'producttype': 'SF', 'datetime': datetime.datetime(2014, 1, 1, 0, 50), 'radarid': '10000', 'datasize': 1620000, 'maxrange': '150 km', 'radolanversion': '2.13.1', 'precision': 0.1, 'intervalseconds': 86400, 'nrow': 900, 'ncol': 900, 'radarlocations': ['asw', 'ham', 'emd', 'han', 'umd', 'ess', 'fld', 'drs', 'neu', 'oft', 'eis', 'tur', 'muc', 'fbg', 'mem'], 'radardays': ['asw 24', 'drs 24', 'eis 24', 'emd 24', 'ess 24', 'fbg 24', 'fld 24', 'ham 24', 'han 24', 'mem 24', 'muc 24', 'neu 24', 'oft 24', 'tur 24', 'umd 24'], 'nodataflag': -9999, 'secondary': array([   188,    189,    190, ..., 809571, 809572, 809573]), 'cluttermask': array([], dtype=int64)}\n"
     ]
    }
   ],
   "source": [
    "\n",
    "# print the available attributes\n",
    "print(\"RW Attributes:\", rwattrs)\n",
    "\n"
   ]
  },
  {
   "cell_type": "code",
   "execution_count": 4,
   "metadata": {},
   "outputs": [
    {
     "name": "stdout",
     "output_type": "stream",
     "text": [
      "[[[ 3.58892995 46.95258041]\n",
      "  [ 3.60107571 46.95351109]\n",
      "  [ 3.61322204 46.95444002]\n",
      "  ...\n",
      "  [14.58426285 47.07247581]\n",
      "  [14.59648289 47.07180758]\n",
      "  [14.6087025  47.07113758]]\n",
      "\n",
      " [[ 3.58756495 46.96087117]\n",
      "  [ 3.59971325 46.9618021 ]\n",
      "  [ 3.61186212 46.96273128]\n",
      "  ...\n",
      "  [14.5852429  47.08079892]\n",
      "  [14.59746553 47.08013051]\n",
      "  [14.60968773 47.07946033]]\n",
      "\n",
      " [[ 3.58619938 46.96916238]\n",
      "  [ 3.59835022 46.97009356]\n",
      "  [ 3.61050164 46.97102299]\n",
      "  ...\n",
      "  [14.58622337 47.08912249]\n",
      "  [14.59844858 47.0884539 ]\n",
      "  [14.61067338 47.08778353]]\n",
      "\n",
      " ...\n",
      "\n",
      " [[ 2.07772252 54.56171718]\n",
      "  [ 2.09266529 54.5629217 ]\n",
      "  [ 2.10760913 54.56412397]\n",
      "  ...\n",
      "  [15.67097866 54.71701774]\n",
      "  [15.68606112 54.71615147]\n",
      "  [15.70114278 54.71528292]]\n",
      "\n",
      " [[ 2.07564265 54.57038125]\n",
      "  [ 2.09058924 54.57158615]\n",
      "  [ 2.10553691 54.57278879]\n",
      "  ...\n",
      "  [15.67247681 54.72573003]\n",
      "  [15.6875632  54.72486349]\n",
      "  [15.70264879 54.72399466]]\n",
      "\n",
      " [[ 2.0735617  54.5790457 ]\n",
      "  [ 2.08851211 54.58025097]\n",
      "  [ 2.10346361 54.58145398]\n",
      "  ...\n",
      "  [15.67397575 54.7344427 ]\n",
      "  [15.68906607 54.7335759 ]\n",
      "  [15.70415559 54.7327068 ]]]\n"
     ]
    }
   ],
   "source": [
    "# mask data\n",
    "sec = rwattrs['secondary']\n",
    "rwdata.flat[sec] = -9999\n",
    "rwdata = np.ma.masked_equal(rwdata, -9999)\n",
    "\n",
    "# create radolan projection object\n",
    "proj_stereo = wrl.georef.create_osr(\"dwd-radolan\")\n",
    "\n",
    "# create wgs84 projection object\n",
    "proj_wgs = osr.SpatialReference()\n",
    "proj_wgs.ImportFromEPSG(4326)\n",
    "\n",
    "# get radolan grid\n",
    "radolan_grid_xy = wrl.georef.get_radolan_grid(900, 900)\n",
    "x1 = radolan_grid_xy[:, :, 0]\n",
    "y1 = radolan_grid_xy[:, :, 1]\n",
    "\n",
    "# convert to lonlat\n",
    "radolan_grid_ll = wrl.georef.reproject(radolan_grid_xy,\n",
    "                                       projection_source=proj_stereo,\n",
    "                                       projection_target=proj_wgs)\n",
    "lon1 = radolan_grid_ll[:, :, 0]\n",
    "lat1 = radolan_grid_ll[:, :, 1]\n",
    "print(radolan_grid_ll)"
   ]
  },
  {
   "cell_type": "code",
   "execution_count": 6,
   "metadata": {},
   "outputs": [
    {
     "name": "stdout",
     "output_type": "stream",
     "text": [
      "Max Range:  150 km\n"
     ]
    }
   ],
   "source": [
    "# range array 150 km\n",
    "print(\"Max Range: \", rwattrs['maxrange'])\n",
    "r = np.arange(1, 151) * 1000\n",
    "# azimuth array 1 degree spacing\n",
    "az = np.linspace(0, 360, 361)[0:-1]"
   ]
  },
  {
   "cell_type": "code",
   "execution_count": 7,
   "metadata": {},
   "outputs": [],
   "source": [
    "# get radar dict\n",
    "radars = get_radar_locations()"
   ]
  },
  {
   "cell_type": "code",
   "execution_count": 8,
   "metadata": {},
   "outputs": [],
   "source": [
    "def plot_radar(radar, ax, proj):\n",
    "\n",
    "    site = (radar['lon'], radar['lat'], radar['alt'] )\n",
    "\n",
    "    # build polygons for maxrange rangering\n",
    "    polygons = wrl.georef.spherical_to_polyvert(r, az, 0,\n",
    "                                                site,\n",
    "                                                proj=proj)\n",
    "    polygons = polygons[..., 0:2]\n",
    "    polygons.shape = (len(az), len(r), 5, 2)\n",
    "    polygons = polygons[:, -1, :, :]\n",
    "\n",
    "    x_loc, y_loc = wrl.georef.reproject(site[0], site[1],\n",
    "                                        projection_source=proj_wgs,\n",
    "                                        projection_target=proj)\n",
    "\n",
    "\n",
    "    # create PolyCollections and add to respective axes\n",
    "    polycoll = mpl.collections.PolyCollection(polygons, closed=True,\n",
    "                                              edgecolors='r',\n",
    "                                              facecolors='r')\n",
    "    ax.add_collection(polycoll, autolim=True)\n",
    "\n",
    "    # plot radar location and information text\n",
    "    ax.plot(x_loc, y_loc, 'r+')\n",
    "    ax.text(x_loc, y_loc, radar['name'], color='r')"
   ]
  },
  {
   "cell_type": "code",
   "execution_count": 5,
   "metadata": {},
   "outputs": [
    {
     "ename": "NameError",
     "evalue": "name 'radars' is not defined",
     "output_type": "error",
     "traceback": [
      "\u001b[0;31m---------------------------------------------------------------------------\u001b[0m",
      "\u001b[0;31mNameError\u001b[0m                                 Traceback (most recent call last)",
      "\u001b[0;32m<ipython-input-5-f53b20cafad6>\u001b[0m in \u001b[0;36m<module>\u001b[0;34m\u001b[0m\n\u001b[1;32m     17\u001b[0m     \u001b[0;32mif\u001b[0m \u001b[0mradar_id\u001b[0m \u001b[0;34m==\u001b[0m \u001b[0;34m'umd'\u001b[0m\u001b[0;34m:\u001b[0m\u001b[0;34m\u001b[0m\u001b[0;34m\u001b[0m\u001b[0m\n\u001b[1;32m     18\u001b[0m         \u001b[0mradar_id\u001b[0m \u001b[0;34m=\u001b[0m \u001b[0;34m'umm'\u001b[0m\u001b[0;34m\u001b[0m\u001b[0;34m\u001b[0m\u001b[0m\n\u001b[0;32m---> 19\u001b[0;31m     \u001b[0mradar\u001b[0m \u001b[0;34m=\u001b[0m \u001b[0mradars\u001b[0m\u001b[0;34m[\u001b[0m\u001b[0mradar_id\u001b[0m\u001b[0;34m.\u001b[0m\u001b[0mupper\u001b[0m\u001b[0;34m(\u001b[0m\u001b[0;34m)\u001b[0m\u001b[0;34m]\u001b[0m\u001b[0;34m\u001b[0m\u001b[0;34m\u001b[0m\u001b[0m\n\u001b[0m\u001b[1;32m     20\u001b[0m     \u001b[0mplot_radar\u001b[0m\u001b[0;34m(\u001b[0m\u001b[0mradar\u001b[0m\u001b[0;34m,\u001b[0m \u001b[0max1\u001b[0m\u001b[0;34m,\u001b[0m \u001b[0mproj_wgs\u001b[0m\u001b[0;34m)\u001b[0m\u001b[0;34m\u001b[0m\u001b[0;34m\u001b[0m\u001b[0m\n",
      "\u001b[0;31mNameError\u001b[0m: name 'radars' is not defined"
     ]
    },
    {
     "data": {
      "image/png": "[encoded data removed]",
      "text/plain": [
       "<Figure size 720x576 with 2 Axes>"
      ]
     },
     "metadata": {
      "needs_background": "light"
     },
     "output_type": "display_data"
    }
   ],
   "source": [
    "# plot two projections side by side\n",
    "fig1 = pl.figure(figsize=(10,8))\n",
    "ax1 = fig1.add_subplot(111, aspect='equal')\n",
    "pm = ax1.pcolormesh(lon1, lat1, rwdata, cmap='viridis')\n",
    "cb = fig1.colorbar(pm, shrink=0.75)\n",
    "cb.set_label(\"mm/h\")\n",
    "pl.xlabel(\"Longitude \")\n",
    "pl.ylabel(\"Latitude\")\n",
    "pl.title(\n",
    "    'RADOLAN RW Product \\n' + rwattrs['datetime'].isoformat() + '\\n WGS84')\n",
    "pl.xlim((lon1[0, 0], lon1[-1, -1]))\n",
    "pl.ylim((lat1[0, 0], lat1[-1, -1]))\n",
    "pl.grid(color='r')\n",
    "for radar_id in rwattrs['radarlocations']:\n",
    "    # get radar coords etc from dict\n",
    "    # repair Ummendorf ID\n",
    "    if radar_id == 'umd':\n",
    "        radar_id = 'umm'\n",
    "    radar = radars[radar_id.upper()]\n",
    "    plot_radar(radar, ax1, proj_wgs)"
   ]
  },
  {
   "cell_type": "code",
   "execution_count": 12,
   "metadata": {},
   "outputs": [
    {
     "name": "stdout",
     "output_type": "stream",
     "text": [
      "PROJCS[\"Radolan projection\",\n",
      "    GEOGCS[\"Radolan Coordinate System\",\n",
      "        DATUM[\"Radolan Kugel\",\n",
      "            SPHEROID[\"Erdkugel\",6370040.0,0.0]],\n",
      "        PRIMEM[\"Greenwich\",0.0,\n",
      "            AUTHORITY[\"EPSG\",\"8901\"]],\n",
      "        UNIT[\"degree\",0.017453292519943295],\n",
      "        AXIS[\"Longitude\",EAST],\n",
      "        AXIS[\"Latitude\",NORTH]],\n",
      "    PROJECTION[\"polar_stereographic\"],\n",
      "    PARAMETER[\"central_meridian\",10.0],\n",
      "    PARAMETER[\"latitude_of_origin\",60.0],\n",
      "    PARAMETER[\"scale_factor\",0.9330127019],\n",
      "    PARAMETER[\"false_easting\",0.0],\n",
      "    PARAMETER[\"false_northing\",0.0],\n",
      "    UNIT[\"m*1000.0\",1000.0],\n",
      "    AXIS[\"X\",EAST],\n",
      "    AXIS[\"Y\",NORTH]]\n",
      "[[[ -523.46216692 -4658.64472427]\n",
      "  [ -522.46216692 -4658.64472427]\n",
      "  [ -521.46216692 -4658.64472427]\n",
      "  ...\n",
      "  [  373.53783308 -4658.64472427]\n",
      "  [  374.53783308 -4658.64472427]\n",
      "  [  375.53783308 -4658.64472427]]\n",
      "\n",
      " [[ -523.46216692 -4657.64472427]\n",
      "  [ -522.46216692 -4657.64472427]\n",
      "  [ -521.46216692 -4657.64472427]\n",
      "  ...\n",
      "  [  373.53783308 -4657.64472427]\n",
      "  [  374.53783308 -4657.64472427]\n",
      "  [  375.53783308 -4657.64472427]]\n",
      "\n",
      " [[ -523.46216692 -4656.64472427]\n",
      "  [ -522.46216692 -4656.64472427]\n",
      "  [ -521.46216692 -4656.64472427]\n",
      "  ...\n",
      "  [  373.53783308 -4656.64472427]\n",
      "  [  374.53783308 -4656.64472427]\n",
      "  [  375.53783308 -4656.64472427]]\n",
      "\n",
      " ...\n",
      "\n",
      " [[ -523.46216692 -3761.64472427]\n",
      "  [ -522.46216692 -3761.64472427]\n",
      "  [ -521.46216692 -3761.64472427]\n",
      "  ...\n",
      "  [  373.53783308 -3761.64472427]\n",
      "  [  374.53783308 -3761.64472427]\n",
      "  [  375.53783308 -3761.64472427]]\n",
      "\n",
      " [[ -523.46216692 -3760.64472427]\n",
      "  [ -522.46216692 -3760.64472427]\n",
      "  [ -521.46216692 -3760.64472427]\n",
      "  ...\n",
      "  [  373.53783308 -3760.64472427]\n",
      "  [  374.53783308 -3760.64472427]\n",
      "  [  375.53783308 -3760.64472427]]\n",
      "\n",
      " [[ -523.46216692 -3759.64472427]\n",
      "  [ -522.46216692 -3759.64472427]\n",
      "  [ -521.46216692 -3759.64472427]\n",
      "  ...\n",
      "  [  373.53783308 -3759.64472427]\n",
      "  [  374.53783308 -3759.64472427]\n",
      "  [  375.53783308 -3759.64472427]]]\n",
      "[[-9999. -9999. -9999. ... -9999. -9999. -9999.]\n",
      " [-9999. -9999. -9999. ... -9999. -9999. -9999.]\n",
      " [-9999. -9999. -9999. ... -9999. -9999. -9999.]\n",
      " ...\n",
      " [-9999. -9999. -9999. ... -9999. -9999. -9999.]\n",
      " [-9999. -9999. -9999. ... -9999. -9999. -9999.]\n",
      " [-9999. -9999. -9999. ... -9999. -9999. -9999.]] [[[ 2.0735617  54.59748908]\n",
      "  [ 2.08851211 54.59869435]\n",
      "  [ 2.10346361 54.59989736]\n",
      "  ...\n",
      "  [15.67397575 54.75288609]\n",
      "  [15.68906607 54.75201928]\n",
      "  [15.70415559 54.75115018]]\n",
      "\n",
      " [[ 2.07564265 54.58882464]\n",
      "  [ 2.09058924 54.59002953]\n",
      "  [ 2.10553691 54.59123217]\n",
      "  ...\n",
      "  [15.67247681 54.74417341]\n",
      "  [15.6875632  54.74330687]\n",
      "  [15.70264879 54.74243804]]\n",
      "\n",
      " [[ 2.07772252 54.58016056]\n",
      "  [ 2.09266529 54.58136509]\n",
      "  [ 2.10760913 54.58256735]\n",
      "  ...\n",
      "  [15.67097866 54.73546113]\n",
      "  [15.68606112 54.73459486]\n",
      "  [15.70114278 54.7337263 ]]\n",
      "\n",
      " ...\n",
      "\n",
      " [[ 3.58619938 46.98760577]\n",
      "  [ 3.59835022 46.98853695]\n",
      "  [ 3.61050164 46.98946637]\n",
      "  ...\n",
      "  [14.58622337 47.10756587]\n",
      "  [14.59844858 47.10689728]\n",
      "  [14.61067338 47.10622692]]\n",
      "\n",
      " [[ 3.58756495 46.97931455]\n",
      "  [ 3.59971325 46.98024548]\n",
      "  [ 3.61186212 46.98117466]\n",
      "  ...\n",
      "  [14.5852429  47.0992423 ]\n",
      "  [14.59746553 47.09857389]\n",
      "  [14.60968773 47.09790371]]\n",
      "\n",
      " [[ 3.58892995 46.97102379]\n",
      "  [ 3.60107571 46.97195447]\n",
      "  [ 3.61322204 46.9728834 ]\n",
      "  ...\n",
      "  [14.58426285 47.09091919]\n",
      "  [14.59648289 47.09025096]\n",
      "  [14.6087025  47.08958096]]]\n",
      "/home/elisabeth/Dokumente/master/2014_01/out/ [[[-9999. -9999. -9999. ... -9999. -9999. -9999.]\n",
      "  [-9999. -9999. -9999. ... -9999. -9999. -9999.]\n",
      "  [-9999. -9999. -9999. ... -9999. -9999. -9999.]\n",
      "  ...\n",
      "  [-9999. -9999. -9999. ... -9999. -9999. -9999.]\n",
      "  [-9999. -9999. -9999. ... -9999. -9999. -9999.]\n",
      "  [-9999. -9999. -9999. ... -9999. -9999. -9999.]]\n",
      "\n",
      " [[-9899. -9899. -9899. ... -9899. -9899. -9899.]\n",
      "  [-9899. -9899. -9899. ... -9899. -9899. -9899.]\n",
      "  [-9899. -9899. -9899. ... -9899. -9899. -9899.]\n",
      "  ...\n",
      "  [-9899. -9899. -9899. ... -9899. -9899. -9899.]\n",
      "  [-9899. -9899. -9899. ... -9899. -9899. -9899.]\n",
      "  [-9899. -9899. -9899. ... -9899. -9899. -9899.]]\n",
      "\n",
      " [[-8999. -8999. -8999. ... -8999. -8999. -8999.]\n",
      "  [-8999. -8999. -8999. ... -8999. -8999. -8999.]\n",
      "  [-8999. -8999. -8999. ... -8999. -8999. -8999.]\n",
      "  ...\n",
      "  [-8999. -8999. -8999. ... -8999. -8999. -8999.]\n",
      "  [-8999. -8999. -8999. ... -8999. -8999. -8999.]\n",
      "  [-8999. -8999. -8999. ... -8999. -8999. -8999.]]] <osgeo.gdal.Dataset; proxy of <Swig Object of type 'GDALDatasetShadow *' at 0x7f49c38cbf00> >\n"
     ]
    }
   ],
   "source": [
    "data_raw, meta  = wrl.io.read_radolan_composite(\"/home/elisabeth/Dokumente/master/2014_01/raa01-sf_10000-1401010050-dwd---bin.gz\")\n",
    "# This is the RADOLAN projection\n",
    "proj_osr = wrl.georef.create_osr(\"dwd-radolan\")\n",
    "print(proj_osr)\n",
    "# Get projected RADOLAN coordinates for corner definition\n",
    "xy_raw = wrl.georef.get_radolan_grid(900, 900)\n",
    "print(xy_raw)\n",
    "data, xy = wrl.georef.set_raster_origin(data_raw, radolan_grid_ll, 'upper')\n",
    "print(data,xy)\n",
    "# create 3 bands\n",
    "wdir = \"/home/elisabeth/Dokumente/master/2014_01/out/\"\n",
    "data = np.stack((data, data+100, data+1000))\n",
    "ds = wrl.georef.create_raster_dataset(data, xy, projection=proj_osr)\n",
    "wrl.io.write_raster_dataset(wdir + \"geotiff.tif\", ds, 'GTiff')\n",
    "print(wdir,data,ds)"
   ]
  }
 ],
 "metadata": {
  "kernelspec": {
   "display_name": "Python 3",
   "language": "python",
   "name": "python3"
  },
  "language_info": {
   "codemirror_mode": {
    "name": "ipython",
    "version": 3
   },
   "file_extension": ".py",
   "mimetype": "text/x-python",
   "name": "python",
   "nbconvert_exporter": "python",
   "pygments_lexer": "ipython3",
   "version": "3.7.3"
  }
 },
 "nbformat": 4,
 "nbformat_minor": 2
}
