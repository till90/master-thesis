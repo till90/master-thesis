{
 "cells": [
  {
   "cell_type": "markdown",
   "metadata": {},
   "source": [
    "## Chart Data with Altair Package"
   ]
  },
  {
   "cell_type": "code",
   "execution_count": 4,
   "metadata": {
    "collapsed": true,
    "jupyter": {
     "outputs_hidden": true
    }
   },
   "outputs": [],
   "source": [
    "import altair as alt\n",
    "import os\n",
    "import pandas as pd\n",
    "import datetime as dt\n",
    "#alt.renderers.enable('notebook') For old notebook not for jupyter lab\n"
   ]
  },
  {
   "cell_type": "markdown",
   "metadata": {},
   "source": [
    "## Functions for maintance dataframes"
   ]
  },
  {
   "cell_type": "code",
   "execution_count": 202,
   "metadata": {},
   "outputs": [],
   "source": [
    "def create_gr_date(df):\n",
    "    #Create Day, year, month, yearmonth column\n",
    "    df['day'] = [x[0:4] + x[5:7] + x[8:10] for x in df['date']]\n",
    "    df['year'] = [x[0:4] for x in df['date']]\n",
    "    df['month'] = [x[5:7] for x in df['date']]\n",
    "    df['yearMonth'] = [x[0:4] + x[5:7] for x in df['date']]\n",
    "    return df\n",
    "\n",
    "def chart_line(df,y,y_title,x,x_title,format_x,format_y,color,title,width,grid):\n",
    "    chart = alt.Chart(df, width=width, title=title).mark_line().encode(\n",
    "    x = alt.X(x, axis=alt.Axis(format=format_x)),\n",
    "    y = alt.Y(y, axis=alt.Axis(format=format_y, title=y_title))\n",
    "    ).configure_mark(\n",
    "    opacity=0.8\n",
    "    ).configure_axis(\n",
    "    grid=grid)\n",
    "    return chart\n",
    "\n",
    "def chart_bar(df,y,y_title,x,x_title,format_x,format_y,color,title,width,grid):\n",
    "    chart = alt.Chart(df, width=width, title=title).mark_bar().encode(\n",
    "    x = alt.X(x, axis=alt.Axis(format=format_x)),\n",
    "    y = alt.Y(y, axis=alt.Axis(format=format_y, title=y_title))\n",
    "    ).configure_mark(\n",
    "    opacity=0.8\n",
    "    ).configure_axis(\n",
    "    grid=grid)\n",
    "    return chart"
   ]
  },
  {
   "cell_type": "markdown",
   "metadata": {},
   "source": [
    "## Datasets\n",
    "### Name\tUnits\tMin\tMax\tDescription\n",
    "#### NASA-USDA Global Soil Moisture Data https://developers.google.com/earth-engine/datasets/catalog/NASA_USDA_HSL_soil_moisture\n",
    "revesit : 3days ; resoltion : 0.25 arc degrees (~25km)\n",
    "ssm\tmm\t0* \t25.39* \tSurface soil moisture  \n",
    "susm\tmm\t0* \t274.6* \tSubsurface soil moisture  \n",
    "smp\tfraction\t0* \t1* \tSoil moisture profile  \n",
    "ssma\t-\t-4* \t4* \tSurface soil moisture anomaly  \n",
    "susma\t-\t-4* \t4* \tSubsurface soil moisture anomaly  \n",
    "#### CHIRPS Daily: Climate Hazards Group InfraRed Precipitation with Station Data https://developers.google.com/earth-engine/datasets/catalog/UCSB-CHG_CHIRPS_DAILY\n",
    "revesit : daily ; resolution : 0.05 arc degrees (~5km)\n",
    "precipitation mm \n",
    "####  GLDAS-2.1: Global Land Data Assimilation System https://developers.google.com/earth-engine/datasets/catalog/NASA_GLDAS_V021_NOAH_G025_T3H\n",
    "revesit : 3 H , resolotion : 0.25 arc degrees (~25km)  \n",
    "Albedo_inst \t% \t4.99* \t82.25* \tAlbed  \n",
    "AvgSurfT_inst \tK \t187.48* \t1323.35* \tAverage surface skin temperature  \n",
    "CanopInt_inst \tkg/m^2 \t0* \t0.5* \tPlant canopy surface water  \n",
    "ECanop_tavg \tW/m^2 \t0* \t1273.66* \tCanopy water evaporation  \n",
    "ESoil_tavg \tW/m^2 \t0* \t2275.63* \tDirect evaporation from bare soil  \n",
    "Evap_tavg \tkg/m^2/s \t0* \t0.002* \tEvapotranspiration  \n",
    "LWdown_f_tavg \tW/m^2 \t26.85* \t600.9* \tDownward long-wave radiation flux  \n",
    "Lwnet_tavg \tW/m^2 \t-13792.7* \t196.97* \tNet long-wave radiation flux  \n",
    "PotEvap_tavg \tW/m^2 \t-227.75* \t18977.9* \tPotential evaporation rate  \n",
    "Psurf_f_inst \tPa \t44063.1* \t108344* \tPressure \n",
    "Qair_f_inst \tkg/kg \t-0.02* \t0.07* \tSpecific humidity  \n",
    "Qg_tavg \tW/m^2 \t-552.64* \t1538.41* \tHeat flux  \n",
    "Qh_tavg \tW/m^2 \t-1005.15* \t18190.6* \tSensible heat net flux  \n",
    "Qle_tavg \tW/m^2 \t-227.75* \t5072.25* \tLatent heat net flux  \n",
    "Qs_acc \tkg/m^2 \t0* \t170.93* \tStorm surface runoff  \n",
    "Qsb_acc \tkg/m^2 \t0* \t50.6* \tBaseflow-groundwater runoff  \n",
    "Qsm_acc \tkg/m^2 \t0* \t42.87* \tSnow melt  \n",
    "Rainf_f_tavg \tkg/m^2/s \t0* \t0.01* \tTotal precipitation rat  \n",
    "Rainf_tavg \tkg/m^2/s \t0* \t0.01* \tRain precipitation rate  \n",
    "RootMoist_inst \tkg/m^2 \t2* \t949.6* \tRoot zone soil moisture  \n",
    "SWE_inst \tkg/m^2 \t0* \t120787* \tSnow depth water equivalent  \n",
    "SWdown_f_tavg \tW/m^2 \t-56.93* \t30462.8* \tDownward short-wave radiation flux  \n",
    "SnowDepth_inst \tm \t0* \t301.96* \tSnow depth  \n",
    "Snowf_tavg \tkg/m^2/s \t0* \t0.009* \tSnow precipitation rate  \n",
    "SoilMoi0_10cm_inst \tkg/m^2 \t1.99* \t47.59* \tSoil moisture  \n",
    "SoilMoi10_40cm_inst \tkg/m^2 \t5.99* \t142.8* \tSoil moisture  \n",
    "SoilMoi40_100cm_inst \tkg/m^2 \t11.99* \t285.6* \tSoil moisture  \n",
    "SoilMoi100_200cm_inst \tkg/m^2 \t20* \t476* \tSoil moisture  \n",
    "SoilTMP0_10cm_inst \tK \t221.98* \t377.5* \tSoil temperature  \n",
    "SoilTMP10_40cm_inst \tK \t227.43* \t319.44* \tSoil temperature  \n",
    "SoilTMP40_100cm_inst \tK \t232.97* \t316.2* \tSoil temperature  \n",
    "SoilTMP100_200cm_inst \tK \t238.52* \t314.11* \tSoil temperature  \n",
    "Swnet_tavg \tW/m^2 \t-48.96* \t23741.3* \tNet short wave radiation flux  \n",
    "Tair_f_inst \tK \t206.8* \t327.66* \tAir temperature  \n",
    "Tveg_tavg \tW/m^2 \t0* \t3455.14* \tTranspiration  \n",
    "Wind_f_inst \tm/s \t0* \t57.7* \tWind speed  "
   ]
  },
  {
   "cell_type": "code",
   "execution_count": 117,
   "metadata": {
    "collapsed": true,
    "jupyter": {
     "outputs_hidden": true
    }
   },
   "outputs": [
    {
     "name": "stdout",
     "output_type": "stream",
     "text": [
      "       Albedo_inst  AvgSurfT_inst  CanopInt_inst  ECanop_tavg  ESoil_tavg  \\\n",
      "0        18.654666     276.434928       0.500000     0.021333    0.106667   \n",
      "1        18.295333     275.910063       0.500000     0.312000    1.216000   \n",
      "2        18.009334     274.747996       0.500000     0.720000    2.054000   \n",
      "3        17.810000     274.429401       0.500000     1.174000    2.994000   \n",
      "4        17.589334     274.064178       0.500000     2.556000    6.764000   \n",
      "...            ...            ...            ...          ...         ...   \n",
      "21659    14.991332     297.552580       0.074200    58.954668   11.366667   \n",
      "21660    14.989332     300.181974       0.057267     5.670667   18.089333   \n",
      "21661    14.987332     298.798342       0.039933     4.233333   18.333333   \n",
      "21662    14.987332     294.105664       0.030400     2.062667    8.454667   \n",
      "21663    14.987332     288.016943       0.027400     0.885333    0.242667   \n",
      "\n",
      "          Evap_tavg  LWdown_f_tavg  Lwnet_tavg  PotEvap_tavg   Psurf_f_inst  \\\n",
      "0     -6.232064e-07     332.947982    1.321034     -1.480917   97462.631250   \n",
      "1      5.843053e-07     327.792704   -1.920986      3.575586   97502.276563   \n",
      "2      1.656424e-06     318.132202   -6.530805     10.709943   97519.432292   \n",
      "3      2.542933e-06     313.823411   -7.187919     16.935998   97674.820312   \n",
      "4      5.548394e-06     311.103798   -9.035835     35.005207   97810.567708   \n",
      "...             ...            ...         ...           ...            ...   \n",
      "21659  4.730488e-05     331.332310  -90.337035    248.301225  100656.194271   \n",
      "21660  6.685185e-05     352.988639  -95.001555    416.618229  100632.565625   \n",
      "21661  6.991881e-05     352.209397  -99.647721    452.468610  100492.971875   \n",
      "21662  3.288635e-05     343.281150  -88.874154    242.331561  100482.933854   \n",
      "21663  1.154164e-06     346.430164  -51.781620     56.275344  100520.379687   \n",
      "\n",
      "       ...  SoilTMP10_40cm_inst  SoilTMP40_100cm_inst  Swnet_tavg  \\\n",
      "0      ...           274.232076            275.191036    0.000000   \n",
      "1      ...           274.260559            275.183702    0.000000   \n",
      "2      ...           274.262970            275.183702    0.000000   \n",
      "3      ...           274.235878            275.183702    4.054667   \n",
      "4      ...           274.196338            275.178455   37.830001   \n",
      "...    ...                  ...                   ...         ...   \n",
      "21659  ...           289.555027            287.660232  383.243329   \n",
      "21660  ...           289.802472            287.660415  539.152665   \n",
      "21661  ...           290.156649            287.679913  520.035327   \n",
      "21662  ...           290.361635            287.710101  251.819332   \n",
      "21663  ...           290.254647            287.740283   17.449333   \n",
      "\n",
      "       Tair_f_inst   Tveg_tavg  Wind_f_inst                 date  year  month  \\\n",
      "0       277.612260    0.000000     2.840392  2010-01-01 00:00:00  2010     01   \n",
      "1       276.241168    0.000000     4.071083  2010-01-01 03:00:00  2010     01   \n",
      "2       274.543225    0.000000     2.733263  2010-01-01 06:00:00  2010     01   \n",
      "3       274.299685    0.000000     4.024107  2010-01-01 09:00:00  2010     01   \n",
      "4       273.350199    0.000000     4.183486  2010-01-01 12:00:00  2010     01   \n",
      "...            ...         ...          ...                  ...   ...    ...   \n",
      "21659   292.683065   47.657334     1.246009  2017-05-31 09:00:00  2017     05   \n",
      "21660   294.984084  142.972666     1.845000  2017-05-31 12:00:00  2017     05   \n",
      "21661   295.338267  151.856664     3.102500  2017-05-31 15:00:00  2017     05   \n",
      "21662   293.251487   71.618667     1.194572  2017-05-31 18:00:00  2017     05   \n",
      "21663   288.006818    1.914000     1.960000  2017-05-31 21:00:00  2017     05   \n",
      "\n",
      "       yearMonth  \n",
      "0         201001  \n",
      "1         201001  \n",
      "2         201001  \n",
      "3         201001  \n",
      "4         201001  \n",
      "...          ...  \n",
      "21659     201705  \n",
      "21660     201705  \n",
      "21661     201705  \n",
      "21662     201705  \n",
      "21663     201705  \n",
      "\n",
      "[21664 rows x 40 columns]\n"
     ]
    }
   ],
   "source": [
    "#Source Files\n",
    "files = [x for x in os.listdir() if '.csv' in x]\n",
    "#Empty datasets\n",
    "SMOS_ried, chirps_ried,GLDAS_ried = [],[],[]\n",
    "#Iterate through files and sort collections to dataframes\n",
    "for file in files:\n",
    "    if 'chirps' in file:\n",
    "        df = pd.read_csv(file)\n",
    "        chirps_ried.append(df)\n",
    "    elif 'SMOS' in file:\n",
    "        df = pd.read_csv(file)\n",
    "        SMOS_ried.append(df)\n",
    "    elif 'GLDAS' in file:\n",
    "        df = pd.read_csv(file)\n",
    "        GLDAS_ried.append(df)\n",
    "\n",
    "# Create Dataframes for 2010-2019\n",
    "SMOS_ried = pd.concat(SMOS_ried,ignore_index=True) #smp, ssm, ssma, susm, susma\n",
    "chirps_ried = pd.concat(chirps_ried,ignore_index=True) \n",
    "GLDAS_ried = pd.concat(GLDAS_ried, ignore_index=True)\n",
    "data_files = [SMOS_ried,chirps_ried,GLDAS_ried]\n",
    "#Create statistical or categorigal columns\n",
    "for data in data_files:\n",
    "    data = create_gr_date(data)\n"
   ]
  },
  {
   "cell_type": "markdown",
   "metadata": {},
   "source": [
    "# Charting"
   ]
  },
  {
   "cell_type": "markdown",
   "metadata": {},
   "source": [
    "## Hessisches Ried \n",
    "Reduce data to overall mean per image. Data used: (SMOS 25km, chrisp 5km,GLDAS )"
   ]
  },
  {
   "cell_type": "code",
   "execution_count": null,
   "metadata": {},
   "outputs": [],
   "source": []
  },
  {
   "cell_type": "code",
   "execution_count": 207,
   "metadata": {},
   "outputs": [
    {
     "ename": "MaxRowsError",
     "evalue": "The number of rows in your dataset is greater than the maximum allowed (5000). For information on how to plot larger datasets in Altair, see the documentation",
     "output_type": "error",
     "traceback": [
      "\u001b[1;31m---------------------------------------------------------------------------\u001b[0m",
      "\u001b[1;31mMaxRowsError\u001b[0m                              Traceback (most recent call last)",
      "\u001b[1;32m~\\Anaconda2\\envs\\foam\\lib\\site-packages\\altair\\vegalite\\v3\\api.py\u001b[0m in \u001b[0;36mto_dict\u001b[1;34m(self, *args, **kwargs)\u001b[0m\n\u001b[0;32m    363\u001b[0m         \u001b[0mcopy\u001b[0m \u001b[1;33m=\u001b[0m \u001b[0mself\u001b[0m\u001b[1;33m.\u001b[0m\u001b[0mcopy\u001b[0m\u001b[1;33m(\u001b[0m\u001b[0mdeep\u001b[0m\u001b[1;33m=\u001b[0m\u001b[1;32mFalse\u001b[0m\u001b[1;33m)\u001b[0m\u001b[1;33m\u001b[0m\u001b[1;33m\u001b[0m\u001b[0m\n\u001b[0;32m    364\u001b[0m         \u001b[0moriginal_data\u001b[0m \u001b[1;33m=\u001b[0m \u001b[0mgetattr\u001b[0m\u001b[1;33m(\u001b[0m\u001b[0mcopy\u001b[0m\u001b[1;33m,\u001b[0m \u001b[1;34m'data'\u001b[0m\u001b[1;33m,\u001b[0m \u001b[0mUndefined\u001b[0m\u001b[1;33m)\u001b[0m\u001b[1;33m\u001b[0m\u001b[1;33m\u001b[0m\u001b[0m\n\u001b[1;32m--> 365\u001b[1;33m         \u001b[0mcopy\u001b[0m\u001b[1;33m.\u001b[0m\u001b[0mdata\u001b[0m \u001b[1;33m=\u001b[0m \u001b[0m_prepare_data\u001b[0m\u001b[1;33m(\u001b[0m\u001b[0moriginal_data\u001b[0m\u001b[1;33m,\u001b[0m \u001b[0mcontext\u001b[0m\u001b[1;33m)\u001b[0m\u001b[1;33m\u001b[0m\u001b[1;33m\u001b[0m\u001b[0m\n\u001b[0m\u001b[0;32m    366\u001b[0m \u001b[1;33m\u001b[0m\u001b[0m\n\u001b[0;32m    367\u001b[0m         \u001b[1;32mif\u001b[0m \u001b[0moriginal_data\u001b[0m \u001b[1;32mis\u001b[0m \u001b[1;32mnot\u001b[0m \u001b[0mUndefined\u001b[0m\u001b[1;33m:\u001b[0m\u001b[1;33m\u001b[0m\u001b[1;33m\u001b[0m\u001b[0m\n",
      "\u001b[1;32m~\\Anaconda2\\envs\\foam\\lib\\site-packages\\altair\\vegalite\\v3\\api.py\u001b[0m in \u001b[0;36m_prepare_data\u001b[1;34m(data, context)\u001b[0m\n\u001b[0;32m     82\u001b[0m     \u001b[1;31m# convert dataframes to dict\u001b[0m\u001b[1;33m\u001b[0m\u001b[1;33m\u001b[0m\u001b[1;33m\u001b[0m\u001b[0m\n\u001b[0;32m     83\u001b[0m     \u001b[1;32mif\u001b[0m \u001b[0misinstance\u001b[0m\u001b[1;33m(\u001b[0m\u001b[0mdata\u001b[0m\u001b[1;33m,\u001b[0m \u001b[0mpd\u001b[0m\u001b[1;33m.\u001b[0m\u001b[0mDataFrame\u001b[0m\u001b[1;33m)\u001b[0m\u001b[1;33m:\u001b[0m\u001b[1;33m\u001b[0m\u001b[1;33m\u001b[0m\u001b[0m\n\u001b[1;32m---> 84\u001b[1;33m         \u001b[0mdata\u001b[0m \u001b[1;33m=\u001b[0m \u001b[0mpipe\u001b[0m\u001b[1;33m(\u001b[0m\u001b[0mdata\u001b[0m\u001b[1;33m,\u001b[0m \u001b[0mdata_transformers\u001b[0m\u001b[1;33m.\u001b[0m\u001b[0mget\u001b[0m\u001b[1;33m(\u001b[0m\u001b[1;33m)\u001b[0m\u001b[1;33m)\u001b[0m\u001b[1;33m\u001b[0m\u001b[1;33m\u001b[0m\u001b[0m\n\u001b[0m\u001b[0;32m     85\u001b[0m \u001b[1;33m\u001b[0m\u001b[0m\n\u001b[0;32m     86\u001b[0m     \u001b[1;31m# convert string input to a URLData\u001b[0m\u001b[1;33m\u001b[0m\u001b[1;33m\u001b[0m\u001b[1;33m\u001b[0m\u001b[0m\n",
      "\u001b[1;32m~\\Anaconda2\\envs\\foam\\lib\\site-packages\\toolz\\functoolz.py\u001b[0m in \u001b[0;36mpipe\u001b[1;34m(data, *funcs)\u001b[0m\n\u001b[0;32m    632\u001b[0m     \"\"\"\n\u001b[0;32m    633\u001b[0m     \u001b[1;32mfor\u001b[0m \u001b[0mfunc\u001b[0m \u001b[1;32min\u001b[0m \u001b[0mfuncs\u001b[0m\u001b[1;33m:\u001b[0m\u001b[1;33m\u001b[0m\u001b[1;33m\u001b[0m\u001b[0m\n\u001b[1;32m--> 634\u001b[1;33m         \u001b[0mdata\u001b[0m \u001b[1;33m=\u001b[0m \u001b[0mfunc\u001b[0m\u001b[1;33m(\u001b[0m\u001b[0mdata\u001b[0m\u001b[1;33m)\u001b[0m\u001b[1;33m\u001b[0m\u001b[1;33m\u001b[0m\u001b[0m\n\u001b[0m\u001b[0;32m    635\u001b[0m     \u001b[1;32mreturn\u001b[0m \u001b[0mdata\u001b[0m\u001b[1;33m\u001b[0m\u001b[1;33m\u001b[0m\u001b[0m\n\u001b[0;32m    636\u001b[0m \u001b[1;33m\u001b[0m\u001b[0m\n",
      "\u001b[1;32m~\\Anaconda2\\envs\\foam\\lib\\site-packages\\toolz\\functoolz.py\u001b[0m in \u001b[0;36m__call__\u001b[1;34m(self, *args, **kwargs)\u001b[0m\n\u001b[0;32m    301\u001b[0m     \u001b[1;32mdef\u001b[0m \u001b[0m__call__\u001b[0m\u001b[1;33m(\u001b[0m\u001b[0mself\u001b[0m\u001b[1;33m,\u001b[0m \u001b[1;33m*\u001b[0m\u001b[0margs\u001b[0m\u001b[1;33m,\u001b[0m \u001b[1;33m**\u001b[0m\u001b[0mkwargs\u001b[0m\u001b[1;33m)\u001b[0m\u001b[1;33m:\u001b[0m\u001b[1;33m\u001b[0m\u001b[1;33m\u001b[0m\u001b[0m\n\u001b[0;32m    302\u001b[0m         \u001b[1;32mtry\u001b[0m\u001b[1;33m:\u001b[0m\u001b[1;33m\u001b[0m\u001b[1;33m\u001b[0m\u001b[0m\n\u001b[1;32m--> 303\u001b[1;33m             \u001b[1;32mreturn\u001b[0m \u001b[0mself\u001b[0m\u001b[1;33m.\u001b[0m\u001b[0m_partial\u001b[0m\u001b[1;33m(\u001b[0m\u001b[1;33m*\u001b[0m\u001b[0margs\u001b[0m\u001b[1;33m,\u001b[0m \u001b[1;33m**\u001b[0m\u001b[0mkwargs\u001b[0m\u001b[1;33m)\u001b[0m\u001b[1;33m\u001b[0m\u001b[1;33m\u001b[0m\u001b[0m\n\u001b[0m\u001b[0;32m    304\u001b[0m         \u001b[1;32mexcept\u001b[0m \u001b[0mTypeError\u001b[0m \u001b[1;32mas\u001b[0m \u001b[0mexc\u001b[0m\u001b[1;33m:\u001b[0m\u001b[1;33m\u001b[0m\u001b[1;33m\u001b[0m\u001b[0m\n\u001b[0;32m    305\u001b[0m             \u001b[1;32mif\u001b[0m \u001b[0mself\u001b[0m\u001b[1;33m.\u001b[0m\u001b[0m_should_curry\u001b[0m\u001b[1;33m(\u001b[0m\u001b[0margs\u001b[0m\u001b[1;33m,\u001b[0m \u001b[0mkwargs\u001b[0m\u001b[1;33m,\u001b[0m \u001b[0mexc\u001b[0m\u001b[1;33m)\u001b[0m\u001b[1;33m:\u001b[0m\u001b[1;33m\u001b[0m\u001b[1;33m\u001b[0m\u001b[0m\n",
      "\u001b[1;32m~\\Anaconda2\\envs\\foam\\lib\\site-packages\\altair\\vegalite\\data.py\u001b[0m in \u001b[0;36mdefault_data_transformer\u001b[1;34m(data, max_rows)\u001b[0m\n\u001b[0;32m     11\u001b[0m \u001b[1;33m@\u001b[0m\u001b[0mcurry\u001b[0m\u001b[1;33m\u001b[0m\u001b[1;33m\u001b[0m\u001b[0m\n\u001b[0;32m     12\u001b[0m \u001b[1;32mdef\u001b[0m \u001b[0mdefault_data_transformer\u001b[0m\u001b[1;33m(\u001b[0m\u001b[0mdata\u001b[0m\u001b[1;33m,\u001b[0m \u001b[0mmax_rows\u001b[0m\u001b[1;33m=\u001b[0m\u001b[1;36m5000\u001b[0m\u001b[1;33m)\u001b[0m\u001b[1;33m:\u001b[0m\u001b[1;33m\u001b[0m\u001b[1;33m\u001b[0m\u001b[0m\n\u001b[1;32m---> 13\u001b[1;33m     \u001b[1;32mreturn\u001b[0m \u001b[0mpipe\u001b[0m\u001b[1;33m(\u001b[0m\u001b[0mdata\u001b[0m\u001b[1;33m,\u001b[0m \u001b[0mlimit_rows\u001b[0m\u001b[1;33m(\u001b[0m\u001b[0mmax_rows\u001b[0m\u001b[1;33m=\u001b[0m\u001b[0mmax_rows\u001b[0m\u001b[1;33m)\u001b[0m\u001b[1;33m,\u001b[0m \u001b[0mto_values\u001b[0m\u001b[1;33m)\u001b[0m\u001b[1;33m\u001b[0m\u001b[1;33m\u001b[0m\u001b[0m\n\u001b[0m\u001b[0;32m     14\u001b[0m \u001b[1;33m\u001b[0m\u001b[0m\n\u001b[0;32m     15\u001b[0m \u001b[1;33m\u001b[0m\u001b[0m\n",
      "\u001b[1;32m~\\Anaconda2\\envs\\foam\\lib\\site-packages\\toolz\\functoolz.py\u001b[0m in \u001b[0;36mpipe\u001b[1;34m(data, *funcs)\u001b[0m\n\u001b[0;32m    632\u001b[0m     \"\"\"\n\u001b[0;32m    633\u001b[0m     \u001b[1;32mfor\u001b[0m \u001b[0mfunc\u001b[0m \u001b[1;32min\u001b[0m \u001b[0mfuncs\u001b[0m\u001b[1;33m:\u001b[0m\u001b[1;33m\u001b[0m\u001b[1;33m\u001b[0m\u001b[0m\n\u001b[1;32m--> 634\u001b[1;33m         \u001b[0mdata\u001b[0m \u001b[1;33m=\u001b[0m \u001b[0mfunc\u001b[0m\u001b[1;33m(\u001b[0m\u001b[0mdata\u001b[0m\u001b[1;33m)\u001b[0m\u001b[1;33m\u001b[0m\u001b[1;33m\u001b[0m\u001b[0m\n\u001b[0m\u001b[0;32m    635\u001b[0m     \u001b[1;32mreturn\u001b[0m \u001b[0mdata\u001b[0m\u001b[1;33m\u001b[0m\u001b[1;33m\u001b[0m\u001b[0m\n\u001b[0;32m    636\u001b[0m \u001b[1;33m\u001b[0m\u001b[0m\n",
      "\u001b[1;32m~\\Anaconda2\\envs\\foam\\lib\\site-packages\\toolz\\functoolz.py\u001b[0m in \u001b[0;36m__call__\u001b[1;34m(self, *args, **kwargs)\u001b[0m\n\u001b[0;32m    301\u001b[0m     \u001b[1;32mdef\u001b[0m \u001b[0m__call__\u001b[0m\u001b[1;33m(\u001b[0m\u001b[0mself\u001b[0m\u001b[1;33m,\u001b[0m \u001b[1;33m*\u001b[0m\u001b[0margs\u001b[0m\u001b[1;33m,\u001b[0m \u001b[1;33m**\u001b[0m\u001b[0mkwargs\u001b[0m\u001b[1;33m)\u001b[0m\u001b[1;33m:\u001b[0m\u001b[1;33m\u001b[0m\u001b[1;33m\u001b[0m\u001b[0m\n\u001b[0;32m    302\u001b[0m         \u001b[1;32mtry\u001b[0m\u001b[1;33m:\u001b[0m\u001b[1;33m\u001b[0m\u001b[1;33m\u001b[0m\u001b[0m\n\u001b[1;32m--> 303\u001b[1;33m             \u001b[1;32mreturn\u001b[0m \u001b[0mself\u001b[0m\u001b[1;33m.\u001b[0m\u001b[0m_partial\u001b[0m\u001b[1;33m(\u001b[0m\u001b[1;33m*\u001b[0m\u001b[0margs\u001b[0m\u001b[1;33m,\u001b[0m \u001b[1;33m**\u001b[0m\u001b[0mkwargs\u001b[0m\u001b[1;33m)\u001b[0m\u001b[1;33m\u001b[0m\u001b[1;33m\u001b[0m\u001b[0m\n\u001b[0m\u001b[0;32m    304\u001b[0m         \u001b[1;32mexcept\u001b[0m \u001b[0mTypeError\u001b[0m \u001b[1;32mas\u001b[0m \u001b[0mexc\u001b[0m\u001b[1;33m:\u001b[0m\u001b[1;33m\u001b[0m\u001b[1;33m\u001b[0m\u001b[0m\n\u001b[0;32m    305\u001b[0m             \u001b[1;32mif\u001b[0m \u001b[0mself\u001b[0m\u001b[1;33m.\u001b[0m\u001b[0m_should_curry\u001b[0m\u001b[1;33m(\u001b[0m\u001b[0margs\u001b[0m\u001b[1;33m,\u001b[0m \u001b[0mkwargs\u001b[0m\u001b[1;33m,\u001b[0m \u001b[0mexc\u001b[0m\u001b[1;33m)\u001b[0m\u001b[1;33m:\u001b[0m\u001b[1;33m\u001b[0m\u001b[1;33m\u001b[0m\u001b[0m\n",
      "\u001b[1;32m~\\Anaconda2\\envs\\foam\\lib\\site-packages\\altair\\utils\\data.py\u001b[0m in \u001b[0;36mlimit_rows\u001b[1;34m(data, max_rows)\u001b[0m\n\u001b[0;32m     70\u001b[0m                            \u001b[1;34m'than the maximum allowed ({}). '\u001b[0m\u001b[1;33m\u001b[0m\u001b[1;33m\u001b[0m\u001b[0m\n\u001b[0;32m     71\u001b[0m                            \u001b[1;34m'For information on how to plot larger datasets '\u001b[0m\u001b[1;33m\u001b[0m\u001b[1;33m\u001b[0m\u001b[0m\n\u001b[1;32m---> 72\u001b[1;33m                            'in Altair, see the documentation'.format(max_rows))\n\u001b[0m\u001b[0;32m     73\u001b[0m     \u001b[1;32mreturn\u001b[0m \u001b[0mdata\u001b[0m\u001b[1;33m\u001b[0m\u001b[1;33m\u001b[0m\u001b[0m\n\u001b[0;32m     74\u001b[0m \u001b[1;33m\u001b[0m\u001b[0m\n",
      "\u001b[1;31mMaxRowsError\u001b[0m: The number of rows in your dataset is greater than the maximum allowed (5000). For information on how to plot larger datasets in Altair, see the documentation"
     ]
    },
    {
     "data": {
      "text/plain": [
       "alt.Chart(...)"
      ]
     },
     "execution_count": 207,
     "metadata": {},
     "output_type": "execute_result"
    }
   ],
   "source": [
    "chart1 = chart_line(df=SMOS_ried,y='ssm:Q',y_title='surface soil-moisture (mm)', x='date:T',x_title='',format_x='',format_y='',color='blue',title='Surface Soil Moisture - Hessisches Ried (2010-2019)' ,width=1900,grid=False)\n",
    "chart2 = chart_bar(df=chirps_ried,y='precipitation:Q',y_title='precipitation (mm)', x='date:T',x_title='',format_x='',format_y='',color='blue',title='Precipitation from chirps model - Hessisches Ried (2010-2019)' ,width=1900,grid=False)\n",
    "chart3 = chart_bar(df=GLDAS_ried,y='AvgSurfT_inst:Q',y_title='AvgSurfT_inst (K)', x='average(date):T',x_title='',format_x='',format_y='',color='blue',title='AvgSurfT_inst from GLDAS 2.1 - Hessisches Ried (2010-2019)' ,width=1900,grid=False)\n",
    "\n",
    "chart3\n",
    "#chart2+chart1"
   ]
  },
  {
   "cell_type": "code",
   "execution_count": null,
   "metadata": {
    "collapsed": true,
    "jupyter": {
     "outputs_hidden": true
    }
   },
   "outputs": [],
   "source": [
    "chart \n",
    "\n",
    "chart_sm = alt.Chart(sm_point1).mark_point().encode(x='date', y= 'smp')\n",
    "chart_pp = alt.Chart(rad_point1).mark_point().encode(x='date', y='mean')\n",
    "#alt.vconcat(chart_sm, chart_pp)\n",
    "chart_sm + chart_pp\n",
    "\n",
    "#Chart_SMOS = alt.Chart(SMOS_ried,width=1920).encode(x='date:T', y='smp:Q')\n",
    "#Chart_SMOS.mark_line() + Chart_SMOS.mark_point() \n",
    "#alt.layer(Chart_SMOS.mark_line(),Chart_SMOS.mark_point(),Chart_SMOS.mark_rule(color='blue'))\n",
    "#Chart_SMOS = alt.Chart(SMOS_ried,width=1920).mark_line().encode(x='yearmonth(date):T', y='average(smp):Q') #Seasonal trends aggregate yearmonth\n",
    "#Chart_SMOS = alt.Chart(SMOS_ried,width=600).mark_bar().encode(y='yearmonth(date):T', x='average(smp):Q') \n",
    "#Chart_SMOS = alt.Chart(SMOS_ried,width=600).mark_bar().encode(y='yearmonth(date):T', x='average(smp):Q').interactive()\n",
    "#Chart_SMOS = alt.Chart(SMOS_ried).mark_point().encode(x='date:T', y='smp:Q', column='year(date):T')\n",
    "#Chart_SMOS"
   ]
  }
 ],
 "metadata": {
  "kernelspec": {
   "display_name": "Python 3",
   "language": "python",
   "name": "python3"
  },
  "language_info": {
   "codemirror_mode": {
    "name": "ipython",
    "version": 3
   },
   "file_extension": ".py",
   "mimetype": "text/x-python",
   "name": "python",
   "nbconvert_exporter": "python",
   "pygments_lexer": "ipython3",
   "version": "3.7.3"
  }
 },
 "nbformat": 4,
 "nbformat_minor": 4
}
